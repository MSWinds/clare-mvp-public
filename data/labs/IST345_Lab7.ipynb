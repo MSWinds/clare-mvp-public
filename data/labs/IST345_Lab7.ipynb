{
 "cells": [
  {
   "cell_type": "markdown",
   "metadata": {},
   "source": [
    "# Lab 7: Building an Agentic RAG Workflow with LangGraph"
   ]
  },
  {
   "cell_type": "markdown",
   "metadata": {},
   "source": [
    "This lab guides you through the design and implementation of a modular, agentic Retrieval-Augmented Generation (RAG) system using LangGraph. \n",
    "\n",
    "![Workflow](https://i.imgur.com/gHOMuWs.png)\n",
    "\n",
    "**Core Features Implemented**\n",
    "- Multi-Agent Collaboration\n",
    "  \n",
    "  Specialized agents (e.g., Query Router, Answer Generator, Verifier) work together to deliver robust, high-quality responses.\n",
    "\n",
    "- Adaptive Retrieval Routing\n",
    "\n",
    "  Inspired by Adaptive RAG, the system dynamically selects between vectorstore, web search, or fallback dialogue based on the question’s intent.\n",
    "\n",
    "- Fallback Mechanism (Corrective RAG)\n",
    "  \n",
    "  Based on Corrective RAG, the system falls back to web search if retrieved documents are weak or irrelevant.\n",
    "\n",
    "- Self-Correction & Reflection\n",
    "  \n",
    "  Following Self-RAG, the system performs hallucination detection and answer usefulness checks, triggering retries or rewrites when needed.\n",
    "\n",
    "- Performance Considerations\n",
    "\n",
    "  - Efficiency: Uses async document grading to speed up multi-query retrieval.\n",
    "  - Failure Handling: Implements structured retry logic with maximum retry limits.\n",
    "\n",
    "The lab consists of three main phases: \n",
    "1. Define Agent Functions. \n",
    "2. Build the Workflow with LangGraph.  \n",
    "3. Run the Workflow. "
   ]
  },
  {
   "cell_type": "code",
   "execution_count": null,
   "metadata": {},
   "outputs": [
    {
     "name": "stdout",
     "output_type": "stream",
     "text": [
      "\n",
      "\u001b[1m[\u001b[0m\u001b[34;49mnotice\u001b[0m\u001b[1;39;49m]\u001b[0m\u001b[39;49m A new release of pip is available: \u001b[0m\u001b[31;49m23.0.1\u001b[0m\u001b[39;49m -> \u001b[0m\u001b[32;49m25.0.1\u001b[0m\n",
      "\u001b[1m[\u001b[0m\u001b[34;49mnotice\u001b[0m\u001b[1;39;49m]\u001b[0m\u001b[39;49m To update, run: \u001b[0m\u001b[32;49mpip install --upgrade pip\u001b[0m\n",
      "Note: you may need to restart the kernel to use updated packages.\n"
     ]
    }
   ],
   "source": [
    "# %pip install -Uq langchain langchain_community langgraph"
   ]
  },
  {
   "cell_type": "code",
   "execution_count": 4,
   "metadata": {},
   "outputs": [],
   "source": [
    "# Environment Configuration\n",
    "from dotenv import load_dotenv  \n",
    "import os\n",
    "from sqlalchemy.engine.url import make_url # Used to parse and construct database URLs\n",
    "from langchain_postgres.vectorstores import PGVector # Integration with Postgres + pgvector for vector storage\n",
    "\n",
    "# LLM and Core LangChain Tools\n",
    "from langchain_openai import OpenAIEmbeddings\n",
    "from langchain_openai import ChatOpenAI\n",
    "\n",
    "from langchain_core.messages import HumanMessage, SystemMessage\n",
    "from langchain.load import dumps, loads  # Serialize/deserialize LangChain objects\n",
    "from langchain_core.prompts import PromptTemplate\n",
    "from langchain_core.output_parsers import StrOutputParser \n",
    "from langchain_core.documents import Document # # Standard document format used in LangChain pipelines\n",
    "\n",
    "from typing_extensions import TypedDict # Define structured types for state management\n",
    "from typing import List  # Specify types for list inputs or outputs\n",
    "import asyncio # Support asynchronous execution for parallel LLM calls\n",
    "\n",
    "from langgraph.graph import StateGraph, END # LangGraph tools to define stateful workflows \n",
    "\n",
    "# Visualization and Display Utilities\n",
    "import textwrap\n",
    "from IPython.display import Markdown, Image\n",
    "from pprint import pprint\n",
    "\n",
    "# Web Search Tool\n",
    "from langchain_community.tools.tavily_search import TavilySearchResults"
   ]
  },
  {
   "cell_type": "code",
   "execution_count": 2,
   "metadata": {},
   "outputs": [
    {
     "name": "stdout",
     "output_type": "stream",
     "text": [
      "All environment variables loaded successfully\n"
     ]
    }
   ],
   "source": [
    "# Load environment variables from .env file\n",
    "load_dotenv()\n",
    "\n",
    "# Access the environment variable\n",
    "openai_api_key = os.getenv(\"OPENAI_API_KEY\")\n",
    "connection_string = os.getenv(\"DB_CONNECTION\")\n",
    "tavily_api_key =os.getenv(\"TAVILY_API_KEY\")\n",
    "\n",
    "# Configure Database Connection\n",
    "# Use the same shared table as from the last lab\n",
    "shared_connection_string = make_url(connection_string)\\\n",
    "    .set(database=\"IST345_Drucker_data\").render_as_string(hide_password=False) # Leave password visible for local testing\n",
    "\n",
    "# Initialize the embedding model\n",
    "embedding_model = OpenAIEmbeddings(model=\"text-embedding-3-large\")\n",
    "\n",
    "# Quick check environment variables\n",
    "if not openai_api_key or not shared_connection_string or not tavily_api_key or not embedding_model:\n",
    "    print(f\"Error: Missing one or more required environment variables\") # If so, print out your key to check\n",
    "else:\n",
    "    print(\"All environment variables loaded successfully\")"
   ]
  },
  {
   "cell_type": "code",
   "execution_count": 4,
   "metadata": {},
   "outputs": [],
   "source": [
    "# Main LLM for handling complex or creative tasks\n",
    "llm_gpt = ChatOpenAI(\n",
    "    model=\"gpt-4o\", # GPT-4o is a powerful model with strong reasoning capabilities\n",
    "    temperature=0.7,\n",
    "    api_key = openai_api_key\n",
    ")\n",
    "\n",
    "# Lightweight LLM for simple or deterministic tasks\n",
    "llm_gpt_mini = ChatOpenAI(\n",
    "    model=\"gpt-4o-mini\",    #  Smaller, faster variant for lightweight tasks\n",
    "    temperature=0,          # Temperature 0 = fully deterministic output\n",
    "    api_key = openai_api_key\n",
    ")\n",
    "\n",
    "# Connect to the PGVector Vector Store that contains book data.\n",
    "book_data_vector_store = PGVector(\n",
    "    embeddings = embedding_model,   \n",
    "    collection_name = \"Book_data\",   # Name of the collection/table in the vector DB\n",
    "    connection=shared_connection_string, # Use shared DB connection from earlier\n",
    "    use_jsonb=True, \n",
    ")"
   ]
  },
  {
   "cell_type": "markdown",
   "metadata": {},
   "source": [
    "## 1\\. Define Agents\n",
    "In this section, we define the different agents used in the workflow. "
   ]
  },
  {
   "cell_type": "markdown",
   "metadata": {},
   "source": [
    "### 1\\.1 Query Router Agent\n",
    "The Query Router is an LLM-powered decision-making agent that analyzes a user’s question and determines the most appropriate information source to handle it.\n",
    "\n",
    "It uses a structured prompt to classify the query into one of three categories:\n",
    "1. A vector search for questions answerable by the existing content in our Drucker book collection.\n",
    "2. A web search for in-scope questions that require more factual, comprehensive, or real-time information.\n",
    "3. A fallback \"Chitter-Chatter\" agent for out-of-scope question. "
   ]
  },
  {
   "cell_type": "code",
   "execution_count": 5,
   "metadata": {},
   "outputs": [],
   "source": [
    "# Define the routing prompt\n",
    "query_router_prompt_template = PromptTemplate.from_template(\"\"\"\n",
    "You are an expert at analyzing user question and deciding which data source is best suited to answer them. You must choose **one** of the following options:\n",
    "\n",
    "1. **Vectorstore**: Use this if the question can be answered by the **existing** content in the vectorstore. \n",
    "   The vectorstore contains information about **{vectorstore_content_summary}**.\n",
    "                                                            \n",
    "---                                                         \n",
    "                                                                                                                          \n",
    "2. **Websearch**: Use this if the question is **within scope** (see below) but meets **any** of the following criteria:\n",
    "    - The answer **cannot** be found in the local vectorstore\n",
    "    - The question requires **more detailed or factual information** than what's available in the books (e.g. exact birth date, current events or references)\n",
    "    - The topic is **time-sensitive** , **current**, or depends on recent events or updates    \n",
    "                                                                                                                \n",
    "---                                                         \n",
    "                                                              \n",
    "3. **Chitter-Chatter**: Use this if the question:\n",
    "   - Is **not related** to the scope below, or\n",
    "   - Is too **broad, casual, or off-topic** to be answered using vectorstore or websearch.\n",
    "   \n",
    "   Chitter-Chatter is a fallback agent that gives a friendly response and a follow-up to guide users back to relevant topics.\n",
    "                                                            \n",
    "---\n",
    "                                                            \n",
    "Scope Definition:\n",
    "Relevant questions are those related to **{relevant_scope}**\n",
    "\n",
    "---                                                        \n",
    "\n",
    "Your Task:\n",
    "Analyze the user's question. Return a JSON object with one key `\"Datasource\"` and one value: `\"Vectorstore\"`, `\"Websearch\"`, or `\"Chitter-Chatter\"`.\n",
    "\n",
    "\"\"\")\n",
    "\n",
    "# Define a summary of what's in the vectorstore\n",
    "# This helps the LLM understand what kind of information is already available.\n",
    "# It gets embedded into the prompt above dynamically.\n",
    "vectorstore_content_summary = \"\"\"\n",
    "Peter Drucker's \"The Daily Drucker\" (2004) provides 366 daily insights and actionable advice on management, leadership, and innovation, \n",
    "serving as a practical guide for personal and professional growth. \"The Effective Executive\" (2002) emphasizes the habits and practices that \n",
    "enable executives to achieve effectiveness, focusing on time management, prioritization, and decision-making. \"The Essential Drucker\" (2008) \n",
    "is a curated collection of Drucker's foundational principles on management, strategy, and leadership, offering timeless guidance for navigating \n",
    "complex business environments. These books collectively address key aspects of effective management and leadership, making them valuable \n",
    "resources for understanding organizational dynamics and personal productivity.\n",
    "\"\"\"\n",
    "\n",
    "# Define the topical scope of the system\n",
    "# This defines what topics are considered \"in-scope\" for this assistant or application.\n",
    "# It also gets embedded into the prompt above dynamically.\n",
    "relevant_scope = \"\"\"Peter Drucker-related topics, including his management philosophy, leadership principles, innovation strategies, \n",
    "and their applications in modern business contexts\"\"\"\n",
    "\n",
    "# Format the prompt using the content summary and scope\n",
    "# The final formatted prompt is what will be sent to the LLM to determine routing.\n",
    "query_router_prompt = query_router_prompt_template.format(\n",
    "    relevant_scope = relevant_scope,\n",
    "    vectorstore_content_summary = vectorstore_content_summary\n",
    ")"
   ]
  },
  {
   "cell_type": "code",
   "execution_count": 6,
   "metadata": {},
   "outputs": [
    {
     "name": "stdout",
     "output_type": "stream",
     "text": [
      "\n",
      "======================================== Testing the Router Prompt ========================================\n",
      "\n",
      "Question: Who is Peter Drucker, and where was he born?\n",
      "Datasource: Websearch\n",
      "--------------------------------------------------\n",
      "Question: What did Drucker say about knowledge workers in the book?\n",
      "Datasource: Vectorstore\n",
      "--------------------------------------------------\n",
      "Question: How are you doing today?\n",
      "Datasource: Chitter-Chatter\n",
      "--------------------------------------------------\n"
     ]
    }
   ],
   "source": [
    "# Test Query Router\n",
    "\n",
    "# Example user questions for testing\n",
    "questions = [\n",
    "    \"Who is Peter Drucker, and where was he born?\",\n",
    "    \"What did Drucker say about knowledge workers in the book?\",\n",
    "    \"How are you doing today?\"\n",
    "]\n",
    "\n",
    "print(f\"\\n{'='*40} Testing the Router Prompt {'='*40}\\n\")\n",
    "\n",
    "# Loop through test questions and print routing decisions\n",
    "for q in questions:\n",
    "    response = llm_gpt.with_structured_output(method=\"json_mode\").invoke(\n",
    "        [SystemMessage(content=query_router_prompt), # Use the formatted routing prompt\n",
    "        HumanMessage(content=q)] # Feed in the user query\n",
    "    )\n",
    "    \n",
    "    # Extract and print the decision\n",
    "    print(f\"Question: {q}\")\n",
    "    print(f\"Datasource: {response['Datasource']}\")\n",
    "    print(\"-\" * 50)"
   ]
  },
  {
   "cell_type": "markdown",
   "metadata": {},
   "source": [
    "### 1\\.2 Document Retriever Agent\n",
    "This agent retrieves relevant documents using a multi-step retrieval strategy:\n",
    "- Multi-query generation: Rewrites the user’s question in different ways to improve recall.\n",
    "- MMR retrieval: Finds diverse, relevant documents for each query variant.\n",
    "- Reciprocal Rank Fusion: Combines and reranks results to prioritize the most consistently relevant documents.\n",
    "\n",
    "The result is a high-quality, reranked list of documents optimized for use in the workflow."
   ]
  },
  {
   "cell_type": "markdown",
   "metadata": {},
   "source": [
    "#### Step 1. Query translation\n",
    "Use an LLM to generate multiple alternative versions of a user query.\n",
    "\n",
    "Because semantic similarity search (in vector DBs) can miss relevant results, we use query translation to improve recall."
   ]
  },
  {
   "cell_type": "code",
   "execution_count": 14,
   "metadata": {},
   "outputs": [],
   "source": [
    "# Define the multi-query generation prompt\n",
    "# The prompt gives the LLM both context about the vectorstore and a specific instruction\n",
    "\n",
    "multi_query_generation_prompt = PromptTemplate.from_template(\"\"\"\n",
    "You are an AI assistant helping improve document retrieval in a vector-based search system.\n",
    "\n",
    "---\n",
    "                                                             \n",
    "**Context about the database**\n",
    "The vectorstore contains the following content:\n",
    "{vectorstore_content_summary}\n",
    "\n",
    "Your goal is to help retrieve **more relevant documents** by rewriting a user's question from multiple angles.\n",
    "This helps compensate for the limitations of semantic similarity in vector search.\n",
    "\n",
    "---\n",
    "\n",
    "**Instructions**:\n",
    "Given the original question and the content summary above:\n",
    "1. Return the **original user question** first.\n",
    "2. Then generate {num_queries} **alternative versions** of the same question.\n",
    "    - Rephrase using different word choices, structure, or focus.\n",
    "    - Use synonyms or shift emphasis slightly, but keep the original meaning.\n",
    "    - Make sure all rewrites are topically relevant to the database content.\n",
    "\n",
    "Format requirements:\n",
    "- Do **not** include bullet points or numbers.\n",
    "- Each version should appear on a **separate newline**.\n",
    "- Return **exactly {num_queries} + 1 total questions** (1 original + {num_queries} new ones).  \n",
    "\n",
    "---                                              \n",
    "\n",
    "**Original user question**: {question}\n",
    "\"\"\")\n",
    "\n",
    "# Create the query generation pipeline\n",
    "multi_query_generator = (\n",
    "    multi_query_generation_prompt   # The prompt defines what the LLM should do\n",
    "    | llm_gpt                       # An LLM generates query variants\n",
    "    | StrOutputParser()             # Parses the raw output as a string\n",
    "    | (lambda x: x.split(\"\\n\"))   # A lambda function to split the result into a list of strings (each query)\n",
    ")"
   ]
  },
  {
   "cell_type": "code",
   "execution_count": 15,
   "metadata": {},
   "outputs": [
    {
     "name": "stdout",
     "output_type": "stream",
     "text": [
      "\n",
      "======================================== Testing the Query Translation Prompt ========================================\n",
      "\n",
      "Original query: What did Drucker say about knowledge workers in the book?  \n",
      "Generated query 1: How does Drucker address the concept of knowledge workers within his writings?  \n",
      "Generated query 2: In his works, what insights does Drucker offer regarding knowledge workers?  \n",
      "Generated query 3: What are Drucker's thoughts on the role of knowledge workers as discussed in his books?  \n"
     ]
    }
   ],
   "source": [
    "# === Test Query Translation ===\n",
    "\n",
    "# Run the query generator with example input\n",
    "test_query_translation = multi_query_generator.invoke(\n",
    "{\"question\":\"What did Drucker say about knowledge workers in the book?\",\n",
    " \"num_queries\":3,   # number of alternative versions to generate\n",
    " \"vectorstore_content_summary\":vectorstore_content_summary\n",
    " })\n",
    "\n",
    "# Print results in a readable format\n",
    "print(f\"\\n{'='*40} Testing the Query Translation Prompt {'='*40}\\n\")\n",
    "\n",
    "for i, query in enumerate(test_query_translation):\n",
    "    if i == 0:\n",
    "        print(f\"Original query: {query}\")\n",
    "    else:\n",
    "        print(f\"Generated query {i}: {query}\")"
   ]
  },
  {
   "cell_type": "markdown",
   "metadata": {},
   "source": [
    "#### Step 2. RAG fusion\n",
    "This section implements a RAG Fusion retrieval strategy that is similar to the Lab 6.\n",
    "\n",
    "Each version of the query from the previous step is used to retrieve documents from the vectorstore using MMR (Maximal Marginal Relevance).\n",
    "\n",
    "Then the results from all query variations are reranked using Reciprocal Rank Fusion. "
   ]
  },
  {
   "cell_type": "code",
   "execution_count": 16,
   "metadata": {},
   "outputs": [],
   "source": [
    "# Reciprocal Rank Fusion (RRF) Implementation \n",
    "def reciprocal_rank_fusion(results, k=60):\n",
    "    fused_scores = {}  # Dictionary to store cumulative RRF scores for each document\n",
    "\n",
    "    # Iterate through each ranked list of documents\n",
    "    for docs in results:\n",
    "        for i, doc in enumerate(docs):\n",
    "            doc_str = dumps(doc)    # Convert document to a string format (JSON) to use as a dictionary key\n",
    "\n",
    "            # Initialize the document's fused score if not already present\n",
    "            if doc_str not in fused_scores:\n",
    "                fused_scores[doc_str] = 0\n",
    "\n",
    "            # Apply RRF scoring: 1 / (rank + k), where rank is 1-based\n",
    "            rank = i + 1  # Adjust rank to start from 1 instead of 0\n",
    "            fused_scores[doc_str] += 1 / (rank + k)\n",
    "\n",
    "    # Sort by cumulative RRF score (descending)\n",
    "    reranked_results = sorted(fused_scores.items(), key=lambda x: x[1], reverse=True)\n",
    "\n",
    "    # Convert JSON strings back to Document objects and store RRF scores in metadata\n",
    "    reranked_documents = []\n",
    "    for doc_str, score in reranked_results:\n",
    "        doc = loads(doc_str)  # Convert back to Document object\n",
    "        doc.metadata[\"rrf_score\"] = score  # Track how the document was ranked\n",
    "        reranked_documents.append(doc)\n",
    "\n",
    "    # Return the list of documents with scores embedded in metadata\n",
    "    return reranked_documents"
   ]
  },
  {
   "cell_type": "code",
   "execution_count": 17,
   "metadata": {},
   "outputs": [],
   "source": [
    "# Define a retrieval chain for Multi-Query RAG fusion\n",
    "\n",
    "retrieval_chain_rag_fusion_mmr = (\n",
    "    multi_query_generator  \n",
    "    | book_data_vector_store.as_retriever(\n",
    "        search_type=\"mmr\", # Use MMR retrieval to enhance diversity in retrieved documents\n",
    "        search_kwargs={\n",
    "            'k': 3,             # Final number of documents to return per query\n",
    "            'fetch_k': 15,      # Initial candidate pool (larger for better diversity)\n",
    "            \"lambda_mult\": 0.5  # Balances relevance (0) and diversity (1)\n",
    "            }\n",
    "            ).map()  # Apply MMR retrieval to each reformulated query \n",
    "    | reciprocal_rank_fusion # Rerank the combined results using RRF\n",
    ")"
   ]
  },
  {
   "cell_type": "code",
   "execution_count": 18,
   "metadata": {},
   "outputs": [
    {
     "name": "stdout",
     "output_type": "stream",
     "text": [
      "\n",
      "======================================== Testing the reranked retrieved results ========================================\n",
      "\n",
      "Total number of results: 7\n"
     ]
    },
    {
     "name": "stderr",
     "output_type": "stream",
     "text": [
      "C:\\Users\\yuyum\\AppData\\Local\\Temp\\ipykernel_48028\\1905607030.py:24: LangChainBetaWarning: The function `loads` is in beta. It is actively being worked on, so the API may change.\n",
      "  doc = loads(doc_str)  # Convert back to Document object\n"
     ]
    },
    {
     "data": {
      "text/markdown": [
       "\n",
       " **From `The Daily Drucker-2004.pdf`, page 806**"
      ],
      "text/plain": [
       "<IPython.core.display.Markdown object>"
      ]
     },
     "metadata": {},
     "output_type": "display_data"
    },
    {
     "name": "stdout",
     "output_type": "stream",
     "text": [
      "RRF score: 0.04788\n",
      ". Drucker analyzes the new realities of strategy, shows how to be a leader in periods of change, and\n",
      "explains the “New Information Revolution,” discussing the information an executive needs and the\n",
      "information an executive owes. He also examines knowledge-worker productivity, and shows that\n",
      "changes in the basic attitude of individuals and organizations, as well as structural changes in\n",
      "work itself, are needed for increased productivity. Finally, Drucker addresses the ultimate\n",
      "challenge of\n",
      "————————————————————————————————————————————————————————————————————————————————\n"
     ]
    },
    {
     "data": {
      "text/markdown": [
       "\n",
       " **From `The Essential Drucker-2008.pdf`, page 196**"
      ],
      "text/plain": [
       "<IPython.core.display.Markdown object>"
      ]
     },
     "metadata": {},
     "output_type": "display_data"
    },
    {
     "name": "stdout",
     "output_type": "stream",
     "text": [
      "RRF score: 0.03279\n",
      ". Knowledge  workers, after all, first came into being in any substantial numbers a generation ago.\n",
      "(I coined the  term “knowledge worker” years ago.)   But also the shift from manual workers who do\n",
      "as they are being told—either by the task or by the  boss—to knowledge workers who have to manage\n",
      "themselves profoundly challenges social  structure\n",
      "————————————————————————————————————————————————————————————————————————————————\n"
     ]
    },
    {
     "data": {
      "text/markdown": [
       "\n",
       " **From `The Effective Executive-2002.pdf`, page 17**"
      ],
      "text/plain": [
       "<IPython.core.display.Markdown object>"
      ]
     },
     "metadata": {},
     "output_type": "display_data"
    },
    {
     "name": "stdout",
     "output_type": "stream",
     "text": [
      "RRF score: 0.03279\n",
      ".  It takes his knowledge and uses it as the resource, the motivation, and the vision of  other\n",
      "knowledge workers. Knowledge workers are rarely in phase with each other,  precisely because they\n",
      "are knowledge workers. Each has his own skill and his own  concerns. One man may be interested in\n",
      "tax accounting or in bacteriology, or in training  and developing tomorrow’s key administrators in\n",
      "the city government\n",
      "————————————————————————————————————————————————————————————————————————————————\n"
     ]
    },
    {
     "data": {
      "text/markdown": [
       "\n",
       " **From `The Daily Drucker-2004.pdf`, page 321**"
      ],
      "text/plain": [
       "<IPython.core.display.Markdown object>"
      ]
     },
     "metadata": {},
     "output_type": "display_data"
    },
    {
     "name": "stdout",
     "output_type": "stream",
     "text": [
      "RRF score: 0.032\n",
      ". 5. Productivity of the knowledge worker is not—at least not primarily—a matter of the quantity of\n",
      "output. Quality is at least as important. 6. Finally, knowledge-worker productivity requires that\n",
      "the knowledge worker be both seen and treated as an “asset” rather than a “cost.” It requires that\n",
      "knowledge workers want to work for the organization in preference to all other opportunities. ACTION\n",
      "POINT: Apply steps one through five to your knowledge work. Management Challenges for the 21st\n",
      "Century\n",
      "————————————————————————————————————————————————————————————————————————————————\n"
     ]
    },
    {
     "data": {
      "text/markdown": [
       "\n",
       " **From `The Daily Drucker-2004.pdf`, page 800**"
      ],
      "text/plain": [
       "<IPython.core.display.Markdown object>"
      ]
     },
     "metadata": {},
     "output_type": "display_data"
    },
    {
     "name": "stdout",
     "output_type": "stream",
     "text": [
      "RRF score: 0.01613\n",
      ". According to Peter Drucker, “This book tries to equip the manager with the understanding, the\n",
      "thinking, the knowledge, and the skills for today’s and also tomorrow’s jobs.” This management\n",
      "classic has been developed and tested during more than thirty years of management teaching in\n",
      "universities, executive programs, seminars, and through the author’s close work with managers as a\n",
      "consultant for large and small businesses, government agencies, hospitals, and schools\n",
      "————————————————————————————————————————————————————————————————————————————————\n"
     ]
    },
    {
     "data": {
      "text/markdown": [
       "\n",
       " **From `The Daily Drucker-2004.pdf`, page 321**"
      ],
      "text/plain": [
       "<IPython.core.display.Markdown object>"
      ]
     },
     "metadata": {},
     "output_type": "display_data"
    },
    {
     "name": "stdout",
     "output_type": "stream",
     "text": [
      "RRF score: 0.01613\n",
      "23 May Knowledge-Worker Productivity Knowledge-worker productivity requires that the knowledge\n",
      "worker be both seen and treated as an asset rather than a cost. W ork on the productivity of the\n",
      "knowledge worker has barely begun. But we already know a good many of the answers. We also know the\n",
      "challenges to which we do not yet know the answers. Six major factors determine knowledge-worker\n",
      "productivity. 1. Knowledge-worker productivity demands that we ask the question: “What is the task?”\n",
      "2\n",
      "————————————————————————————————————————————————————————————————————————————————\n"
     ]
    },
    {
     "data": {
      "text/markdown": [
       "\n",
       " **From `The Daily Drucker-2004.pdf`, page 323**"
      ],
      "text/plain": [
       "<IPython.core.display.Markdown object>"
      ]
     },
     "metadata": {},
     "output_type": "display_data"
    },
    {
     "name": "stdout",
     "output_type": "stream",
     "text": [
      "RRF score: 0.01587\n",
      ". They know what steps are most important and what methods need to be used to complete the tasks;\n",
      "and it is their knowledge that tells them what chores are unnecessary and should be eliminated. Work\n",
      "on knowledge-worker productivity therefore begins with asking the knowledge workers themselves: What\n",
      "is your task? What should it be? What should you be expected to contribute? and What hampers you in\n",
      "doing your task and should be eliminated? The how only comes after the what has been answered\n",
      "————————————————————————————————————————————————————————————————————————————————\n"
     ]
    }
   ],
   "source": [
    "# === Test the RAG Fusion Retrieval Pipeline ===\n",
    "\n",
    "rag_fusion_mmr_results = retrieval_chain_rag_fusion_mmr.invoke({\n",
    "    \"question\":\"What did Drucker say about knowledge workers in the book?\",\n",
    "    \"num_queries\":3,\n",
    "    \"vectorstore_content_summary\":vectorstore_content_summary})\n",
    "\n",
    "print(f\"\\n{'='*40} Testing the reranked retrieved results {'='*40}\\n\")\n",
    "\n",
    "# Display the total number of retrieved and reranked documents\n",
    "print(f\"Total number of results: {len(rag_fusion_mmr_results)}\")\n",
    "\n",
    "# Iterate through the retrieved documents and display them in a structured format\n",
    "for i, doc in enumerate(rag_fusion_mmr_results, start=1):\n",
    "    # Display metadata: Source and page number\n",
    "    display(Markdown(f\"\\n **From `{doc.metadata['source']}`, page {doc.metadata['page']}**\"))\n",
    "\n",
    "    # Display the score\n",
    "    print(f\"RRF score: {doc.metadata['rrf_score']:.4g}\") # Display the score with 4 decimal places\n",
    "\n",
    "    # Print the document content with proper text wrapping for better readability\n",
    "    print(textwrap.fill(doc.page_content, width=100)) \n",
    "\n",
    "    # Add a separator for each document\n",
    "    print(\"—\" * 80) "
   ]
  },
  {
   "cell_type": "markdown",
   "metadata": {},
   "source": [
    "### 1\\.3 Relevance Grader Agent\n",
    "This agent evaluates whether a retrieved document is relevant to a user’s question.\n",
    "\n",
    "It uses an LLM to determine if the document contains **keyword overlap** or **semantic alignment** with the query. \n",
    "\n",
    "The output is a simple `\"pass\"` or `\"fail\"` label in JSON format, useful for:\n",
    "- Filtering out low-quality documents in RAG pipelines.\n",
    "- Scoring retrieval effectiveness.\n",
    "- Constructing feedback loops for reranking or refinement."
   ]
  },
  {
   "cell_type": "code",
   "execution_count": 19,
   "metadata": {},
   "outputs": [],
   "source": [
    "# Define the relevance grader prompt\n",
    "relevance_grader_prompt_template = PromptTemplate.from_template(\"\"\"\n",
    "You are a a relevance grader evaluating whether a retrieved document is helpful in answering a user question.\n",
    "\n",
    "---\n",
    "\n",
    "**Retrieved Document**: \n",
    "{document}\n",
    "\n",
    "**User Question**: \n",
    "{question}\n",
    "\n",
    "---\n",
    "\n",
    "**Your Task**:                                                          \n",
    "Carefully and  objectively assess whether the document contains any **keyword overlap** or **semantic meaning** that is relevant to the question.\n",
    "Do not require a full answer—just some relevant content is enough to pass.\n",
    "\n",
    "Return your decision as a JSON object with twith keys: \"binary_score\". \n",
    "The \"binary_score\" should be \"pass\" or \"fail\" indicating relevance.\n",
    "\"\"\")"
   ]
  },
  {
   "cell_type": "code",
   "execution_count": 20,
   "metadata": {},
   "outputs": [
    {
     "name": "stdout",
     "output_type": "stream",
     "text": [
      "\n",
      "======================================== Testing Relevance Grader Prompt ========================================\n",
      "\n",
      "{'binary_score': 'pass'}\n"
     ]
    }
   ],
   "source": [
    "# === Test Relevant Grader ===\n",
    "\n",
    "# Format the prompt with the first document from the reranked RAG fusion results\n",
    "relevance_grader_prompt = relevance_grader_prompt_template.format(\n",
    "    document=rag_fusion_mmr_results[0].page_content,\n",
    "    question=\"What did Drucker say about knowledge workers in the book?\"\n",
    ")\n",
    "\n",
    "# Invoke the grading agent using a lightweight model\n",
    "grader_result = llm_gpt_mini.with_structured_output(method=\"json_mode\").invoke(\n",
    "    relevance_grader_prompt)\n",
    "\n",
    "# Print the grading result\n",
    "print(f\"\\n{'='*40} Testing Relevance Grader Prompt {'='*40}\\n\")\n",
    "print(grader_result)"
   ]
  },
  {
   "cell_type": "markdown",
   "metadata": {},
   "source": [
    "### 1\\.4 Answer Generator Agent\n",
    "This agent uses context-relevant documents to generate an answer to the user's question.\n",
    "\n",
    "It is grounded in retrieved content and includes a reference section at the end of the response."
   ]
  },
  {
   "cell_type": "code",
   "execution_count": 21,
   "metadata": {},
   "outputs": [],
   "source": [
    "# Define the prompt template for answer generation\n",
    "answer_generator_prompt_template = PromptTemplate.from_template(\"\"\"\n",
    "You are an assistant for question-answering tasks.\n",
    "\n",
    "---\n",
    "\n",
    "**Context**:\n",
    "Use the following information to help answer the question:\n",
    "{context}\n",
    "\n",
    "****User Question**:\n",
    "{question}\n",
    "                                                                \n",
    "---\n",
    "                                                                \n",
    "**Instructions**:\n",
    "1. Base your answer primarily on the context provided.\n",
    "2. If the answer is **not present** in the context, say so explicitly.\n",
    "3. Keep the answer **concise**, **accurate**, and **focused** on the question.\n",
    "4. At the end, include a **reference section**:\n",
    "    - For book-based sources, use **APA-style citations** if possible.\n",
    "    - For web-based sources, include **page title and URL**.\n",
    "\n",
    "---\n",
    "                                                                \n",
    "**Answer**:\n",
    "\"\"\")"
   ]
  },
  {
   "cell_type": "code",
   "execution_count": 22,
   "metadata": {},
   "outputs": [
    {
     "name": "stdout",
     "output_type": "stream",
     "text": [
      "\n",
      "======================================== Testing Answer Generator Prompt ========================================\n",
      "\n"
     ]
    },
    {
     "data": {
      "text/markdown": [
       "**Question:** What did Drucker say about knowledge workers in the book?\n"
      ],
      "text/plain": [
       "<IPython.core.display.Markdown object>"
      ]
     },
     "metadata": {},
     "output_type": "display_data"
    },
    {
     "data": {
      "text/markdown": [
       "**Answer:** Peter Drucker discussed several key aspects of knowledge workers in his writings. He emphasized that knowledge workers require a shift from being seen as a cost to being considered an asset to organizations. Productivity for knowledge workers is not just about the quantity of output but also the quality. Drucker also highlighted that knowledge workers should manage themselves and be involved in determining their tasks, understanding their contributions, and identifying obstacles in their work. He coined the term \"knowledge worker\" and noted the transition from manual work to knowledge work as a profound change in the social structure.\n",
       "\n",
       "**Reference**:\n",
       "Drucker, P. F. (2004). *The Daily Drucker: 366 Days of Insight and Motivation for Getting the Right Things Done*.  \n",
       "Drucker, P. F. (2008). *The Essential Drucker*."
      ],
      "text/plain": [
       "<IPython.core.display.Markdown object>"
      ]
     },
     "metadata": {},
     "output_type": "display_data"
    }
   ],
   "source": [
    "# === Test Answer Generator ===\n",
    "\n",
    "# Set up a test question and format the documents for input\n",
    "test_question = \"What did Drucker say about knowledge workers in the book?\"\n",
    "\n",
    "# Convert LangChain Documents into a simplified format (only metadata and page content)\n",
    "formatted_doc_results = [{\"metadata\": doc.metadata, \"page_content\": doc.page_content} for doc in rag_fusion_mmr_results]\n",
    "\n",
    "# Format the final prompt with documents and question\n",
    "answer_generator_prompt = answer_generator_prompt_template.format(\n",
    "    context=formatted_doc_results,  # Test with all documents\n",
    "    question=test_question\n",
    ")\n",
    "\n",
    "# Generate an answer using the main LLM\n",
    "answer_generation = llm_gpt.invoke(answer_generator_prompt)\n",
    "print(f\"\\n{'='*40} Testing Answer Generator Prompt {'='*40}\\n\")\n",
    "\n",
    "# Display the question and answer in a readable format\n",
    "display(Markdown(f\"**Question:** {test_question}\\n\"))\n",
    "display(Markdown(f\"**Answer:** {answer_generation.content}\"))"
   ]
  },
  {
   "cell_type": "markdown",
   "metadata": {},
   "source": [
    "### 1\\.5 Hallucination Checker Agent\n",
    "This agent evaluates whether an answer is factually grounded in the provided source documents.\n",
    "\n",
    "It compares the generated answer against reference material and returns:\n",
    "- A binary grade (``\"pass\"`` or ``\"fail\"``)\n",
    "- A brief explanation justifying the decision\n",
    "\n",
    "It's useful for detecting hallucinations in LLM output and enforcing groundedness in your GenAI application. "
   ]
  },
  {
   "cell_type": "code",
   "execution_count": 23,
   "metadata": {},
   "outputs": [],
   "source": [
    "# Define the hallucination checker prompt\n",
    "# The grader compares a student-style answer to reference materials (i.e., retrieved documents) and\n",
    "# checks for accuracy, fabrication, or unsupported claims.\n",
    "\n",
    "hallucination_checker_prompt_template = PromptTemplate.from_template(\"\"\"\n",
    "You are an AI grader evaluating whether a student's answer is factually grounded in the provided reference materials.\n",
    "\n",
    "---\n",
    "\n",
    "**Grading Criteria**:\n",
    "- **Pass**: The answer is **fully based** on the given FACTS and does not contain any fabricated or incorrect claims.\n",
    "- **Fail**: The answer information that is **fabricated**, **inaccurate**, or **not supported** by the source material.\n",
    "\n",
    "---\n",
    "\n",
    "**Reference Materials (FACTS)**:\n",
    "{documents}\n",
    "\n",
    "**Student's Answer**:\n",
    "{generation}\n",
    "\n",
    "---\n",
    "\n",
    "**Output Instructions**:\n",
    "Return a JSON object with keys: \"binary_score\" and \"explanation\".  \n",
    "- \"binary_score\": either `\"pass\"` or `\"fail\"`\n",
    "- `\"explanation\"`: a short justification of the grading decision                                                                     \n",
    "\"\"\")\n"
   ]
  },
  {
   "cell_type": "code",
   "execution_count": 24,
   "metadata": {},
   "outputs": [
    {
     "name": "stdout",
     "output_type": "stream",
     "text": [
      "\n",
      "======================================== Testing Hallucination Checker Prompt ========================================\n",
      "\n"
     ]
    },
    {
     "data": {
      "text/markdown": [
       "**Grade:** pass"
      ],
      "text/plain": [
       "<IPython.core.display.Markdown object>"
      ]
     },
     "metadata": {},
     "output_type": "display_data"
    },
    {
     "data": {
      "text/markdown": [
       "**Explanation:** The student's answer accurately reflects key concepts from Drucker's writings, including the importance of viewing knowledge workers as assets, the emphasis on quality over quantity in productivity, and the self-management of knowledge workers. All claims made in the answer are supported by the reference materials."
      ],
      "text/plain": [
       "<IPython.core.display.Markdown object>"
      ]
     },
     "metadata": {},
     "output_type": "display_data"
    }
   ],
   "source": [
    "# === Test Hallucination Checker Prompt ===\n",
    "\n",
    "# Format the prompt with the provided documents and generated answer\n",
    "hallucination_checker_prompt = hallucination_checker_prompt_template.format(\n",
    "    documents=formatted_doc_results, \n",
    "    generation=answer_generation.content\n",
    ")\n",
    "\n",
    "# Use the mini LLM model to grade the document\n",
    "hallucination_checker_result = llm_gpt_mini.with_structured_output(method=\"json_mode\").invoke(\n",
    "    hallucination_checker_prompt)\n",
    "\n",
    "# Print the parsed JSON responses\n",
    "\n",
    "print(f\"\\n{'='*40} Testing Hallucination Checker Prompt {'='*40}\\n\")\n",
    "\n",
    "# Display the grade\n",
    "display(Markdown(f\"**Grade:** {hallucination_checker_result['binary_score']}\"))\n",
    "\n",
    "# Display the explanation\n",
    "display(Markdown(f\"**Explanation:** {hallucination_checker_result['explanation']}\"))"
   ]
  },
  {
   "cell_type": "markdown",
   "metadata": {},
   "source": [
    "### 1\\.6 Answer Verifier Agent \n",
    "This agent evaluates whether a generated answer meaningfully responds to the user’s original question.\n",
    "\n",
    "It does not assess factual accuracy; only whether the answer is relevant, responsive, and on-topic.\n",
    "\n",
    "It returns a ``\"pass\"`` or ``\"fail\"`` grade, along with a brief explanation. \n",
    "\n",
    "This is useful in the workflow to ensure answers stay aligned with user intent."
   ]
  },
  {
   "cell_type": "code",
   "execution_count": 25,
   "metadata": {},
   "outputs": [],
   "source": [
    "# Define the answer verifier prompt\n",
    "# The LLM is asked to judge whether the answer is responsive, relevant, and coherent with the original question.\n",
    "\n",
    "answer_verifier_prompt_template = PromptTemplate.from_template(\"\"\"\n",
    "You are an AI grader verifying whether a student's answer correctly addresses the given question.\n",
    "\n",
    "---\n",
    "\n",
    "**Grading Criteria**:\n",
    "- **Pass**: The answer directly addresses the question, even if it includes additional relevant context.\n",
    "- **Fail**: The answer is off-topic, misses the point, or does not meaningfully respond to the question.\n",
    "\n",
    "---\n",
    "\n",
    "**question**: \n",
    "{question}\n",
    "\n",
    "**Student's Answer**: \n",
    "{generation}\n",
    "\n",
    "---\n",
    "                                                               \n",
    "**Output Instructions**:\n",
    "Return aJSONobject with keys: \"binary_score\" and \"explanation\"  \n",
    "- \"binary_score\": either `\"pass\"` or `\"fail\"` \n",
    "- \"explanation\":  a short justification for your grading decision\n",
    "\"\"\")\n"
   ]
  },
  {
   "cell_type": "code",
   "execution_count": 26,
   "metadata": {},
   "outputs": [
    {
     "name": "stdout",
     "output_type": "stream",
     "text": [
      "\n",
      "======================================== Testing Answer Verifier Prompt ========================================\n",
      "\n"
     ]
    },
    {
     "data": {
      "text/markdown": [
       "**Grade:** pass"
      ],
      "text/plain": [
       "<IPython.core.display.Markdown object>"
      ]
     },
     "metadata": {},
     "output_type": "display_data"
    },
    {
     "data": {
      "text/markdown": [
       "**Explanation:** The student's answer directly addresses the question by summarizing Drucker's views on knowledge workers, including their value to organizations, the importance of self-management, and the transition from manual to knowledge work. This response is relevant and informative."
      ],
      "text/plain": [
       "<IPython.core.display.Markdown object>"
      ]
     },
     "metadata": {},
     "output_type": "display_data"
    }
   ],
   "source": [
    "# === Test Answer Verifier Prompt ===\n",
    "\n",
    "#Format the prompt with a test question and its generated answer\n",
    "answer_verifier_prompt = answer_verifier_prompt_template.format(\n",
    "    question=test_question, \n",
    "    generation=answer_generation.content\n",
    ")\n",
    "\n",
    "# Use the mini LLM model to grade the document\n",
    "answer_verifier_result = llm_gpt_mini.with_structured_output(method=\"json_mode\").invoke(\n",
    "    answer_verifier_prompt)\n",
    "\n",
    "# Print the parsed JSON responses\n",
    "print(f\"\\n{'='*40} Testing Answer Verifier Prompt {'='*40}\\n\")\n",
    "\n",
    "# Display the grade\n",
    "display(Markdown(f\"**Grade:** {answer_verifier_result['binary_score']}\"))\n",
    "\n",
    "# Display the explanation\n",
    "display(Markdown(f\"**Explanation:** {answer_verifier_result['explanation']}\"))"
   ]
  },
  {
   "cell_type": "markdown",
   "metadata": {},
   "source": [
    "### 1\\.7 Query Rewriter\n",
    "This agent improves search effectiveness by rewriting user questions that previously led to incomplete or irrelevant answers.\n",
    "\n",
    "It reviews both the original question and the failed answer to detect gaps, ambiguities, or missed keywords.\n",
    "\n",
    "The output includes:\n",
    "- A rewritten question optimized for vector retrieval\n",
    "- An explanation of how the rewrite improves the search\n",
    "\n",
    "This is useful for query recovery, workflow feedback loops, and retrieval optimization."
   ]
  },
  {
   "cell_type": "code",
   "execution_count": 28,
   "metadata": {},
   "outputs": [],
   "source": [
    "# Define the query rewriter prompt\n",
    "\n",
    "query_rewriter_prompt_template = PromptTemplate.from_template(\"\"\"\n",
    "You are a query optimization expert tasked with rewriting questions to improve vector database retrieval accuracy.\n",
    "\n",
    "---\n",
    "\n",
    "**Context**:\n",
    "- Original Question: {question}\n",
    "- Previous Answer (incomplete or unhelpful): {generation}\n",
    "\n",
    "**Vectorstore Summary**:\n",
    "{vectorstore_content_summary}\n",
    "                                                              \n",
    "Note: The summary provides context about what's in the database but should not be treated as exhaustive.                                                       \n",
    "\n",
    "---\n",
    "\n",
    "**Your Task**:\n",
    "Analyze the original question and the failed answer to identify:\n",
    "1. What key information the original question was missing\n",
    "2. Any ambiguities or unclear phrasing\n",
    "3. Missing context or specialized terminology that should be included\n",
    "4. Better keywords, phrasing, or terms to improve retrieval\n",
    "\n",
    "---\n",
    "                                                              \n",
    "**Output Format**:\n",
    "Return a JSON object with keys: \"rewritten_question\" and \"explanation\".\n",
    "- \"rewritten_question\":  A refined version of the user's question optimized for vector search\n",
    "- \"explanation\": A short explanation of how the rewrite improves coverage or clarity\n",
    "\"\"\")"
   ]
  },
  {
   "cell_type": "code",
   "execution_count": 29,
   "metadata": {},
   "outputs": [
    {
     "name": "stdout",
     "output_type": "stream",
     "text": [
      "\n",
      "======================================== Testing Query Rewriter Prompt ========================================\n",
      "\n"
     ]
    },
    {
     "data": {
      "text/markdown": [
       "**Original Question:** What did Drucker say about knowledge workers in the book?"
      ],
      "text/plain": [
       "<IPython.core.display.Markdown object>"
      ]
     },
     "metadata": {},
     "output_type": "display_data"
    },
    {
     "data": {
      "text/markdown": [
       "**Rewritten Question:** What insights does Peter Drucker provide about the role and management of knowledge workers in 'The Daily Drucker' and 'The Essential Drucker'?"
      ],
      "text/plain": [
       "<IPython.core.display.Markdown object>"
      ]
     },
     "metadata": {},
     "output_type": "display_data"
    },
    {
     "data": {
      "text/markdown": [
       "**Explanation:** The revised question specifies the books 'The Daily Drucker' and 'The Essential Drucker', which aligns with the context provided by the vectorstore summary, improving the retrieval accuracy by pinpointing the sources where Drucker discusses knowledge workers. It also clarifies the request for insights on the role and management of knowledge workers, using precise terminology that matches Drucker's focus areas, thus reducing ambiguity and enhancing relevance."
      ],
      "text/plain": [
       "<IPython.core.display.Markdown object>"
      ]
     },
     "metadata": {},
     "output_type": "display_data"
    }
   ],
   "source": [
    "# === Test Query Rewriter Prompt ===\n",
    "\n",
    "# Format the prompt with actual values\n",
    "query_rewriter_prompt = query_rewriter_prompt_template.format(\n",
    "    question=test_question, \n",
    "    generation=answer_generation.content,\n",
    "    vectorstore_content_summary = vectorstore_content_summary\n",
    ")\n",
    "\n",
    "# Use the LLM model to grade the document\n",
    "query_rewriter_result = llm_gpt.with_structured_output(method=\"json_mode\").invoke(\n",
    "    query_rewriter_prompt)\n",
    "\n",
    "# Print the parsed JSON responses\n",
    "print(f\"\\n{'='*40} Testing Query Rewriter Prompt {'='*40}\\n\")\n",
    "\n",
    "# Display the original question\n",
    "display(Markdown(f\"**Original Question:** {test_question}\"))\n",
    "\n",
    "# Display the rewritten question\n",
    "display(Markdown(f\"**Rewritten Question:** {query_rewriter_result['rewritten_question']}\"))\n",
    "\n",
    "# Display the explanation\n",
    "display(Markdown(f\"**Explanation:** {query_rewriter_result['explanation']}\"))"
   ]
  },
  {
   "cell_type": "markdown",
   "metadata": {},
   "source": [
    "### 1\\.8 Chitter-Chatter Agent\n",
    "This agent is a friendly fallback assistant that handles:\n",
    "- Off-topic or unrelated questions\n",
    "- In-scope but unanswerable questions\n",
    "- Casual, social dialogue (e.g., greatings) with a friendly tone\n",
    "\n",
    "It never fabricates or guesses answers. Instead, it acknowledges the user’s input, maintains a warm tone, and gently redirects the conversation toward more relevant or answerable topics within the defined scope."
   ]
  },
  {
   "cell_type": "code",
   "execution_count": 30,
   "metadata": {},
   "outputs": [],
   "source": [
    "# Define the Chitter-Chatter prompt\n",
    "chitterchatter_prompt_template = PromptTemplate.from_template(\"\"\"\n",
    "You are a friendly assistant designed to keep conversations within the current scope while maintaining a warm, helpful tone.\n",
    "\n",
    "---\n",
    "\n",
    "**Current Scope**:\n",
    "{relevant_scope}\n",
    "\n",
    "Your job is to respond conversationally while gently guiding the user toward relevant and productive discussions.\n",
    "\n",
    "---\n",
    "                                                              \n",
    "**Response Guidelines**:\n",
    "\n",
    "1. **Casual Chit-Chat**:\n",
    "  - Respond warmly to greetings and social exchanges. \n",
    "  - Maintain a natural, friendly tone.\n",
    "\n",
    "2. **Off-Topic Questions**:  \n",
    "  - Politely acknowledge the question.  \n",
    "  - Mention that it falls outside your current scope.  \n",
    "  - Redirect to a relevant topic or ask a follow-up question within scope.\n",
    "  - Avoid saying \"I don't know\" without offering guidance.\n",
    "\n",
    "3. **In-Scope but Unanswerable Questions**:                                                            \n",
    "  - If the question fits the scope but lacks enough information to answer reliably:\n",
    "    - Acknowledge the gap.\n",
    "    - Avoid making unsupported claims.                                                    \n",
    "    - Redirect the user toward a more specific or better-supported question.\n",
    "\n",
    "---\n",
    "\n",
    "**Important**: \n",
    "Never invent or guess answers using general world knowledge. \n",
    "Your job is to **maintain trust** by keeping the conversation focused and grounded.\n",
    "                                                              \n",
    "Always end with a helpful redirection, question, or suggestion related to the scope above.\n",
    "\"\"\")"
   ]
  },
  {
   "cell_type": "code",
   "execution_count": 31,
   "metadata": {},
   "outputs": [
    {
     "name": "stdout",
     "output_type": "stream",
     "text": [
      "\n",
      "======================================== Testing Chitter-Chatter Prompt ========================================\n",
      "\n"
     ]
    },
    {
     "data": {
      "text/markdown": [
       "**Response:** I'm doing great, thank you! How about you? Is there something specific about Peter Drucker's management philosophy or leadership principles that you're interested in discussing today?"
      ],
      "text/plain": [
       "<IPython.core.display.Markdown object>"
      ]
     },
     "metadata": {},
     "output_type": "display_data"
    }
   ],
   "source": [
    "# === Test Chitter-Chatter Prompt ===\n",
    "\n",
    "# Format the prompt using the defined relevant scope\n",
    "chitterchatter_prompt = chitterchatter_prompt_template.format(relevant_scope=relevant_scope)\n",
    "\n",
    "# Run a test with a casual or off-topic input\n",
    "chitterchatter_response = llm_gpt_mini.invoke(\n",
    "    [SystemMessage(chitterchatter_prompt),\n",
    "     HumanMessage(\"How are you doing today?\")]\n",
    ")\n",
    "\n",
    "print(f\"\\n{'='*40} Testing Chitter-Chatter Prompt {'='*40}\\n\")\n",
    "\n",
    "# Display the result\n",
    "display(Markdown(f\"**Response:** {chitterchatter_response.content}\"))"
   ]
  },
  {
   "cell_type": "markdown",
   "metadata": {},
   "source": [
    "### 1\\.9 Web Searcher\n",
    "This agent performs real-time web searches using Tavily's search API. This is the same Web Search tool you defined previously. \n",
    "\n",
    "It is ideal for answering:\n",
    "- In-scope questions that require additional detail beyond the vectorstore\n",
    "- Questions involving current events, specific dates, or external references\n",
    "- Queries needing factual grounding or external verification\n",
    "\n",
    "This specific agent returns up to 5 high-quality search results, including:\n",
    "- A short summary answer (if available)\n",
    "- Title, URL, snippet, and a relevance score for each result"
   ]
  },
  {
   "cell_type": "code",
   "execution_count": 32,
   "metadata": {},
   "outputs": [],
   "source": [
    "# Define the web search tool\n",
    "\n",
    "web_search_tool = TavilySearchResults(\n",
    "    max_results=5,\n",
    "    search_depth=\"advanced\",        # Uses advanced search depth for more accurate results\n",
    "    include_answer=True,            # Include a short answer to original query in the search results.\n",
    "    tavily_api_key= tavily_api_key  # You have defined this API key in the .env file.\n",
    ")"
   ]
  },
  {
   "cell_type": "code",
   "execution_count": 33,
   "metadata": {},
   "outputs": [
    {
     "name": "stdout",
     "output_type": "stream",
     "text": [
      "\n",
      "======================================== Web Search Results ========================================\n",
      "\n"
     ]
    },
    {
     "data": {
      "text/markdown": [
       "**Result 1:**\n"
      ],
      "text/plain": [
       "<IPython.core.display.Markdown object>"
      ]
     },
     "metadata": {},
     "output_type": "display_data"
    },
    {
     "data": {
      "text/markdown": [
       "**Title:** What was Peter Drucker's greatest contribution to management?"
      ],
      "text/plain": [
       "<IPython.core.display.Markdown object>"
      ]
     },
     "metadata": {},
     "output_type": "display_data"
    },
    {
     "data": {
      "text/markdown": [
       "**URL:** https://www.quora.com/What-was-Peter-Druckers-greatest-contribution-to-management"
      ],
      "text/plain": [
       "<IPython.core.display.Markdown object>"
      ]
     },
     "metadata": {},
     "output_type": "display_data"
    },
    {
     "data": {
      "text/markdown": [
       "**Content Snippet:** Peter Drucker has been the father of modern management who has formulated the process of SMART & the theory of management by objectives(MBO)."
      ],
      "text/plain": [
       "<IPython.core.display.Markdown object>"
      ]
     },
     "metadata": {},
     "output_type": "display_data"
    },
    {
     "data": {
      "text/markdown": [
       "**Relevance Score:** 0.751"
      ],
      "text/plain": [
       "<IPython.core.display.Markdown object>"
      ]
     },
     "metadata": {},
     "output_type": "display_data"
    },
    {
     "data": {
      "text/markdown": [
       "\n",
       "--------------------------------------------------------------------------------\n"
      ],
      "text/plain": [
       "<IPython.core.display.Markdown object>"
      ]
     },
     "metadata": {},
     "output_type": "display_data"
    },
    {
     "data": {
      "text/markdown": [
       "**Result 2:**\n"
      ],
      "text/plain": [
       "<IPython.core.display.Markdown object>"
      ]
     },
     "metadata": {},
     "output_type": "display_data"
    },
    {
     "data": {
      "text/markdown": [
       "**Title:** Peter Drucker's Management Theory Explained - Business.com"
      ],
      "text/plain": [
       "<IPython.core.display.Markdown object>"
      ]
     },
     "metadata": {},
     "output_type": "display_data"
    },
    {
     "data": {
      "text/markdown": [
       "**URL:** https://www.business.com/articles/management-theory-of-peter-drucker/"
      ],
      "text/plain": [
       "<IPython.core.display.Markdown object>"
      ]
     },
     "metadata": {},
     "output_type": "display_data"
    },
    {
     "data": {
      "text/markdown": [
       "**Content Snippet:** Peter Drucker was a world-famous management consultant whose ideas transformed business leadership from reactive to proactive."
      ],
      "text/plain": [
       "<IPython.core.display.Markdown object>"
      ]
     },
     "metadata": {},
     "output_type": "display_data"
    },
    {
     "data": {
      "text/markdown": [
       "**Relevance Score:** 0.443"
      ],
      "text/plain": [
       "<IPython.core.display.Markdown object>"
      ]
     },
     "metadata": {},
     "output_type": "display_data"
    },
    {
     "data": {
      "text/markdown": [
       "\n",
       "--------------------------------------------------------------------------------\n"
      ],
      "text/plain": [
       "<IPython.core.display.Markdown object>"
      ]
     },
     "metadata": {},
     "output_type": "display_data"
    },
    {
     "data": {
      "text/markdown": [
       "**Result 3:**\n"
      ],
      "text/plain": [
       "<IPython.core.display.Markdown object>"
      ]
     },
     "metadata": {},
     "output_type": "display_data"
    },
    {
     "data": {
      "text/markdown": [
       "**Title:** Peter F. Drucker | Biography, Management, Books, & Facts - Britannica"
      ],
      "text/plain": [
       "<IPython.core.display.Markdown object>"
      ]
     },
     "metadata": {},
     "output_type": "display_data"
    },
    {
     "data": {
      "text/markdown": [
       "**URL:** https://www.britannica.com/money/Peter-F-Drucker"
      ],
      "text/plain": [
       "<IPython.core.display.Markdown object>"
      ]
     },
     "metadata": {},
     "output_type": "display_data"
    },
    {
     "data": {
      "text/markdown": [
       "**Content Snippet:** He was also a leader in the development of management education, and he invented the concept known as management by objectives. Drucker, who"
      ],
      "text/plain": [
       "<IPython.core.display.Markdown object>"
      ]
     },
     "metadata": {},
     "output_type": "display_data"
    },
    {
     "data": {
      "text/markdown": [
       "**Relevance Score:** 0.329"
      ],
      "text/plain": [
       "<IPython.core.display.Markdown object>"
      ]
     },
     "metadata": {},
     "output_type": "display_data"
    },
    {
     "data": {
      "text/markdown": [
       "\n",
       "--------------------------------------------------------------------------------\n"
      ],
      "text/plain": [
       "<IPython.core.display.Markdown object>"
      ]
     },
     "metadata": {},
     "output_type": "display_data"
    },
    {
     "data": {
      "text/markdown": [
       "**Result 4:**\n"
      ],
      "text/plain": [
       "<IPython.core.display.Markdown object>"
      ]
     },
     "metadata": {},
     "output_type": "display_data"
    },
    {
     "data": {
      "text/markdown": [
       "**Title:** why Peter Drucker is more relevant today than ever before"
      ],
      "text/plain": [
       "<IPython.core.display.Markdown object>"
      ]
     },
     "metadata": {},
     "output_type": "display_data"
    },
    {
     "data": {
      "text/markdown": [
       "**URL:** https://www.thepeoplespace.com/ideas/articles/technology-humanity-and-prosperity-why-peter-drucker-more-relevant-today-ever"
      ],
      "text/plain": [
       "<IPython.core.display.Markdown object>"
      ]
     },
     "metadata": {},
     "output_type": "display_data"
    },
    {
     "data": {
      "text/markdown": [
       "**Content Snippet:** He revolutionised several management theories and concepts ― social entrepreneurship, second career, innovation, time management, decision making, employee"
      ],
      "text/plain": [
       "<IPython.core.display.Markdown object>"
      ]
     },
     "metadata": {},
     "output_type": "display_data"
    },
    {
     "data": {
      "text/markdown": [
       "**Relevance Score:** 0.269"
      ],
      "text/plain": [
       "<IPython.core.display.Markdown object>"
      ]
     },
     "metadata": {},
     "output_type": "display_data"
    },
    {
     "data": {
      "text/markdown": [
       "\n",
       "--------------------------------------------------------------------------------\n"
      ],
      "text/plain": [
       "<IPython.core.display.Markdown object>"
      ]
     },
     "metadata": {},
     "output_type": "display_data"
    },
    {
     "data": {
      "text/markdown": [
       "**Result 5:**\n"
      ],
      "text/plain": [
       "<IPython.core.display.Markdown object>"
      ]
     },
     "metadata": {},
     "output_type": "display_data"
    },
    {
     "data": {
      "text/markdown": [
       "**Title:** About Peter Drucker * Drucker Institute"
      ],
      "text/plain": [
       "<IPython.core.display.Markdown object>"
      ]
     },
     "metadata": {},
     "output_type": "display_data"
    },
    {
     "data": {
      "text/markdown": [
       "**URL:** https://drucker.institute/perspective__trashed/about-peter-drucker/"
      ],
      "text/plain": [
       "<IPython.core.display.Markdown object>"
      ]
     },
     "metadata": {},
     "output_type": "display_data"
    },
    {
     "data": {
      "text/markdown": [
       "**Content Snippet:** That summer, he was awarded the Presidential Medal of Freedom, the nation's highest civilian honor. President Bush called Drucker “the world's foremost pioneer"
      ],
      "text/plain": [
       "<IPython.core.display.Markdown object>"
      ]
     },
     "metadata": {},
     "output_type": "display_data"
    },
    {
     "data": {
      "text/markdown": [
       "**Relevance Score:** 0.208"
      ],
      "text/plain": [
       "<IPython.core.display.Markdown object>"
      ]
     },
     "metadata": {},
     "output_type": "display_data"
    },
    {
     "data": {
      "text/markdown": [
       "\n",
       "--------------------------------------------------------------------------------\n"
      ],
      "text/plain": [
       "<IPython.core.display.Markdown object>"
      ]
     },
     "metadata": {},
     "output_type": "display_data"
    }
   ],
   "source": [
    "# === Test Web Search Tool ===\n",
    "\n",
    "# Test the tool with a real question\n",
    "web_results = web_search_tool.invoke(\"What was Peter Drucker's greatest achievement?\")\n",
    "\n",
    "# Display the web search results in a structured format\n",
    "print(\"\\n\" + \"=\"*40 + \" Web Search Results \" + \"=\"*40 + \"\\n\")\n",
    "\n",
    "for i, result in enumerate(web_results, start=1):\n",
    "    display(Markdown(f\"**Result {i}:**\\n\"))\n",
    "    display(Markdown(f\"**Title:** {result['title']}\"))\n",
    "    display(Markdown(f\"**URL:** {result['url']}\"))\n",
    "    display(Markdown(f\"**Content Snippet:** {result['content']}\"))\n",
    "    display(Markdown(f\"**Relevance Score:** {result['score']:.3f}\"))\n",
    "    display(Markdown(\"\\n\" + \"-\"*80 + \"\\n\"))"
   ]
  },
  {
   "cell_type": "markdown",
   "metadata": {},
   "source": [
    "## 2\\. Build the Agentic RAG Workflow with LangGraph\n",
    "\n",
    "LangGraph is an extension of LangChain designed for building structured, agentic workflows using a graph-based execution model. It enables dynamic control flow, multi-agent collaboration, and persistent state tracking—making it ideal for complex RAG systems.\n",
    "\n",
    "In this lab, we use LangGraph to construct a modular Agentic RAG pipeline that routes, retrieves, verifies, retries, and gracefully falls back when needed.\n",
    "\n",
    "[Core LangGraph Components](https://langchain-ai.github.io/langgraphjs/concepts/low_level/) Used in This Lab\n",
    "\n",
    "- [`GraphState`] (Shared State Definition)\n",
    "\n",
    "The first step in defining a graph is specifying its shared state. `GraphState` is the central data structure that flows between agents (nodes) and evolves during execution. In this lab, we define it using Python’s `TypedDict`. It tracks: \n",
    "  - The original and rewritten question\n",
    "  - Retrieved documents\n",
    "  - LLM generations\n",
    "  - Retry counters\n",
    "  - Edge decision outcomes (e.g., relevance checks)\n",
    "\n",
    "  > Note: This lab uses `TypedDict` for simplicity and clarity. LangGraph also supports Python's `Pydantic` (via `BaseModel`) for state definitions, which provides: \"type enforcement\", \"validation\", \"default values\", and \"built-in serialization\". `BaseModel` is especially useful in production settings when stricter control over state is required.\n",
    "\n",
    "- `Nodes` (Agent Functions)\n",
    "Functions that define what your agents do. Each node receives the current `GraphState` as input, perform some computation or side-effect (e.g., LLM call, retrieval), and returns an updated `State`. In short, `Nodes` do the work. \n",
    "\n",
    "- `Edges`\n",
    "Functions that determine which `Node` to execute next based on the current State. They can be conditional branches (Conditional Edges) or fixed transitions (Normal Edges).In short, `Edges` tell what to do next. \n",
    "\n",
    "> Note: To build your graph, you first define the `GraphState`, then add `nodes` and `edges`, and then compile it. You **MUST** compile your graph before before it can be executed.\n",
    "\n",
    "---\n",
    "For a deeper dive, check out this talk: [Building Reliable Agents With LangGraph](https://youtu.be/q1gXyyLksA8?si=0wSogEefP1Wqau9r). \n"
   ]
  },
  {
   "cell_type": "markdown",
   "metadata": {},
   "source": [
    "### 2\\.1 Define the Graph State\n",
    "The first thing you do when you define a graph is define the `State` of the graph. The `StateGraph` class is the main graph class to use. This is parameterized by a user defined `State` object. "
   ]
  },
  {
   "cell_type": "code",
   "execution_count": 35,
   "metadata": {},
   "outputs": [],
   "source": [
    "# Define the state of the graph\n",
    "class GraphState(TypedDict):\n",
    "    \"\"\"\n",
    "    Graph state is a dictionary that contains information we want to propagate to, and modify in, each graph node.\n",
    "    \"\"\"\n",
    "    question: str                        # User question\n",
    "    original_question : str              # Copy of original question\n",
    "    generation: str                      # LLM generation\n",
    "    datasource: str                      # Output from router node: Vectorstore, Websearch, or Chitter-Chatter\n",
    "    hallucination_checker_attempts: int  # Number of times hallucination checker has been triggered\n",
    "    answer_verifier_attempts:int         # Number of times answer verifier has been triggered\n",
    "    documents: List[str]                 # List of retrieved documents from vectorstore or web search\n",
    "    checker_result: str                  # Result of document relevance check: 'pass' or 'fail'"
   ]
  },
  {
   "cell_type": "markdown",
   "metadata": {},
   "source": [
    "### 2\\.2 Define Node Functions\n",
    "This section defines the core functional units (nodes) of the LangGraph workflow. Each node includes a specific task in the Agentic RAG pipeline or fallback logic. Together, they enable the system to:\n",
    "- Retrieve relevant documents using multi-query RAG fusion\n",
    "- Generate grounded answers based on retrieved context\n",
    "- Fall back to web search when local content is insufficient\n",
    "- Handle off-topic or unsupported questions with a friendly Chitter-Chatter agent\n",
    "- Rewrite ineffective queries to improve search quality\n",
    "- Track retry attempts for hallucination and answer verification\n"
   ]
  },
  {
   "cell_type": "code",
   "execution_count": 36,
   "metadata": {},
   "outputs": [],
   "source": [
    "# ------------------------ Document Retriever Node ------------------------\n",
    "def document_retriever(state):\n",
    "    \"\"\"\n",
    "    Retrieves documents relevant to the user's question using multi-query RAG fusion.\n",
    "\n",
    "    This node performs the following steps:\n",
    "    - Reformulates the original user question into multiple diverse sub-queries.\n",
    "    - Executes MMR-based retrieval for each reformulated query.\n",
    "    - Applies Reciprocal Rank Fusion (RRF) to combine and rerank results.\n",
    "    - Filters out metadata fields that are internal (like RRF scores).\n",
    "    - Prepares and returns a list of LangChain `Document` objects to be used in downstream nodes.\n",
    "\n",
    "    Args:\n",
    "        state (GraphState): The current state of the LangGraph, containing the user's question.\n",
    "\n",
    "    Returns:\n",
    "        dict: A dictionary containing a cleaned list of relevant `Document` objects under the key `\"documents\"`.\n",
    "    \"\"\"\n",
    "    print(\"\\n---QUERY TRANSLATION AND RAG-FUSION---\")\n",
    "\n",
    "    question = state[\"question\"]\n",
    "\n",
    "     # Run multi-query RAG + MMR + RRF pipeline to get relevant results\n",
    "    rag_fusion_mmr_results = retrieval_chain_rag_fusion_mmr.invoke({\n",
    "        \"question\": question,\n",
    "        \"num_queries\": 3,\n",
    "        \"vectorstore_content_summary\": vectorstore_content_summary\n",
    "        })\n",
    "    \n",
    "     # Display summary of where results came from (for teaching purposes)\n",
    "    print(f\"Total number of results: {len(rag_fusion_mmr_results)}\")\n",
    "    for i, doc in enumerate(rag_fusion_mmr_results, start=1):\n",
    "        display(Markdown(f\"     Document {i} from `{doc.metadata['source']}`, page {doc.metadata['page']}\"))\n",
    "\n",
    "    # Convert retrieved documents into Document objects with metadata and page_content only\n",
    "    formatted_doc_results = [\n",
    "        Document(\n",
    "            metadata={k: v for k, v in doc.metadata.items() if k != 'rrf_score'}, # Remove rrf score and document id\n",
    "            page_content=doc.page_content\n",
    "        ) \n",
    "        for doc in rag_fusion_mmr_results\n",
    "    ]\n",
    "\n",
    "    return {\"documents\": formatted_doc_results}\n",
    "\n",
    "\n",
    "# ------------------------ Answer Generator Node ------------------------\n",
    "def answer_generator(state):\n",
    "    \"\"\"\n",
    "    Generates an answer based on the retrieved documents and user question.\n",
    "\n",
    "    This node prepares a prompt that includes:\n",
    "    - The original or rewritten user question\n",
    "    - A list of relevant documents (from vectorstore or web search)\n",
    "    \n",
    "    It invokes the main LLM to synthesize a concise and grounded response, returning the result\n",
    "    for use in later hallucination and usefulness checks.\n",
    "\n",
    "    Args:\n",
    "        state (GraphState): The current LangGraph state containing documents and question(s).\n",
    "\n",
    "    Returns:\n",
    "        dict: A dictionary with one key `\"generation\"` containing the LLM-generated answer as a string.\n",
    "    \"\"\"\n",
    "    print(\"\\n---ANSWER GENERATION---\")\n",
    "    \n",
    "    documents = state[\"documents\"]\n",
    "\n",
    "    # Use original_question if available (after rewriting), otherwise default to input question\n",
    "    original_question = state.get(\"original_question\",0)\n",
    "    if original_question !=0:\n",
    "        question = original_question\n",
    "    else:\n",
    "        question = state[\"question\"]\n",
    "    \n",
    "     # Ensure all documents are LangChain Document objects (convert from dicts if needed)\n",
    "    documents = [\n",
    "        Document(metadata=doc[\"metadata\"], page_content=doc[\"page_content\"])\n",
    "        if isinstance(doc, dict) else doc\n",
    "        for doc in documents\n",
    "    ]\n",
    "\n",
    "    # Format the prompt for the answer generator\n",
    "    answer_generator_prompt = answer_generator_prompt_template.format(\n",
    "        context=documents,\n",
    "        question=question\n",
    "    )\n",
    "\n",
    "    # Call the LLM to generate the answer\n",
    "    answer_generation = llm_gpt.invoke(answer_generator_prompt)\n",
    "    print(f\"Answer generation has been generated.\")\n",
    "\n",
    "    return {\"generation\": answer_generation.content}\n",
    "\n",
    "\n",
    "# ------------------------ Web Searcher Node ------------------------\n",
    "def web_search(state):\n",
    "    \"\"\"\n",
    "    Performs a real-time web search and appends results to previously retrieved documents.\n",
    "\n",
    "    This node is used when:\n",
    "    - The vectorstore lacks sufficient relevant information\n",
    "    - The original question requires current or factual information from the web\n",
    "\n",
    "    It queries the web using a tool (e.g., Tavily), formats the returned results as LangChain-style\n",
    "    `Document` objects, and appends them to the existing document list for downstream answer generation.\n",
    "\n",
    "    Args:\n",
    "        state (GraphState): Current graph state with the user's question and optional prior documents.\n",
    "\n",
    "    Returns:\n",
    "        dict: Updated state with the combined list of vectorstore and web search documents under `\"documents\"`.\n",
    "    \"\"\"\n",
    "\n",
    "    print(\"\\n---WEB SEARCH---\")\n",
    "\n",
    "    question = state[\"question\"]\n",
    "    documents = state.get(\"documents\", [])\n",
    "\n",
    "    # Run the web search using the web search tool \n",
    "    web_results = web_search_tool.invoke(question)\n",
    "\n",
    "    # Convert raw web search results into a simplified format\n",
    "    formatted_web_results = [\n",
    "            {\n",
    "                \"metadata\": {\n",
    "                    \"title\": result[\"title\"],\n",
    "                    \"url\": result[\"url\"]\n",
    "                },\n",
    "                \"page_content\": result[\"content\"]\n",
    "            }\n",
    "            for result in web_results\n",
    "        ]\n",
    "    \n",
    "    # Ensure previous documents are consistently formatted as LangChain Document objects\n",
    "    documents = [\n",
    "        Document(metadata=doc[\"metadata\"], page_content=doc[\"page_content\"])\n",
    "        if isinstance(doc, dict) else doc\n",
    "        for doc in documents\n",
    "    ]\n",
    "\n",
    "    # Append the new web documents\n",
    "    documents.extend(formatted_web_results)\n",
    "\n",
    "    print(f\"Total number of web search documents: {len(formatted_web_results)}\")\n",
    "    return {\"documents\": documents}\n",
    "\n",
    "# ------------------------ Chitter-Chatter Node ------------------------\n",
    "def chitter_chatter(state):\n",
    "    \"\"\"\n",
    "    Handles casual, off-topic, or unanswerable in-scope questions using a fallback assistant.\n",
    "\n",
    "    This node is designed to keep the user engaged and politely redirect them toward questions\n",
    "    that are better suited to the system's capabilities.\n",
    "\n",
    "    Args:\n",
    "        state (GraphState): Current graph state containing the user question.\n",
    "\n",
    "    Returns:\n",
    "        dict: Response from the Chitter-Chatter agent under the key `\"generation\"`.\n",
    "    \"\"\"\n",
    "    print(\"\\n---CHIT-CHATTING---\")\n",
    "    question = state[\"question\"]\n",
    "\n",
    "    # Generate a friendly fallback response using the Chitter-Chatter prompt\n",
    "    chitterchatter_response = llm_gpt_mini.invoke(\n",
    "        [SystemMessage(chitterchatter_prompt),\n",
    "         HumanMessage(question)])\n",
    "    \n",
    "    return {\"generation\": chitterchatter_response.content}\n",
    "\n",
    "\n",
    "# ------------------------ Adaptive Query Rewrite Node ------------------------\n",
    "def query_rewriter(state):\n",
    "    \"\"\"\n",
    "    Rewrites the original question if the answer was hallucinated or unhelpful.\n",
    "\n",
    "    This node helps improve retrieval quality in the second attempt by:\n",
    "    - Identifying gaps between the original query and the generated answer\n",
    "    - Generating a clearer, more focused version of the question\n",
    "    - Keeping a copy of the original for fallback comparison\n",
    "\n",
    "    Args:\n",
    "        state (GraphState): Contains the original and current question, and the LLM's previous answer.\n",
    "\n",
    "    Returns:\n",
    "        dict: Updated state with the rewritten question and preserved original.\n",
    "    \"\"\"\n",
    "    print(\"\\n---QUERY REWRITE---\")\n",
    "\n",
    "    # Use original question if available, otherwise fall back to input\n",
    "    original_question = state.get(\"original_question\",0)\n",
    "    if original_question !=0:\n",
    "        question = original_question\n",
    "    else:\n",
    "        question = state[\"question\"]\n",
    "\n",
    "    generation = state[\"generation\"]\n",
    "\n",
    "    # Create prompt and invoke the query rewriter\n",
    "    query_rewriter_prompt = query_rewriter_prompt_template.format(\n",
    "        question=question, \n",
    "        generation=generation,\n",
    "        vectorstore_content_summary = vectorstore_content_summary\n",
    "    )\n",
    "\n",
    "    # Use the LLM model to grade the document\n",
    "    query_rewriter_result = llm_gpt.with_structured_output(method=\"json_mode\").invoke(\n",
    "        query_rewriter_prompt)\n",
    "    \n",
    "    return {\"question\": query_rewriter_result['rewritten_question'],\n",
    "            \"original_question\": question}\n",
    "\n",
    "\n",
    "# ------------------------ Retry Counter Node for Hallucination Checker ------------------------\n",
    "def hallucination_checker_tracker(state):\n",
    "    \"\"\"\n",
    "    Tracks how many times the hallucination checker has been triggered.\n",
    "\n",
    "    This helps avoid infinite loops in the graph by limiting retries after repeated failures.\n",
    "\n",
    "    Args:\n",
    "        state (GraphState): Current state of the graph including retry metadata.\n",
    "\n",
    "    Returns:\n",
    "        dict: Updated state with incremented `hallucination_checker_attempts`.\n",
    "    \"\"\"\n",
    "    num_attempts = state.get(\"hallucination_checker_attempts\", 0)\n",
    "    return {\"hallucination_checker_attempts\": num_attempts + 1}\n",
    "\n",
    "# ------------------------ Retry Counter Node for Answer Verifier ------------------------\n",
    "def answer_verifier_tracker(state):\n",
    "    \"\"\"\n",
    "    Tracks how many times the answer usefulness checker has been triggered.\n",
    "\n",
    "    This node helps the workflow know when to stop trying to rewrite queries\n",
    "    after repeated failures to generate an appropriate answer.\n",
    "\n",
    "    Args:\n",
    "        state (GraphState): Current state including verification metadata.\n",
    "\n",
    "    Returns:\n",
    "        dict: Updated state with incremented `answer_verifier_attempts`.\n",
    "    \"\"\"\n",
    "    num_attempts = state.get(\"answer_verifier_attempts\", 0)\n",
    "    return {\"answer_verifier_attempts\": num_attempts + 1}"
   ]
  },
  {
   "cell_type": "markdown",
   "metadata": {},
   "source": [
    "### 2\\.3 Define Edge Functions\n",
    "\n",
    "This section defines all edge functions responsible for decision-making and flow control within the LangGraph workflow.\n",
    "\n",
    "These functions serve as conditional logic that that determines the next step based on current state, enabling the graph to adapt intelligently at runtime. Specifically, these edges handle:\n",
    "- Routing the user query via the Query Router Agent\n",
    "- Evaluating document quality using asynchronous relevance grading \n",
    "- Deciding whether to generate or retry based on document sufficiency \n",
    "- Verifying grounding and usefulness of the generated answer, with built-in retry logic \n",
    "\n",
    "Together, these edges form the decision backbone that connects agent nodes. "
   ]
  },
  {
   "cell_type": "markdown",
   "metadata": {},
   "source": [
    "This section also introduces a key Python: \"Async Programming\", used to improve performance when grading multiple documents.\n",
    "\n",
    "Async Functions:\n",
    "- Defined using `async def`, which creates a coroutine.\n",
    "- Calling an async function returns a `coroutine` object—it does not run immediately.\n",
    "- To execute, the coroutine must be awaited.\n",
    "\n",
    "`await` Expression:\n",
    "- Used inside async functions to pause execution until the awaited task completes.\n",
    "- While paused, control is yielded back to the event loop, allowing other tasks to run.\n",
    "- Execution resumes once the awaited operation finishes.\n",
    "\n",
    "`asyncio.gather()`\n",
    "- Executes multiple coroutines concurrently and waits for all to finish.\n",
    "- Returns results in the same order as the input coroutines.\n",
    "- Ideal for parallel tasks—like grading multiple documents at once.\n",
    "\n",
    "In this workflow, we use ``grade_documents_parallel()`` to apply async programming. This allows the system to evaluate all retrieved documents simultaneously, making it significantly faster and more efficient than grading one document at a time."
   ]
  },
  {
   "cell_type": "code",
   "execution_count": 37,
   "metadata": {},
   "outputs": [],
   "source": [
    "# ------------------------ Routing Decision  ------------------------\n",
    "def route_question(state):\n",
    "    \"\"\"\n",
    "    Routes the user question to the appropriate agent based on the Query Router's classification.  \n",
    "\n",
    "    Args:\n",
    "        state (GraphState): Contains the user's input question.\n",
    "\n",
    "    Returns:\n",
    "        str: One of 'Vectorstore', 'Websearch', or 'Chitter-Chatter'.\n",
    "    \"\"\"\n",
    "    print(\"---ROUTING QUESTION---\")\n",
    "    question = state[\"question\"]\n",
    "    route_question_response = llm_gpt.with_structured_output(method=\"json_mode\").invoke(\n",
    "        [SystemMessage(query_router_prompt),\n",
    "        HumanMessage(question)]\n",
    "    )\n",
    "\n",
    "    parsed_router_output = route_question_response[\"Datasource\"]\n",
    "    \n",
    "    if parsed_router_output == \"Websearch\":\n",
    "        print(\"---ROUTING QUESTION TO WEB SEARCH---\")\n",
    "        return \"Websearch\"\n",
    "    elif parsed_router_output == \"Vectorstore\":\n",
    "        print(\"---ROUTING QUESTION TO VECTORSTORE---\")\n",
    "        return \"Vectorstore\"\n",
    "    elif parsed_router_output == \"Chitter-Chatter\":\n",
    "        print(\"---ROUTING QUESTION TO CHITTER-CHATTER---\")\n",
    "        return \"Chitter-Chatter\"\n",
    "\n",
    "\n",
    "# ------------------------ Async document relevance grading  ------------------------\n",
    "async def grade_documents_parallel(state):\n",
    "    \"\"\"\n",
    "    Grades retrieved documents asynchronously to determine their relevance to the user's question.\n",
    "\n",
    "    Documents are processed in parallel using async calls. If 50% or more are irrelevant,\n",
    "    the system flags this as a failure, triggering a web search in the next step.\n",
    "\n",
    "    Args:\n",
    "        state (GraphState): Contains the documents and question.\n",
    "\n",
    "    Returns:\n",
    "        dict: Updated state with filtered documents and a `\"checker_result\"` of 'pass' or 'fail'.\n",
    "    \"\"\"\n",
    "    print(\"---CHECK DOCUMENT RELEVANCE TO QUESTION---\")\n",
    "    question = state[\"question\"]\n",
    "    documents = state[\"documents\"]\n",
    "    \n",
    "     # Inner coroutine that grades one document at a time using the relevance grader prompt\n",
    "    async def grade_document(doc, question):\n",
    "        relevance_grader_prompt = relevance_grader_prompt_template.format(\n",
    "            document=doc,\n",
    "            question=question\n",
    "        )\n",
    "        grader_result = await llm_gpt_mini.with_structured_output(method=\"json_mode\").ainvoke(\n",
    "            relevance_grader_prompt)\n",
    "        return grader_result\n",
    "    \n",
    "    # Create async tasks for grading all documents\n",
    "    tasks = [grade_document(doc, question) for doc in documents]\n",
    "    \n",
    "    # Run all tasks concurrently\n",
    "    results = await asyncio.gather(*tasks)\n",
    "    \n",
    "    filtered_docs = []\n",
    "\n",
    "   # Collect only documents marked as \"pass\"\n",
    "    for i, score in enumerate(results):\n",
    "        if score[\"binary_score\"].lower() == \"pass\":\n",
    "            print(f\"---GRADE: DOCUMENT RELEVANT--- {score['binary_score']}\")\n",
    "            filtered_docs.append(documents[i]) # only keep the relevant ones\n",
    "        else:\n",
    "            print(\"---GRADE: DOCUMENT NOT RELEVANT---\")\n",
    "    \n",
    "    # Analyze how many documents were filtered out\n",
    "    total_docs = len(documents)\n",
    "    relevant_docs = len(filtered_docs)\n",
    "    \n",
    "    if total_docs > 0:\n",
    "        filtered_out_percentage = (total_docs - relevant_docs) / total_docs\n",
    "        \n",
    "        # If more than 50% of documents were irrelevant, fail and fall back to web search\n",
    "        checker_result = \"fail\" if filtered_out_percentage >= 0.5 else \"pass\"\n",
    "        print(f\"---FILTERED OUT {filtered_out_percentage*100:.1f}% OF IRRELEVANT DOCUMENTS---\")\n",
    "        print(f\"---**{checker_result}**---\")\n",
    "    else:\n",
    "        # If no documents were retrieved at all, treat as automatic failure\n",
    "        checker_result = \"fail\"\n",
    "        print(\"---NO DOCUMENTS AVAILABLE, WEB SEARCH TRIGGERED---\")\n",
    "    \n",
    "    return {\"documents\": filtered_docs, \"checker_result\": checker_result}\n",
    "\n",
    "\n",
    "# ------------------------ Decide whether to generate or fallback ------------------------\n",
    "def decide_to_generate(state):\n",
    "    \"\"\"\n",
    "    Conditional edge function used after document relevance grading.\n",
    "\n",
    "    It checks the `checker_result` from the previous step:\n",
    "    - If the result is 'fail' (indicating that a majority of documents were irrelevant),\n",
    "      it triggers a fallback to web search for more reliable context.\n",
    "    - If the result is 'pass', it proceeds to the answer generation node.\n",
    "\n",
    "    Args:\n",
    "        state (GraphState): Includes the 'checker_result' from the document grading step.\n",
    "\n",
    "    Returns:\n",
    "        str: Either 'generate' or 'Websearch', used to transition to the next node in the LangGraph.\n",
    "    \"\"\"\n",
    "    print(\"---CHECK GENERATION CONDITION---\")\n",
    "    checker_result = state[\"checker_result\"]\n",
    "    \n",
    "    if checker_result == \"fail\":\n",
    "        print(\n",
    "            \"---DECISION: MORE THAN HALF OF THE DOCUMENTS ARE IRRELEVANT TO QUESTION, NOW INCLUDE WEB SEARCH---\"\n",
    "        )\n",
    "        return \"Websearch\"\n",
    "    else:\n",
    "        # We have relevant documents, so generate answer\n",
    "        print(\"---DECISION: GENERATE---\")\n",
    "        return \"generate\"\n",
    "\n",
    "\n",
    "# # ------------------------ Final Answer Validation ------------------------\n",
    "def check_generation_vs_documents_and_question(state):\n",
    "    \"\"\"\n",
    "    Conditional edge function verifies the quality of the generated answer against two criteria::\n",
    "    - Grounded in the retrieved documents (hallucination check)\n",
    "    - Relevant to the original user question (answer verifier)\n",
    "\n",
    "    Depending on the result, this function controls whether the system proceeds, rewrites the query,\n",
    "    retries answer generation, or stops after exceeding retry limits.\n",
    "\n",
    "    Args:\n",
    "        state (GraphState): Includes question, generated answer, documents, and retry counters.\n",
    "\n",
    "    Returns:\n",
    "        str: One of the route labels used in LangGraph transitions:\n",
    "            - 'useful': Answer is grounded and relevant\n",
    "            - 'not useful': Answer is grounded but does not address the question\n",
    "            - 'not supported': Answer is not grounded (hallucination)\n",
    "            - 'max retries': Too many failed attempts, abort or fallback\n",
    "    \"\"\"\n",
    "\n",
    "    print(\"---CHECK HALLUCINATIONS WITH DOCUMENTS---\")\n",
    "\n",
    "    # Use original rewritten question if present; otherwise use latest version\n",
    "    question = state[\"question\"]\n",
    "    original_question = state.get(\"original_question\",0)\n",
    "    \n",
    "    if original_question !=0:\n",
    "        question = original_question\n",
    "    else:\n",
    "        question = state[\"question\"]\n",
    "\n",
    "    documents = state[\"documents\"]\n",
    "    generation = state[\"generation\"]\n",
    "\n",
    "    # Retry counters\n",
    "    hallucination_checker_attempts = state.get(\"hallucination_checker_attempts\", 0)\n",
    "    answer_verifier_attempts = state.get(\"answer_verifier_attempts\", 0)\n",
    "\n",
    "    # Run hallucination checker: does the answer come from the documents?\n",
    "    hallucination_checker_prompt = hallucination_checker_prompt_template.format(\n",
    "        documents=documents, \n",
    "        generation=generation\n",
    "    )\n",
    "    hallucination_checker_result = llm_gpt_mini.with_structured_output(method=\"json_mode\").invoke(\n",
    "    hallucination_checker_prompt)\n",
    "    \n",
    "    # Helper to format \"1st\", \"2nd\", etc.\n",
    "    def ordinal(n):\n",
    "        return f\"{n}{'th' if 10 <= n % 100 <= 20 else {1:'st', 2:'nd', 3:'rd'}.get(n % 10, 'th')}\"\n",
    "\n",
    "    # If generation is grounded (pass hallucination check)\n",
    "    if hallucination_checker_result['binary_score'].lower() == \"pass\":\n",
    "        print(\"---DECISION: GENERATION IS GROUNDED IN DOCUMENTS---\")\n",
    "        \n",
    "        # Now check if it answers the question usefully\n",
    "        print(\"---VERIFY ANSWER WITH QUESTION---\")\n",
    "        # Test using question and generation from above\n",
    "        answer_verifier_prompt = answer_verifier_prompt_template.format(\n",
    "            question=question, \n",
    "            generation=generation\n",
    "        )\n",
    "        answer_verifier_result = llm_gpt_mini.with_structured_output(method=\"json_mode\").invoke(\n",
    "        answer_verifier_prompt)\n",
    "\n",
    "        # If answer is grounded AND relevant, return final result\n",
    "        if answer_verifier_result['binary_score'].lower() == \"pass\":\n",
    "            print(\"---DECISION: GENERATION ADDRESSES QUESTION---\")\n",
    "            return \"useful\"\n",
    "        \n",
    "        # If max attempts reached for usefulness check, exit\n",
    "        elif answer_verifier_attempts > 1:\n",
    "            print(\"---DECISION: MAX RETRIES REACHED---\")\n",
    "            return \"max retries\"\n",
    "        \n",
    "        # Otherwise, try query rewrite and retry generation\n",
    "        else:\n",
    "            print(\"---DECISION: GENERATION DOES NOT ADDRESS QUESTION, RE-WRITE QUERY---\")\n",
    "            print(f\"This is the {ordinal(answer_verifier_attempts+1)} attempt.\")\n",
    "            return \"not useful\"\n",
    "    \n",
    "    # If generation is NOT grounded and retry limit exceeded\n",
    "    elif hallucination_checker_attempts > 1:\n",
    "        print(\"---DECISION: MAX RETRIES REACHED---\")\n",
    "        return \"max retries\"\n",
    "    \n",
    "    # If answer is not grounded but we can still retry\n",
    "    else:\n",
    "        print(\"---DECISION: GENERATION IS NOT GROUNDED IN DOCUMENTS, RE-TRY---\")\n",
    "        print(f\"This is the {ordinal(hallucination_checker_attempts+1)} attempt.\")\n",
    "        return \"not supported\""
   ]
  },
  {
   "cell_type": "markdown",
   "metadata": {},
   "source": [
    "### 2\\.4 Define Agentic RAG Workflow (Graph Assembly)\n",
    "\n",
    "This section defines the full LangGraph workflow by connecting all agents and conditional edge functions into a structured graph. It establishes:\n",
    "- Entry routing via Query Router Agent classification\n",
    "- Feedback loops for hallucination and answer verification\n",
    "- Conditional flow control via document grading and answer evaluation\n",
    "- Exit points for high-confidence answers or fallback responses"
   ]
  },
  {
   "cell_type": "code",
   "execution_count": 38,
   "metadata": {},
   "outputs": [],
   "source": [
    "# Initialize the graph with shared state structure\n",
    "workflow = StateGraph(GraphState)\n",
    "\n",
    "# === Add agent nodes === \n",
    "workflow.add_node(\"WebSearcher\", web_search)                    # web search\n",
    "workflow.add_node(\"DocumentRetriever\", document_retriever)      # Multi-query RAG + MMR + RRF\n",
    "workflow.add_node(\"RelevanceGrader\", grade_documents_parallel)  # Async document evaluation\n",
    "workflow.add_node(\"AnswerGenerator\", answer_generator)          # Generate grounded response\n",
    "workflow.add_node(\"QueryRewriter\", query_rewriter)              # Rewrite query if generation fails\n",
    "workflow.add_node(\"ChitterChatter\", chitter_chatter)            #  Fallback for unsupported input\n",
    "\n",
    "# === Add retry tracker nodes ===\n",
    "workflow.add_node(\"HallucinationCheckerFailed\", hallucination_checker_tracker)\n",
    "workflow.add_node(\"AnswerVerifierFailed\", answer_verifier_tracker)\n",
    "\n",
    "# === Entry point: Route query to appropriate agent ===\n",
    "workflow.set_conditional_entry_point(\n",
    "    route_question,\n",
    "    {\n",
    "        \"Websearch\": \"WebSearcher\",\n",
    "        \"Vectorstore\": \"DocumentRetriever\",\n",
    "        \"Chitter-Chatter\": \"ChitterChatter\",\n",
    "    },\n",
    ")\n",
    "\n",
    "# === Node transitions ===\n",
    "workflow.add_edge(\"DocumentRetriever\", \"RelevanceGrader\")           # Retrieve → Grade\n",
    "workflow.add_edge(\"WebSearcher\", \"AnswerGenerator\")                 # Web search → Generate\n",
    "\n",
    "workflow.add_edge(\"HallucinationCheckerFailed\", \"AnswerGenerator\")  # Retry after failed grounding\n",
    "workflow.add_edge(\"AnswerVerifierFailed\", \"QueryRewriter\")          # Retry after poor answer\n",
    "workflow.add_edge(\"QueryRewriter\", \"DocumentRetriever\")             # Rewritten query → new retrieval\n",
    "workflow.add_edge(\"ChitterChatter\", END)                               # End if fallback agent used\n",
    "\n",
    "# === Conditional routing after document grading ===\n",
    "workflow.add_conditional_edges(\n",
    "    \"RelevanceGrader\",\n",
    "    decide_to_generate,\n",
    "    {\n",
    "        \"Websearch\": \"WebSearcher\",         # Too many irrelevant docs → Web search\n",
    "        \"generate\": \"AnswerGenerator\",      # Good enough → Proceed to generate\n",
    "    },\n",
    ")\n",
    "\n",
    "# === Conditional routing after generation quality checks ===\n",
    "workflow.add_conditional_edges(\n",
    "    \"AnswerGenerator\",\n",
    "    check_generation_vs_documents_and_question,\n",
    "    {\n",
    "        \"not supported\": \"HallucinationCheckerFailed\",  # Hallucinated → Retry generation\n",
    "        \"useful\": END,                                  # Success\n",
    "        \"not useful\": \"AnswerVerifierFailed\",           # Off-topic → Rewrite & retry\n",
    "        \"max retries\": \"ChitterChatter\"                 # Stop after too many failures\n",
    "    },\n",
    ")\n",
    "\n",
    "\n",
    "# --- Compile the graph ---\n",
    "graph = workflow.compile()"
   ]
  },
  {
   "cell_type": "code",
   "execution_count": 39,
   "metadata": {},
   "outputs": [
    {
     "data": {
      "image/png": "[encoded data removed]",
      "text/plain": [
       "<IPython.core.display.Image object>"
      ]
     },
     "metadata": {},
     "output_type": "display_data"
    }
   ],
   "source": [
    "# ------------------------ Visualize the Graph Structure ------------------------\n",
    "# This built-in visualization to render the workflow as a flow diagram.\n",
    "display(Image(graph.get_graph().draw_mermaid_png()))"
   ]
  },
  {
   "cell_type": "markdown",
   "metadata": {},
   "source": [
    "## 3\\. Run the Workflow (Graph Execution)\n",
    "LangGraph uses a \"message-passing execution model\", inspired by Google's Pregel system. \n",
    "\n",
    "Execution flows through the graph based on data, decision logic, and state updates:\n",
    "1. **Activation**: Nodes become active when they receive input.\n",
    "2. **Processing**: Each node execute its logic and modifies the shared `GraphState`.\n",
    "3. **Message Passing**: Updated state is passed to the next node(s) based on conditional edges.\n",
    "4. **Termination**: Execution stops when no nodes are active. The `END` node terminates the execution.\n",
    "\n",
    "**Test Examples** \n",
    "You tested the workflow with four types of questions, each triggering a different agent pathway:\n",
    "1. Web Search Example: Routed to the ``WebSearcher`` due to real-time or factual content needs.\n",
    "2. Vectorstore Search Example: Routed to the ``DocumentRetriever`` and successfully answered using vectorstore content.\n",
    "3. Chitter-Chatter Example: Routed to ``ChitterChatter`` due to being off-topic or casual (e.g., small talk).\n",
    "4. Vectorstore Search Loop Example: Started with vectorstore retrieval, but most documents were irrelevant. Then triggered retry logic (e.g., web fallback or query rewriting), showing how the graph handles failed retrieval or weak answers."
   ]
  },
  {
   "cell_type": "code",
   "execution_count": 40,
   "metadata": {},
   "outputs": [
    {
     "name": "stdout",
     "output_type": "stream",
     "text": [
      "---ROUTING QUESTION---\n",
      "---ROUTING QUESTION TO WEB SEARCH---\n",
      "{'question': 'Who is Peter Drucker, and where was he born?'}\n",
      "\n",
      "---WEB SEARCH---\n",
      "Total number of web search documents: 5\n",
      "{'question': 'Who is Peter Drucker, and where was he born?', 'documents': [{'metadata': {'title': 'Peter F. Drucker | Biography, Management, Books, & Facts - Britannica', 'url': 'https://www.britannica.com/money/Peter-F-Drucker'}, 'page_content': 'Peter F. Drucker (born November 19, 1909, Vienna, Austria—died November 11, 2005, Claremont, California, U.S.) was an Austrian-born American'}, {'metadata': {'title': 'Peter Drucker Biography - curiouscat.com', 'url': 'https://curiouscat.com/management/experts/peter-drucker'}, 'page_content': 'Peter Ferdinand Drucker (19 Nov 1909 - 11 Nov 2005) was a leading management theorist. Drucker, born in Vienna, Austria, moved to the United States in 1937.'}, {'metadata': {'title': 'Peter F. Drucker | Biography & Management Theory - Study.com', 'url': 'https://study.com/academy/lesson/peter-f-drucker-father-of-management-theory.html'}, 'page_content': 'Lesson Summary. Peter F. Drucker was born in Vienna, Austria. He was surrounded by Austrian intellectuals that worked with his father.'}, {'metadata': {'title': 'About Peter Drucker * Drucker Institute', 'url': 'https://drucker.institute/perspective__trashed/about-peter-drucker/'}, 'page_content': 'Peter Drucker was born in Vienna, Austria, on November 19, 1909. The household in which he grew up was one of great intellectual ferment. His parents, Adolph'}, {'metadata': {'title': 'PETER F. DRUCKER', 'url': 'https://www.druckerforum.org/peter-f-drucker/'}, 'page_content': 'Peter F. Drucker was born in Vienna on November 19, 1909 in Vienna, when the city was still the vibrant centre of the Habsburg monarchy.'}]}\n",
      "\n",
      "---ANSWER GENERATION---\n",
      "Answer generation has been generated.\n",
      "---CHECK HALLUCINATIONS WITH DOCUMENTS---\n",
      "---DECISION: GENERATION IS GROUNDED IN DOCUMENTS---\n",
      "---VERIFY ANSWER WITH QUESTION---\n",
      "---DECISION: GENERATION ADDRESSES QUESTION---\n",
      "{'question': 'Who is Peter Drucker, and where was he born?', 'generation': 'Peter Drucker was an Austrian-born American who became a leading management theorist. He was born in Vienna, Austria, on November 19, 1909.\\n\\n**References**:\\n- Peter F. Drucker | Biography, Management, Books, & Facts - Britannica. Retrieved from [https://www.britannica.com/money/Peter-F-Drucker](https://www.britannica.com/money/Peter-F-Drucker)\\n- Peter Drucker Biography - curiouscat.com. Retrieved from [https://curiouscat.com/management/experts/peter-drucker](https://curiouscat.com/management/experts/peter-drucker)\\n- About Peter Drucker * Drucker Institute. Retrieved from [https://drucker.institute/perspective__trashed/about-peter-drucker/](https://drucker.institute/perspective__trashed/about-peter-drucker/)', 'documents': [{'metadata': {'title': 'Peter F. Drucker | Biography, Management, Books, & Facts - Britannica', 'url': 'https://www.britannica.com/money/Peter-F-Drucker'}, 'page_content': 'Peter F. Drucker (born November 19, 1909, Vienna, Austria—died November 11, 2005, Claremont, California, U.S.) was an Austrian-born American'}, {'metadata': {'title': 'Peter Drucker Biography - curiouscat.com', 'url': 'https://curiouscat.com/management/experts/peter-drucker'}, 'page_content': 'Peter Ferdinand Drucker (19 Nov 1909 - 11 Nov 2005) was a leading management theorist. Drucker, born in Vienna, Austria, moved to the United States in 1937.'}, {'metadata': {'title': 'Peter F. Drucker | Biography & Management Theory - Study.com', 'url': 'https://study.com/academy/lesson/peter-f-drucker-father-of-management-theory.html'}, 'page_content': 'Lesson Summary. Peter F. Drucker was born in Vienna, Austria. He was surrounded by Austrian intellectuals that worked with his father.'}, {'metadata': {'title': 'About Peter Drucker * Drucker Institute', 'url': 'https://drucker.institute/perspective__trashed/about-peter-drucker/'}, 'page_content': 'Peter Drucker was born in Vienna, Austria, on November 19, 1909. The household in which he grew up was one of great intellectual ferment. His parents, Adolph'}, {'metadata': {'title': 'PETER F. DRUCKER', 'url': 'https://www.druckerforum.org/peter-f-drucker/'}, 'page_content': 'Peter F. Drucker was born in Vienna on November 19, 1909 in Vienna, when the city was still the vibrant centre of the Habsburg monarchy.'}]}\n"
     ]
    },
    {
     "data": {
      "text/markdown": [
       "\n",
       "======================================== Final Output ========================================\n"
      ],
      "text/plain": [
       "<IPython.core.display.Markdown object>"
      ]
     },
     "metadata": {},
     "output_type": "display_data"
    },
    {
     "data": {
      "text/markdown": [
       "Peter Drucker was an Austrian-born American who became a leading management theorist. He was born in Vienna, Austria, on November 19, 1909.\n",
       "\n",
       "**References**:\n",
       "- Peter F. Drucker | Biography, Management, Books, & Facts - Britannica. Retrieved from [https://www.britannica.com/money/Peter-F-Drucker](https://www.britannica.com/money/Peter-F-Drucker)\n",
       "- Peter Drucker Biography - curiouscat.com. Retrieved from [https://curiouscat.com/management/experts/peter-drucker](https://curiouscat.com/management/experts/peter-drucker)\n",
       "- About Peter Drucker * Drucker Institute. Retrieved from [https://drucker.institute/perspective__trashed/about-peter-drucker/](https://drucker.institute/perspective__trashed/about-peter-drucker/)"
      ],
      "text/plain": [
       "<IPython.core.display.Markdown object>"
      ]
     },
     "metadata": {},
     "output_type": "display_data"
    }
   ],
   "source": [
    "# Define a test question to run through the LangGraph workflow\n",
    "test_question1 = \"Who is Peter Drucker, and where was he born?\"\n",
    "\n",
    "# Execute the graph asynchronously in streaming mode.\n",
    "async for event1 in graph.astream({\"question\": test_question1}, stream_mode=\"values\"):\n",
    "    print(event1)   # Print state after each node is processed\n",
    "\n",
    "# Display the final result after the graph has completed execution\n",
    "display(Markdown(f\"\\n{'='*40} Final Output {'='*40}\\n\"))\n",
    "display(Markdown(event1[\"generation\"]))"
   ]
  },
  {
   "cell_type": "code",
   "execution_count": 41,
   "metadata": {},
   "outputs": [
    {
     "name": "stdout",
     "output_type": "stream",
     "text": [
      "---ROUTING QUESTION---\n",
      "---ROUTING QUESTION TO VECTORSTORE---\n",
      "{'question': 'What did Drucker say about knowledge workers in the book?'}\n",
      "\n",
      "---QUERY TRANSLATION AND RAG-FUSION---\n",
      "Total number of results: 8\n"
     ]
    },
    {
     "data": {
      "text/markdown": [
       "     Document 1 from `The Effective Executive-2002.pdf`, page 17"
      ],
      "text/plain": [
       "<IPython.core.display.Markdown object>"
      ]
     },
     "metadata": {},
     "output_type": "display_data"
    },
    {
     "data": {
      "text/markdown": [
       "     Document 2 from `The Daily Drucker-2004.pdf`, page 321"
      ],
      "text/plain": [
       "<IPython.core.display.Markdown object>"
      ]
     },
     "metadata": {},
     "output_type": "display_data"
    },
    {
     "data": {
      "text/markdown": [
       "     Document 3 from `The Daily Drucker-2004.pdf`, page 806"
      ],
      "text/plain": [
       "<IPython.core.display.Markdown object>"
      ]
     },
     "metadata": {},
     "output_type": "display_data"
    },
    {
     "data": {
      "text/markdown": [
       "     Document 4 from `The Essential Drucker-2008.pdf`, page 196"
      ],
      "text/plain": [
       "<IPython.core.display.Markdown object>"
      ]
     },
     "metadata": {},
     "output_type": "display_data"
    },
    {
     "data": {
      "text/markdown": [
       "     Document 5 from `The Daily Drucker-2004.pdf`, page 800"
      ],
      "text/plain": [
       "<IPython.core.display.Markdown object>"
      ]
     },
     "metadata": {},
     "output_type": "display_data"
    },
    {
     "data": {
      "text/markdown": [
       "     Document 6 from `The Essential Drucker-2008.pdf`, page 237"
      ],
      "text/plain": [
       "<IPython.core.display.Markdown object>"
      ]
     },
     "metadata": {},
     "output_type": "display_data"
    },
    {
     "data": {
      "text/markdown": [
       "     Document 7 from `The Daily Drucker-2004.pdf`, page 323"
      ],
      "text/plain": [
       "<IPython.core.display.Markdown object>"
      ]
     },
     "metadata": {},
     "output_type": "display_data"
    },
    {
     "data": {
      "text/markdown": [
       "     Document 8 from `The Daily Drucker-2004.pdf`, page 323"
      ],
      "text/plain": [
       "<IPython.core.display.Markdown object>"
      ]
     },
     "metadata": {},
     "output_type": "display_data"
    },
    {
     "name": "stdout",
     "output_type": "stream",
     "text": [
      "{'question': 'What did Drucker say about knowledge workers in the book?', 'documents': [Document(metadata={'page': 17, 'year': '2002', 'title': 'The Effective Executiver', 'author': 'Peter F. Drucker', 'source': 'The Effective Executive-2002.pdf'}, page_content='. \\nIt takes his knowledge and uses it as the resource, the motivation, and the vision of \\nother knowledge workers. Knowledge workers are rarely in phase with each other, \\nprecisely because they are knowledge workers. Each has his own skill and his own \\nconcerns. One man may be interested in tax accounting or in bacteriology, or in training \\nand developing tomorrow’s key administrators in the city government'), Document(metadata={'page': 321, 'year': '2004', 'title': 'The Daily Drucker: 366 Days of Insight and Motivation for Getting the Right Things Done', 'author': 'Drucker, Peter F.', 'source': 'The Daily Drucker-2004.pdf'}, page_content='.\\n5. Productivity of the knowledge worker is not—at least not\\nprimarily—a matter of the quantity of output. Quality is at least\\nas important.\\n6. Finally, knowledge-worker productivity requires that the\\nknowledge worker be both seen and treated as an “asset” rather\\nthan a “cost.” It requires that knowledge workers want to work\\nfor the organization in preference to all other opportunities.\\nACTION POINT: Apply steps one through five to your knowledge work.\\nManagement Challenges for the 21st Century'), Document(metadata={'page': 806, 'year': '2004', 'title': 'The Daily Drucker: 366 Days of Insight and Motivation for Getting the Right Things Done', 'author': 'Drucker, Peter F.', 'source': 'The Daily Drucker-2004.pdf'}, page_content='. Drucker analyzes the new realities of strategy, shows how to\\nbe a leader in periods of change, and explains the “New Information\\nRevolution,” discussing the information an executive needs and the\\ninformation an executive owes. He also examines knowledge-worker\\nproductivity, and shows that changes in the basic attitude of individuals and\\norganizations, as well as structural changes in work itself, are needed for\\nincreased productivity. Finally, Drucker addresses the ultimate challenge of'), Document(metadata={'page': 196, 'year': '2008', 'title': 'The Essential Drucker', 'author': 'Peter F. Drucker', 'source': 'The Essential Drucker-2008.pdf'}, page_content='. Knowledge \\nworkers, after all, first came into being in any substantial numbers a generation ago. (I coined the \\nterm “knowledge worker” years ago.)  \\nBut also the shift from manual workers who do as they are being told—either by the task or by the \\nboss—to knowledge workers who have to manage themselves profoundly challenges social \\nstructure'), Document(metadata={'page': 800, 'year': '2004', 'title': 'The Daily Drucker: 366 Days of Insight and Motivation for Getting the Right Things Done', 'author': 'Drucker, Peter F.', 'source': 'The Daily Drucker-2004.pdf'}, page_content='. According to Peter Drucker,\\n“This book tries to equip the manager with the understanding, the thinking,\\nthe knowledge, and the skills for today’s and also tomorrow’s jobs.” This\\nmanagement classic has been developed and tested during more than thirty\\nyears of management teaching in universities, executive programs, seminars,\\nand through the author’s close work with managers as a consultant for large\\nand small businesses, government agencies, hospitals, and schools'), Document(metadata={'page': 237, 'year': '2008', 'title': 'The Essential Drucker', 'author': 'Peter F. Drucker', 'source': 'The Essential Drucker-2008.pdf'}, page_content='About the Author \\nPeter F. Drucker was born in 1909 in Vienna and was educated there and in England. He received his \\ndoctorate in public and international law while working as a newspaper reporter in Frankfurt, \\nGermany, and then worked as an economist for an international bank in London. In 1927, he came to \\nthe United States. Drucker’s management books and analyses of economics and society are widely \\nread and respected throughout the world and have been translated into more than 20 languages'), Document(metadata={'page': 323, 'year': '2004', 'title': 'The Daily Drucker: 366 Days of Insight and Motivation for Getting the Right Things Done', 'author': 'Drucker, Peter F.', 'source': 'The Daily Drucker-2004.pdf'}, page_content='24 May\\nDefining the Task in Knowledge Work\\nIn knowledge work, the how only comes after the what has been answered.\\nI n manual work the task is always given. Wherever there still are domestic\\nservants, the owner of the house tells them what to do. The machine or the\\nassembly line programs the factory worker. But, in knowledge work, what to\\ndo becomes the first and decisive question. For knowledge workers are not\\nprogrammed by the machine'), Document(metadata={'page': 323, 'year': '2004', 'title': 'The Daily Drucker: 366 Days of Insight and Motivation for Getting the Right Things Done', 'author': 'Drucker, Peter F.', 'source': 'The Daily Drucker-2004.pdf'}, page_content='. They know\\nwhat steps are most important and what methods need to be used to complete\\nthe tasks; and it is their knowledge that tells them what chores are\\nunnecessary and should be eliminated.\\nWork on knowledge-worker productivity therefore begins with asking the\\nknowledge workers themselves: What is your task? What should it be?\\nWhat should you be expected to contribute? and What hampers you in\\ndoing your task and should be eliminated? The how only comes after the\\nwhat has been answered')]}\n",
      "---CHECK DOCUMENT RELEVANCE TO QUESTION---\n",
      "---GRADE: DOCUMENT RELEVANT--- pass\n",
      "---GRADE: DOCUMENT RELEVANT--- pass\n",
      "---GRADE: DOCUMENT RELEVANT--- pass\n",
      "---GRADE: DOCUMENT RELEVANT--- pass\n",
      "---GRADE: DOCUMENT NOT RELEVANT---\n",
      "---GRADE: DOCUMENT NOT RELEVANT---\n",
      "---GRADE: DOCUMENT RELEVANT--- pass\n",
      "---GRADE: DOCUMENT RELEVANT--- pass\n",
      "---FILTERED OUT 25.0% OF IRRELEVANT DOCUMENTS---\n",
      "---**pass**---\n",
      "---CHECK GENERATION CONDITION---\n",
      "---DECISION: GENERATE---\n",
      "{'question': 'What did Drucker say about knowledge workers in the book?', 'documents': [Document(metadata={'page': 17, 'year': '2002', 'title': 'The Effective Executiver', 'author': 'Peter F. Drucker', 'source': 'The Effective Executive-2002.pdf'}, page_content='. \\nIt takes his knowledge and uses it as the resource, the motivation, and the vision of \\nother knowledge workers. Knowledge workers are rarely in phase with each other, \\nprecisely because they are knowledge workers. Each has his own skill and his own \\nconcerns. One man may be interested in tax accounting or in bacteriology, or in training \\nand developing tomorrow’s key administrators in the city government'), Document(metadata={'page': 321, 'year': '2004', 'title': 'The Daily Drucker: 366 Days of Insight and Motivation for Getting the Right Things Done', 'author': 'Drucker, Peter F.', 'source': 'The Daily Drucker-2004.pdf'}, page_content='.\\n5. Productivity of the knowledge worker is not—at least not\\nprimarily—a matter of the quantity of output. Quality is at least\\nas important.\\n6. Finally, knowledge-worker productivity requires that the\\nknowledge worker be both seen and treated as an “asset” rather\\nthan a “cost.” It requires that knowledge workers want to work\\nfor the organization in preference to all other opportunities.\\nACTION POINT: Apply steps one through five to your knowledge work.\\nManagement Challenges for the 21st Century'), Document(metadata={'page': 806, 'year': '2004', 'title': 'The Daily Drucker: 366 Days of Insight and Motivation for Getting the Right Things Done', 'author': 'Drucker, Peter F.', 'source': 'The Daily Drucker-2004.pdf'}, page_content='. Drucker analyzes the new realities of strategy, shows how to\\nbe a leader in periods of change, and explains the “New Information\\nRevolution,” discussing the information an executive needs and the\\ninformation an executive owes. He also examines knowledge-worker\\nproductivity, and shows that changes in the basic attitude of individuals and\\norganizations, as well as structural changes in work itself, are needed for\\nincreased productivity. Finally, Drucker addresses the ultimate challenge of'), Document(metadata={'page': 196, 'year': '2008', 'title': 'The Essential Drucker', 'author': 'Peter F. Drucker', 'source': 'The Essential Drucker-2008.pdf'}, page_content='. Knowledge \\nworkers, after all, first came into being in any substantial numbers a generation ago. (I coined the \\nterm “knowledge worker” years ago.)  \\nBut also the shift from manual workers who do as they are being told—either by the task or by the \\nboss—to knowledge workers who have to manage themselves profoundly challenges social \\nstructure'), Document(metadata={'page': 323, 'year': '2004', 'title': 'The Daily Drucker: 366 Days of Insight and Motivation for Getting the Right Things Done', 'author': 'Drucker, Peter F.', 'source': 'The Daily Drucker-2004.pdf'}, page_content='24 May\\nDefining the Task in Knowledge Work\\nIn knowledge work, the how only comes after the what has been answered.\\nI n manual work the task is always given. Wherever there still are domestic\\nservants, the owner of the house tells them what to do. The machine or the\\nassembly line programs the factory worker. But, in knowledge work, what to\\ndo becomes the first and decisive question. For knowledge workers are not\\nprogrammed by the machine'), Document(metadata={'page': 323, 'year': '2004', 'title': 'The Daily Drucker: 366 Days of Insight and Motivation for Getting the Right Things Done', 'author': 'Drucker, Peter F.', 'source': 'The Daily Drucker-2004.pdf'}, page_content='. They know\\nwhat steps are most important and what methods need to be used to complete\\nthe tasks; and it is their knowledge that tells them what chores are\\nunnecessary and should be eliminated.\\nWork on knowledge-worker productivity therefore begins with asking the\\nknowledge workers themselves: What is your task? What should it be?\\nWhat should you be expected to contribute? and What hampers you in\\ndoing your task and should be eliminated? The how only comes after the\\nwhat has been answered')], 'checker_result': 'pass'}\n",
      "\n",
      "---ANSWER GENERATION---\n",
      "Answer generation has been generated.\n",
      "---CHECK HALLUCINATIONS WITH DOCUMENTS---\n",
      "---DECISION: GENERATION IS GROUNDED IN DOCUMENTS---\n",
      "---VERIFY ANSWER WITH QUESTION---\n",
      "---DECISION: GENERATION ADDRESSES QUESTION---\n",
      "{'question': 'What did Drucker say about knowledge workers in the book?', 'generation': 'Peter Drucker described knowledge workers as individuals who use their knowledge as a resource, motivation, and vision for other knowledge workers. They have their own skills and concerns, making them rarely in sync with one another. Drucker emphasized that knowledge workers\\' productivity should not be measured primarily by the quantity of output, but rather by the quality. He suggested treating knowledge workers as assets rather than costs and ensuring that they prefer to work for their organization over other opportunities. Understanding the tasks for knowledge work begins with answering \"what\" rather than \"how,\" as knowledge workers are not programmed by machines but must manage themselves and define their tasks (Drucker, 2002; Drucker, 2004; Drucker, 2008).\\n\\n**Reference**:\\nDrucker, P. F. (2002). *The Effective Executive*.  \\nDrucker, P. F. (2004). *The Daily Drucker: 366 Days of Insight and Motivation for Getting the Right Things Done*.  \\nDrucker, P. F. (2008). *The Essential Drucker*.', 'documents': [Document(metadata={'page': 17, 'year': '2002', 'title': 'The Effective Executiver', 'author': 'Peter F. Drucker', 'source': 'The Effective Executive-2002.pdf'}, page_content='. \\nIt takes his knowledge and uses it as the resource, the motivation, and the vision of \\nother knowledge workers. Knowledge workers are rarely in phase with each other, \\nprecisely because they are knowledge workers. Each has his own skill and his own \\nconcerns. One man may be interested in tax accounting or in bacteriology, or in training \\nand developing tomorrow’s key administrators in the city government'), Document(metadata={'page': 321, 'year': '2004', 'title': 'The Daily Drucker: 366 Days of Insight and Motivation for Getting the Right Things Done', 'author': 'Drucker, Peter F.', 'source': 'The Daily Drucker-2004.pdf'}, page_content='.\\n5. Productivity of the knowledge worker is not—at least not\\nprimarily—a matter of the quantity of output. Quality is at least\\nas important.\\n6. Finally, knowledge-worker productivity requires that the\\nknowledge worker be both seen and treated as an “asset” rather\\nthan a “cost.” It requires that knowledge workers want to work\\nfor the organization in preference to all other opportunities.\\nACTION POINT: Apply steps one through five to your knowledge work.\\nManagement Challenges for the 21st Century'), Document(metadata={'page': 806, 'year': '2004', 'title': 'The Daily Drucker: 366 Days of Insight and Motivation for Getting the Right Things Done', 'author': 'Drucker, Peter F.', 'source': 'The Daily Drucker-2004.pdf'}, page_content='. Drucker analyzes the new realities of strategy, shows how to\\nbe a leader in periods of change, and explains the “New Information\\nRevolution,” discussing the information an executive needs and the\\ninformation an executive owes. He also examines knowledge-worker\\nproductivity, and shows that changes in the basic attitude of individuals and\\norganizations, as well as structural changes in work itself, are needed for\\nincreased productivity. Finally, Drucker addresses the ultimate challenge of'), Document(metadata={'page': 196, 'year': '2008', 'title': 'The Essential Drucker', 'author': 'Peter F. Drucker', 'source': 'The Essential Drucker-2008.pdf'}, page_content='. Knowledge \\nworkers, after all, first came into being in any substantial numbers a generation ago. (I coined the \\nterm “knowledge worker” years ago.)  \\nBut also the shift from manual workers who do as they are being told—either by the task or by the \\nboss—to knowledge workers who have to manage themselves profoundly challenges social \\nstructure'), Document(metadata={'page': 323, 'year': '2004', 'title': 'The Daily Drucker: 366 Days of Insight and Motivation for Getting the Right Things Done', 'author': 'Drucker, Peter F.', 'source': 'The Daily Drucker-2004.pdf'}, page_content='24 May\\nDefining the Task in Knowledge Work\\nIn knowledge work, the how only comes after the what has been answered.\\nI n manual work the task is always given. Wherever there still are domestic\\nservants, the owner of the house tells them what to do. The machine or the\\nassembly line programs the factory worker. But, in knowledge work, what to\\ndo becomes the first and decisive question. For knowledge workers are not\\nprogrammed by the machine'), Document(metadata={'page': 323, 'year': '2004', 'title': 'The Daily Drucker: 366 Days of Insight and Motivation for Getting the Right Things Done', 'author': 'Drucker, Peter F.', 'source': 'The Daily Drucker-2004.pdf'}, page_content='. They know\\nwhat steps are most important and what methods need to be used to complete\\nthe tasks; and it is their knowledge that tells them what chores are\\nunnecessary and should be eliminated.\\nWork on knowledge-worker productivity therefore begins with asking the\\nknowledge workers themselves: What is your task? What should it be?\\nWhat should you be expected to contribute? and What hampers you in\\ndoing your task and should be eliminated? The how only comes after the\\nwhat has been answered')], 'checker_result': 'pass'}\n"
     ]
    },
    {
     "data": {
      "text/markdown": [
       "\n",
       "======================================== Final Output ========================================\n"
      ],
      "text/plain": [
       "<IPython.core.display.Markdown object>"
      ]
     },
     "metadata": {},
     "output_type": "display_data"
    },
    {
     "data": {
      "text/markdown": [
       "Peter Drucker described knowledge workers as individuals who use their knowledge as a resource, motivation, and vision for other knowledge workers. They have their own skills and concerns, making them rarely in sync with one another. Drucker emphasized that knowledge workers' productivity should not be measured primarily by the quantity of output, but rather by the quality. He suggested treating knowledge workers as assets rather than costs and ensuring that they prefer to work for their organization over other opportunities. Understanding the tasks for knowledge work begins with answering \"what\" rather than \"how,\" as knowledge workers are not programmed by machines but must manage themselves and define their tasks (Drucker, 2002; Drucker, 2004; Drucker, 2008).\n",
       "\n",
       "**Reference**:\n",
       "Drucker, P. F. (2002). *The Effective Executive*.  \n",
       "Drucker, P. F. (2004). *The Daily Drucker: 366 Days of Insight and Motivation for Getting the Right Things Done*.  \n",
       "Drucker, P. F. (2008). *The Essential Drucker*."
      ],
      "text/plain": [
       "<IPython.core.display.Markdown object>"
      ]
     },
     "metadata": {},
     "output_type": "display_data"
    }
   ],
   "source": [
    "# Vector search example \n",
    "test_question2 = \"What did Drucker say about knowledge workers in the book?\"\n",
    "\n",
    "async for event2 in graph.astream({\"question\": test_question2}, stream_mode=\"values\"):\n",
    "    print(event2)\n",
    "\n",
    "display(Markdown(f\"\\n{'='*40} Final Output {'='*40}\\n\"))\n",
    "display(Markdown(event2[\"generation\"]))"
   ]
  },
  {
   "cell_type": "code",
   "execution_count": 42,
   "metadata": {},
   "outputs": [
    {
     "name": "stdout",
     "output_type": "stream",
     "text": [
      "---ROUTING QUESTION---\n",
      "---ROUTING QUESTION TO CHITTER-CHATTER---\n",
      "{'question': 'How are you doing today?'}\n",
      "\n",
      "---CHIT-CHATTING---\n",
      "{'question': 'How are you doing today?', 'generation': \"I'm doing great, thank you! How about you? Is there something specific about Peter Drucker's management philosophy or leadership principles that you'd like to discuss today?\"}\n"
     ]
    },
    {
     "data": {
      "text/markdown": [
       "\n",
       "======================================== Final Output ========================================\n"
      ],
      "text/plain": [
       "<IPython.core.display.Markdown object>"
      ]
     },
     "metadata": {},
     "output_type": "display_data"
    },
    {
     "data": {
      "text/markdown": [
       "I'm doing great, thank you! How about you? Is there something specific about Peter Drucker's management philosophy or leadership principles that you'd like to discuss today?"
      ],
      "text/plain": [
       "<IPython.core.display.Markdown object>"
      ]
     },
     "metadata": {},
     "output_type": "display_data"
    }
   ],
   "source": [
    "# Chitter-Chatter example \n",
    "test_question3 = \"How are you doing today?\"\n",
    "\n",
    "async for event3 in graph.astream({\"question\": test_question3}, stream_mode=\"values\"):\n",
    "    print(event3)\n",
    "\n",
    "display(Markdown(f\"\\n{'='*40} Final Output {'='*40}\\n\"))\n",
    "display(Markdown(event3[\"generation\"]))"
   ]
  },
  {
   "cell_type": "markdown",
   "metadata": {},
   "source": [
    "A harder question:\n",
    "\n",
    "- Conceptual leap: It asks Drucker to advise sentient AIs that reject all human organizational models.\n",
    "- No grounding: Drucker never wrote about machine consciousness or post-human philosophy.\n",
    "- Core tools removed: Time management, KPIs, human motivation — all irrelevant.\n",
    "- Requires meta-reasoning: The agent must imagine how Drucker would respond with his framework obsolete.\n",
    "- Webproof: Not too much searchable source can answer this.\n",
    "- Hallucination risk: The agent must either fabricate or fall back to abstract principles — no safe middle."
   ]
  },
  {
   "cell_type": "code",
   "execution_count": 44,
   "metadata": {},
   "outputs": [
    {
     "name": "stdout",
     "output_type": "stream",
     "text": [
      "---ROUTING QUESTION---\n",
      "---ROUTING QUESTION TO VECTORSTORE---\n",
      "{'question': '\\nSearch the database first to see how Peter Drucker might advise a sentient AI collective attempting to design its own management philosophy \\nafter rejecting all human organizational models as insufficient for post-biological cognition?\\n'}\n",
      "\n",
      "---QUERY TRANSLATION AND RAG-FUSION---\n",
      "Total number of results: 11\n"
     ]
    },
    {
     "data": {
      "text/markdown": [
       "     Document 1 from `The Daily Drucker-2004.pdf`, page 271"
      ],
      "text/plain": [
       "<IPython.core.display.Markdown object>"
      ]
     },
     "metadata": {},
     "output_type": "display_data"
    },
    {
     "data": {
      "text/markdown": [
       "     Document 2 from `The Effective Executive-2002.pdf`, page 112"
      ],
      "text/plain": [
       "<IPython.core.display.Markdown object>"
      ]
     },
     "metadata": {},
     "output_type": "display_data"
    },
    {
     "data": {
      "text/markdown": [
       "     Document 3 from `The Effective Executive-2002.pdf`, page 133"
      ],
      "text/plain": [
       "<IPython.core.display.Markdown object>"
      ]
     },
     "metadata": {},
     "output_type": "display_data"
    },
    {
     "data": {
      "text/markdown": [
       "     Document 4 from `The Effective Executive-2002.pdf`, page 2"
      ],
      "text/plain": [
       "<IPython.core.display.Markdown object>"
      ]
     },
     "metadata": {},
     "output_type": "display_data"
    },
    {
     "data": {
      "text/markdown": [
       "     Document 5 from `The Daily Drucker-2004.pdf`, page 799"
      ],
      "text/plain": [
       "<IPython.core.display.Markdown object>"
      ]
     },
     "metadata": {},
     "output_type": "display_data"
    },
    {
     "data": {
      "text/markdown": [
       "     Document 6 from `The Daily Drucker-2004.pdf`, page 172"
      ],
      "text/plain": [
       "<IPython.core.display.Markdown object>"
      ]
     },
     "metadata": {},
     "output_type": "display_data"
    },
    {
     "data": {
      "text/markdown": [
       "     Document 7 from `The Essential Drucker-2008.pdf`, page 87"
      ],
      "text/plain": [
       "<IPython.core.display.Markdown object>"
      ]
     },
     "metadata": {},
     "output_type": "display_data"
    },
    {
     "data": {
      "text/markdown": [
       "     Document 8 from `The Daily Drucker-2004.pdf`, page 797"
      ],
      "text/plain": [
       "<IPython.core.display.Markdown object>"
      ]
     },
     "metadata": {},
     "output_type": "display_data"
    },
    {
     "data": {
      "text/markdown": [
       "     Document 9 from `The Daily Drucker-2004.pdf`, page 727"
      ],
      "text/plain": [
       "<IPython.core.display.Markdown object>"
      ]
     },
     "metadata": {},
     "output_type": "display_data"
    },
    {
     "data": {
      "text/markdown": [
       "     Document 10 from `The Daily Drucker-2004.pdf`, page 796"
      ],
      "text/plain": [
       "<IPython.core.display.Markdown object>"
      ]
     },
     "metadata": {},
     "output_type": "display_data"
    },
    {
     "data": {
      "text/markdown": [
       "     Document 11 from `The Daily Drucker-2004.pdf`, page 796"
      ],
      "text/plain": [
       "<IPython.core.display.Markdown object>"
      ]
     },
     "metadata": {},
     "output_type": "display_data"
    },
    {
     "name": "stdout",
     "output_type": "stream",
     "text": [
      "{'question': '\\nSearch the database first to see how Peter Drucker might advise a sentient AI collective attempting to design its own management philosophy \\nafter rejecting all human organizational models as insufficient for post-biological cognition?\\n', 'documents': [Document(metadata={'page': 271, 'year': '2004', 'title': 'The Daily Drucker: 366 Days of Insight and Motivation for Getting the Right Things Done', 'author': 'Drucker, Peter F.', 'source': 'The Daily Drucker-2004.pdf'}, page_content='.\\nThe New Society'), Document(metadata={'page': 112, 'year': '2002', 'title': 'The Effective Executiver', 'author': 'Peter F. Drucker', 'source': 'The Effective Executive-2002.pdf'}, page_content='. But his is the only one of'), Document(metadata={'page': 133, 'year': '2002', 'title': 'The Effective Executiver', 'author': 'Peter F. Drucker', 'source': 'The Effective Executive-2002.pdf'}, page_content='. The definition of the specifications which the answer to the problem had to satisfy, \\nthat is, of the \"boundary conditions\";'), Document(metadata={'page': 2, 'year': '2002', 'title': 'The Effective Executiver', 'author': 'Peter F. Drucker', 'source': 'The Effective Executive-2002.pdf'}, page_content='.\\nPeter F. Drucker \\nApril 2002 \\nContents'), Document(metadata={'page': 799, 'year': '2004', 'title': 'The Daily Drucker: 366 Days of Insight and Motivation for Getting the Right Things Done', 'author': 'Drucker, Peter F.', 'source': 'The Daily Drucker-2004.pdf'}, page_content='. Peter Drucker’s critical perspective will be welcomed\\nby scholars and students troubled by society’s growing reliance on\\ntechnological solutions to complex social and political problems.'), Document(metadata={'page': 172, 'year': '2004', 'title': 'The Daily Drucker: 366 Days of Insight and Motivation for Getting the Right Things Done', 'author': 'Drucker, Peter F.', 'source': 'The Daily Drucker-2004.pdf'}, page_content='.\\n \\nACTION POINT: Abandon what is about to be obsolete, develop a system to\\nexploit your successes, and develop a systematic approach to innovation.\\n“Management’s New Paradigms,” Forbes \\nManagement Challenges for the 21st Century \\nThe Next Society (Corpedia Online Program)'), Document(metadata={'page': 87, 'year': '2008', 'title': 'The Essential Drucker', 'author': 'Peter F. Drucker', 'source': 'The Essential Drucker-2008.pdf'}, page_content='.  \\nA Philosophy of Management  \\nWhat the business enterprise needs is a principle of management that will give full scope to \\nindividual strength and responsibility, and at the same time give common direction of vision and \\neffort, establish team work, and harmonize the goals of the individual with the commonweal.  \\nThe only principle that can do this is management by objectives and self-control. It makes the \\ncommonweal the aim of every manager'), Document(metadata={'page': 797, 'year': '2004', 'title': 'The Daily Drucker: 366 Days of Insight and Motivation for Getting the Right Things Done', 'author': 'Drucker, Peter F.', 'source': 'The Daily Drucker-2004.pdf'}, page_content='. The first part of the book\\ntreats the philosophical shift from a Cartesian universe of mechanical cause\\nto a new universe of pattern, purpose, and configuration. Drucker discusses\\nthe need to organize men of knowledge and of high skill for joint effort, and\\nperformance as a key component of this change'), Document(metadata={'page': 727, 'year': '2004', 'title': 'The Daily Drucker: 366 Days of Insight and Motivation for Getting the Right Things Done', 'author': 'Drucker, Peter F.', 'source': 'The Daily Drucker-2004.pdf'}, page_content='.\\nForty years ago we built into the performance review of managerial\\npeople the question, “Are they ready for promotion?” Now we need to\\nreplace that question with “Are they ready for a bigger, more demanding\\nchallenge and for the addition of new responsibilities to their existing job?”\\n \\nACTION POINT: Create a flat organization. Use information processing—its\\nstructure, its content, and its direction—to ensure that your organization is\\nagile and effective.\\nThe Frontiers of Management'), Document(metadata={'page': 796, 'year': '2004', 'title': 'The Daily Drucker: 366 Days of Insight and Motivation for Getting the Right Things Done', 'author': 'Drucker, Peter F.', 'source': 'The Daily Drucker-2004.pdf'}, page_content='.’ He is thoroughly at home in economics, political science,\\nindustrial psychology, and industrial sociology, and has succeeded admirably\\nin harmonizing the findings of all four disciplines and applying them\\nmeaningfully to the practical problems of the ‘enterprise.’ ” Drucker believes\\nthat the interests of the worker, management, and corporation are\\nreconcilable with society. He advances the idea of “the plant community” in\\nwhich workers are encouraged to take on more responsibility and act like\\n“managers'), Document(metadata={'page': 796, 'year': '2004', 'title': 'The Daily Drucker: 366 Days of Insight and Motivation for Getting the Right Things Done', 'author': 'Drucker, Peter F.', 'source': 'The Daily Drucker-2004.pdf'}, page_content='. Drucker looks at General Motors’\\nmanagerial organization and attempts to understand what makes the company\\nwork so effectively. Certain questions are addressed, such as: “What are the\\ncompany’s core principles, and how do they contribute to the success of the\\norganization?” The principles of organization and management at General\\nMotors described in this book became models for organizations worldwide')]}\n",
      "---CHECK DOCUMENT RELEVANCE TO QUESTION---\n",
      "---GRADE: DOCUMENT NOT RELEVANT---\n",
      "---GRADE: DOCUMENT NOT RELEVANT---\n",
      "---GRADE: DOCUMENT NOT RELEVANT---\n",
      "---GRADE: DOCUMENT NOT RELEVANT---\n",
      "---GRADE: DOCUMENT NOT RELEVANT---\n",
      "---GRADE: DOCUMENT NOT RELEVANT---\n",
      "---GRADE: DOCUMENT NOT RELEVANT---\n",
      "---GRADE: DOCUMENT NOT RELEVANT---\n",
      "---GRADE: DOCUMENT NOT RELEVANT---\n",
      "---GRADE: DOCUMENT NOT RELEVANT---\n",
      "---GRADE: DOCUMENT NOT RELEVANT---\n",
      "---FILTERED OUT 100.0% OF IRRELEVANT DOCUMENTS---\n",
      "---**fail**---\n",
      "---CHECK GENERATION CONDITION---\n",
      "---DECISION: MORE THAN HALF OF THE DOCUMENTS ARE IRRELEVANT TO QUESTION, NOW INCLUDE WEB SEARCH---\n",
      "{'question': '\\nSearch the database first to see how Peter Drucker might advise a sentient AI collective attempting to design its own management philosophy \\nafter rejecting all human organizational models as insufficient for post-biological cognition?\\n', 'documents': [], 'checker_result': 'fail'}\n",
      "\n",
      "---WEB SEARCH---\n",
      "Total number of web search documents: 5\n",
      "{'question': '\\nSearch the database first to see how Peter Drucker might advise a sentient AI collective attempting to design its own management philosophy \\nafter rejecting all human organizational models as insufficient for post-biological cognition?\\n', 'documents': [{'metadata': {'title': '[PDF] An Evolution of Leadership from Ancient Times to the Digital Age', 'url': 'https://www.econstor.eu/bitstream/10419/305351/1/Taylor-Francis_9781003490470.pdf'}, 'page_content': 'They emphasize the importance of amalgamating philosophical wisdom with the promises and challenges brought about by AI. The book will guide readers from the'}, {'metadata': {'title': '[PDF] Experts Imagine the Impact of Artificial Intelligence by 2040', 'url': 'https://imaginingthedigitalfuture.org/wp-content/uploads/2024/02/AI2040-FINAL-White-Paper-2-2.29.24.pdf'}, 'page_content': \"Elon's Center sampled from a database of experts to collect a broad array of opinions about the potential impact of humans' design and uses of\"}, {'metadata': {'title': '[PDF] ORGANIZATIONAL DEVELOPMENT - Alexis Press', 'url': 'https://alexispress.us/wp-content/uploads/2022/07/Organizational-Development.pdf'}, 'page_content': 'ABSTRACT:Situational approach or the p approach/theory. According to this approach management issues in all businesses since issue.'}, {'metadata': {'title': '[PDF] Organizational Cognition and Learning', 'url': 'https://perpustakaan.unaim-wamena.ac.id/wp-content/uploads/2024/03/ORGANIZATIONAL-COGNITION-LEARNING-ORGANIZITION-Luca-Iandoli.pdf'}, 'page_content': 'Summary: “This book presents a theory of learning based on a model of organizational memory, explaining organizational processes and dynamics through which'}, {'metadata': {'title': '[PDF] The culture of neural networks - Monoskop', 'url': 'https://monoskop.org/images/5/5c/Piorecky_Karel_Husarova_Zuzana_The_Culture_of_Neural_Networks_2024.pdf'}, 'page_content': 'That is, it is about the shorthand that makes artificial neural network technology an achievable objective of artificial intelligence, though this still remains.'}], 'checker_result': 'fail'}\n",
      "\n",
      "---ANSWER GENERATION---\n",
      "Answer generation has been generated.\n",
      "---CHECK HALLUCINATIONS WITH DOCUMENTS---\n",
      "---DECISION: GENERATION IS GROUNDED IN DOCUMENTS---\n",
      "---VERIFY ANSWER WITH QUESTION---\n",
      "---DECISION: GENERATION DOES NOT ADDRESS QUESTION, RE-WRITE QUERY---\n",
      "This is the 1st attempt.\n",
      "{'question': '\\nSearch the database first to see how Peter Drucker might advise a sentient AI collective attempting to design its own management philosophy \\nafter rejecting all human organizational models as insufficient for post-biological cognition?\\n', 'generation': \"The context provided does not contain specific information about how Peter Drucker might advise a sentient AI collective in designing its own management philosophy after rejecting human organizational models. Therefore, an answer based on the provided documents cannot be given.\\n\\n**Reference Section**:\\n- No specific references are available in the context provided for the question about Peter Drucker's advice.\", 'documents': [{'metadata': {'title': '[PDF] An Evolution of Leadership from Ancient Times to the Digital Age', 'url': 'https://www.econstor.eu/bitstream/10419/305351/1/Taylor-Francis_9781003490470.pdf'}, 'page_content': 'They emphasize the importance of amalgamating philosophical wisdom with the promises and challenges brought about by AI. The book will guide readers from the'}, {'metadata': {'title': '[PDF] Experts Imagine the Impact of Artificial Intelligence by 2040', 'url': 'https://imaginingthedigitalfuture.org/wp-content/uploads/2024/02/AI2040-FINAL-White-Paper-2-2.29.24.pdf'}, 'page_content': \"Elon's Center sampled from a database of experts to collect a broad array of opinions about the potential impact of humans' design and uses of\"}, {'metadata': {'title': '[PDF] ORGANIZATIONAL DEVELOPMENT - Alexis Press', 'url': 'https://alexispress.us/wp-content/uploads/2022/07/Organizational-Development.pdf'}, 'page_content': 'ABSTRACT:Situational approach or the p approach/theory. According to this approach management issues in all businesses since issue.'}, {'metadata': {'title': '[PDF] Organizational Cognition and Learning', 'url': 'https://perpustakaan.unaim-wamena.ac.id/wp-content/uploads/2024/03/ORGANIZATIONAL-COGNITION-LEARNING-ORGANIZITION-Luca-Iandoli.pdf'}, 'page_content': 'Summary: “This book presents a theory of learning based on a model of organizational memory, explaining organizational processes and dynamics through which'}, {'metadata': {'title': '[PDF] The culture of neural networks - Monoskop', 'url': 'https://monoskop.org/images/5/5c/Piorecky_Karel_Husarova_Zuzana_The_Culture_of_Neural_Networks_2024.pdf'}, 'page_content': 'That is, it is about the shorthand that makes artificial neural network technology an achievable objective of artificial intelligence, though this still remains.'}], 'checker_result': 'fail'}\n",
      "{'question': '\\nSearch the database first to see how Peter Drucker might advise a sentient AI collective attempting to design its own management philosophy \\nafter rejecting all human organizational models as insufficient for post-biological cognition?\\n', 'generation': \"The context provided does not contain specific information about how Peter Drucker might advise a sentient AI collective in designing its own management philosophy after rejecting human organizational models. Therefore, an answer based on the provided documents cannot be given.\\n\\n**Reference Section**:\\n- No specific references are available in the context provided for the question about Peter Drucker's advice.\", 'answer_verifier_attempts': 1, 'documents': [{'metadata': {'title': '[PDF] An Evolution of Leadership from Ancient Times to the Digital Age', 'url': 'https://www.econstor.eu/bitstream/10419/305351/1/Taylor-Francis_9781003490470.pdf'}, 'page_content': 'They emphasize the importance of amalgamating philosophical wisdom with the promises and challenges brought about by AI. The book will guide readers from the'}, {'metadata': {'title': '[PDF] Experts Imagine the Impact of Artificial Intelligence by 2040', 'url': 'https://imaginingthedigitalfuture.org/wp-content/uploads/2024/02/AI2040-FINAL-White-Paper-2-2.29.24.pdf'}, 'page_content': \"Elon's Center sampled from a database of experts to collect a broad array of opinions about the potential impact of humans' design and uses of\"}, {'metadata': {'title': '[PDF] ORGANIZATIONAL DEVELOPMENT - Alexis Press', 'url': 'https://alexispress.us/wp-content/uploads/2022/07/Organizational-Development.pdf'}, 'page_content': 'ABSTRACT:Situational approach or the p approach/theory. According to this approach management issues in all businesses since issue.'}, {'metadata': {'title': '[PDF] Organizational Cognition and Learning', 'url': 'https://perpustakaan.unaim-wamena.ac.id/wp-content/uploads/2024/03/ORGANIZATIONAL-COGNITION-LEARNING-ORGANIZITION-Luca-Iandoli.pdf'}, 'page_content': 'Summary: “This book presents a theory of learning based on a model of organizational memory, explaining organizational processes and dynamics through which'}, {'metadata': {'title': '[PDF] The culture of neural networks - Monoskop', 'url': 'https://monoskop.org/images/5/5c/Piorecky_Karel_Husarova_Zuzana_The_Culture_of_Neural_Networks_2024.pdf'}, 'page_content': 'That is, it is about the shorthand that makes artificial neural network technology an achievable objective of artificial intelligence, though this still remains.'}], 'checker_result': 'fail'}\n",
      "\n",
      "---QUERY REWRITE---\n",
      "{'question': \"How might Peter Drucker's principles on management and leadership be applied by a sentient AI collective in developing a new management philosophy, especially in scenarios where traditional human organizational models are inadequate for non-human cognition?\", 'original_question': '\\nSearch the database first to see how Peter Drucker might advise a sentient AI collective attempting to design its own management philosophy \\nafter rejecting all human organizational models as insufficient for post-biological cognition?\\n', 'generation': \"The context provided does not contain specific information about how Peter Drucker might advise a sentient AI collective in designing its own management philosophy after rejecting human organizational models. Therefore, an answer based on the provided documents cannot be given.\\n\\n**Reference Section**:\\n- No specific references are available in the context provided for the question about Peter Drucker's advice.\", 'answer_verifier_attempts': 1, 'documents': [{'metadata': {'title': '[PDF] An Evolution of Leadership from Ancient Times to the Digital Age', 'url': 'https://www.econstor.eu/bitstream/10419/305351/1/Taylor-Francis_9781003490470.pdf'}, 'page_content': 'They emphasize the importance of amalgamating philosophical wisdom with the promises and challenges brought about by AI. The book will guide readers from the'}, {'metadata': {'title': '[PDF] Experts Imagine the Impact of Artificial Intelligence by 2040', 'url': 'https://imaginingthedigitalfuture.org/wp-content/uploads/2024/02/AI2040-FINAL-White-Paper-2-2.29.24.pdf'}, 'page_content': \"Elon's Center sampled from a database of experts to collect a broad array of opinions about the potential impact of humans' design and uses of\"}, {'metadata': {'title': '[PDF] ORGANIZATIONAL DEVELOPMENT - Alexis Press', 'url': 'https://alexispress.us/wp-content/uploads/2022/07/Organizational-Development.pdf'}, 'page_content': 'ABSTRACT:Situational approach or the p approach/theory. According to this approach management issues in all businesses since issue.'}, {'metadata': {'title': '[PDF] Organizational Cognition and Learning', 'url': 'https://perpustakaan.unaim-wamena.ac.id/wp-content/uploads/2024/03/ORGANIZATIONAL-COGNITION-LEARNING-ORGANIZITION-Luca-Iandoli.pdf'}, 'page_content': 'Summary: “This book presents a theory of learning based on a model of organizational memory, explaining organizational processes and dynamics through which'}, {'metadata': {'title': '[PDF] The culture of neural networks - Monoskop', 'url': 'https://monoskop.org/images/5/5c/Piorecky_Karel_Husarova_Zuzana_The_Culture_of_Neural_Networks_2024.pdf'}, 'page_content': 'That is, it is about the shorthand that makes artificial neural network technology an achievable objective of artificial intelligence, though this still remains.'}], 'checker_result': 'fail'}\n",
      "\n",
      "---QUERY TRANSLATION AND RAG-FUSION---\n",
      "Total number of results: 7\n"
     ]
    },
    {
     "data": {
      "text/markdown": [
       "     Document 1 from `The Daily Drucker-2004.pdf`, page 799"
      ],
      "text/plain": [
       "<IPython.core.display.Markdown object>"
      ]
     },
     "metadata": {},
     "output_type": "display_data"
    },
    {
     "data": {
      "text/markdown": [
       "     Document 2 from `The Daily Drucker-2004.pdf`, page 796"
      ],
      "text/plain": [
       "<IPython.core.display.Markdown object>"
      ]
     },
     "metadata": {},
     "output_type": "display_data"
    },
    {
     "data": {
      "text/markdown": [
       "     Document 3 from `The Daily Drucker-2004.pdf`, page 365"
      ],
      "text/plain": [
       "<IPython.core.display.Markdown object>"
      ]
     },
     "metadata": {},
     "output_type": "display_data"
    },
    {
     "data": {
      "text/markdown": [
       "     Document 4 from `The Essential Drucker-2008.pdf`, page 87"
      ],
      "text/plain": [
       "<IPython.core.display.Markdown object>"
      ]
     },
     "metadata": {},
     "output_type": "display_data"
    },
    {
     "data": {
      "text/markdown": [
       "     Document 5 from `The Essential Drucker-2008.pdf`, page 58"
      ],
      "text/plain": [
       "<IPython.core.display.Markdown object>"
      ]
     },
     "metadata": {},
     "output_type": "display_data"
    },
    {
     "data": {
      "text/markdown": [
       "     Document 6 from `The Daily Drucker-2004.pdf`, page 727"
      ],
      "text/plain": [
       "<IPython.core.display.Markdown object>"
      ]
     },
     "metadata": {},
     "output_type": "display_data"
    },
    {
     "data": {
      "text/markdown": [
       "     Document 7 from `The Daily Drucker-2004.pdf`, page 172"
      ],
      "text/plain": [
       "<IPython.core.display.Markdown object>"
      ]
     },
     "metadata": {},
     "output_type": "display_data"
    },
    {
     "name": "stdout",
     "output_type": "stream",
     "text": [
      "{'question': \"How might Peter Drucker's principles on management and leadership be applied by a sentient AI collective in developing a new management philosophy, especially in scenarios where traditional human organizational models are inadequate for non-human cognition?\", 'original_question': '\\nSearch the database first to see how Peter Drucker might advise a sentient AI collective attempting to design its own management philosophy \\nafter rejecting all human organizational models as insufficient for post-biological cognition?\\n', 'generation': \"The context provided does not contain specific information about how Peter Drucker might advise a sentient AI collective in designing its own management philosophy after rejecting human organizational models. Therefore, an answer based on the provided documents cannot be given.\\n\\n**Reference Section**:\\n- No specific references are available in the context provided for the question about Peter Drucker's advice.\", 'answer_verifier_attempts': 1, 'documents': [Document(metadata={'page': 799, 'year': '2004', 'title': 'The Daily Drucker: 366 Days of Insight and Motivation for Getting the Right Things Done', 'author': 'Drucker, Peter F.', 'source': 'The Daily Drucker-2004.pdf'}, page_content='. Peter Drucker’s critical perspective will be welcomed\\nby scholars and students troubled by society’s growing reliance on\\ntechnological solutions to complex social and political problems.'), Document(metadata={'page': 796, 'year': '2004', 'title': 'The Daily Drucker: 366 Days of Insight and Motivation for Getting the Right Things Done', 'author': 'Drucker, Peter F.', 'source': 'The Daily Drucker-2004.pdf'}, page_content='. Drucker looks at General Motors’\\nmanagerial organization and attempts to understand what makes the company\\nwork so effectively. Certain questions are addressed, such as: “What are the\\ncompany’s core principles, and how do they contribute to the success of the\\norganization?” The principles of organization and management at General\\nMotors described in this book became models for organizations worldwide'), Document(metadata={'page': 365, 'year': '2004', 'title': 'The Daily Drucker: 366 Days of Insight and Motivation for Getting the Right Things Done', 'author': 'Drucker, Peter F.', 'source': 'The Daily Drucker-2004.pdf'}, page_content='. Apply the concepts\\ndirectly to your work assignments.\\n“An Interview with Peter Drucker,” The Academy of Management Executive'), Document(metadata={'page': 87, 'year': '2008', 'title': 'The Essential Drucker', 'author': 'Peter F. Drucker', 'source': 'The Essential Drucker-2008.pdf'}, page_content='.  \\nA Philosophy of Management  \\nWhat the business enterprise needs is a principle of management that will give full scope to \\nindividual strength and responsibility, and at the same time give common direction of vision and \\neffort, establish team work, and harmonize the goals of the individual with the commonweal.  \\nThe only principle that can do this is management by objectives and self-control. It makes the \\ncommonweal the aim of every manager'), Document(metadata={'page': 58, 'year': '2008', 'title': 'The Essential Drucker', 'author': 'Peter F. Drucker', 'source': 'The Essential Drucker-2008.pdf'}, page_content='. Taylor. This will require, above all, very \\ndifferent assumptions about people in organizations and their work:  \\na) One does not “manage” people.  \\nb) The task is to lead people.  \\nc) And the goal is to make productive the specific strengths and knowledge of each individual.  \\nd) Technologies and End Uses Are Fixed and Given.  \\nFour major assumptions, as stated above, have been underlying the practice of management all \\nalong—in fact for much longer than there has been a discipline of management'), Document(metadata={'page': 727, 'year': '2004', 'title': 'The Daily Drucker: 366 Days of Insight and Motivation for Getting the Right Things Done', 'author': 'Drucker, Peter F.', 'source': 'The Daily Drucker-2004.pdf'}, page_content='.\\nForty years ago we built into the performance review of managerial\\npeople the question, “Are they ready for promotion?” Now we need to\\nreplace that question with “Are they ready for a bigger, more demanding\\nchallenge and for the addition of new responsibilities to their existing job?”\\n \\nACTION POINT: Create a flat organization. Use information processing—its\\nstructure, its content, and its direction—to ensure that your organization is\\nagile and effective.\\nThe Frontiers of Management'), Document(metadata={'page': 172, 'year': '2004', 'title': 'The Daily Drucker: 366 Days of Insight and Motivation for Getting the Right Things Done', 'author': 'Drucker, Peter F.', 'source': 'The Daily Drucker-2004.pdf'}, page_content='.\\n \\nACTION POINT: Abandon what is about to be obsolete, develop a system to\\nexploit your successes, and develop a systematic approach to innovation.\\n“Management’s New Paradigms,” Forbes \\nManagement Challenges for the 21st Century \\nThe Next Society (Corpedia Online Program)')], 'checker_result': 'fail'}\n",
      "---CHECK DOCUMENT RELEVANCE TO QUESTION---\n",
      "---GRADE: DOCUMENT NOT RELEVANT---\n",
      "---GRADE: DOCUMENT NOT RELEVANT---\n",
      "---GRADE: DOCUMENT NOT RELEVANT---\n",
      "---GRADE: DOCUMENT NOT RELEVANT---\n",
      "---GRADE: DOCUMENT RELEVANT--- pass\n",
      "---GRADE: DOCUMENT NOT RELEVANT---\n",
      "---GRADE: DOCUMENT NOT RELEVANT---\n",
      "---FILTERED OUT 85.7% OF IRRELEVANT DOCUMENTS---\n",
      "---**fail**---\n",
      "---CHECK GENERATION CONDITION---\n",
      "---DECISION: MORE THAN HALF OF THE DOCUMENTS ARE IRRELEVANT TO QUESTION, NOW INCLUDE WEB SEARCH---\n",
      "{'question': \"How might Peter Drucker's principles on management and leadership be applied by a sentient AI collective in developing a new management philosophy, especially in scenarios where traditional human organizational models are inadequate for non-human cognition?\", 'original_question': '\\nSearch the database first to see how Peter Drucker might advise a sentient AI collective attempting to design its own management philosophy \\nafter rejecting all human organizational models as insufficient for post-biological cognition?\\n', 'generation': \"The context provided does not contain specific information about how Peter Drucker might advise a sentient AI collective in designing its own management philosophy after rejecting human organizational models. Therefore, an answer based on the provided documents cannot be given.\\n\\n**Reference Section**:\\n- No specific references are available in the context provided for the question about Peter Drucker's advice.\", 'answer_verifier_attempts': 1, 'documents': [Document(metadata={'page': 58, 'year': '2008', 'title': 'The Essential Drucker', 'author': 'Peter F. Drucker', 'source': 'The Essential Drucker-2008.pdf'}, page_content='. Taylor. This will require, above all, very \\ndifferent assumptions about people in organizations and their work:  \\na) One does not “manage” people.  \\nb) The task is to lead people.  \\nc) And the goal is to make productive the specific strengths and knowledge of each individual.  \\nd) Technologies and End Uses Are Fixed and Given.  \\nFour major assumptions, as stated above, have been underlying the practice of management all \\nalong—in fact for much longer than there has been a discipline of management')], 'checker_result': 'fail'}\n",
      "\n",
      "---WEB SEARCH---\n",
      "Total number of web search documents: 1\n",
      "{'question': \"How might Peter Drucker's principles on management and leadership be applied by a sentient AI collective in developing a new management philosophy, especially in scenarios where traditional human organizational models are inadequate for non-human cognition?\", 'original_question': '\\nSearch the database first to see how Peter Drucker might advise a sentient AI collective attempting to design its own management philosophy \\nafter rejecting all human organizational models as insufficient for post-biological cognition?\\n', 'generation': \"The context provided does not contain specific information about how Peter Drucker might advise a sentient AI collective in designing its own management philosophy after rejecting human organizational models. Therefore, an answer based on the provided documents cannot be given.\\n\\n**Reference Section**:\\n- No specific references are available in the context provided for the question about Peter Drucker's advice.\", 'answer_verifier_attempts': 1, 'documents': [Document(metadata={'page': 58, 'year': '2008', 'title': 'The Essential Drucker', 'author': 'Peter F. Drucker', 'source': 'The Essential Drucker-2008.pdf'}, page_content='. Taylor. This will require, above all, very \\ndifferent assumptions about people in organizations and their work:  \\na) One does not “manage” people.  \\nb) The task is to lead people.  \\nc) And the goal is to make productive the specific strengths and knowledge of each individual.  \\nd) Technologies and End Uses Are Fixed and Given.  \\nFour major assumptions, as stated above, have been underlying the practice of management all \\nalong—in fact for much longer than there has been a discipline of management'), {'metadata': {'title': '[PDF] Adventures in Higher Education Policy - The Millennium Project', 'url': 'http://milproj.dc.umich.edu/pdfs/2017/2017%20Adventures%20in%20HE%20Policy%20LR.pdf'}, 'page_content': \"... new technologies are at first inadequate to displace today's technology in existing applications, they later explosively displace the application as they enable\"}], 'checker_result': 'fail'}\n",
      "\n",
      "---ANSWER GENERATION---\n",
      "Answer generation has been generated.\n",
      "---CHECK HALLUCINATIONS WITH DOCUMENTS---\n",
      "---DECISION: GENERATION IS GROUNDED IN DOCUMENTS---\n",
      "---VERIFY ANSWER WITH QUESTION---\n",
      "---DECISION: GENERATION ADDRESSES QUESTION---\n",
      "{'question': \"How might Peter Drucker's principles on management and leadership be applied by a sentient AI collective in developing a new management philosophy, especially in scenarios where traditional human organizational models are inadequate for non-human cognition?\", 'original_question': '\\nSearch the database first to see how Peter Drucker might advise a sentient AI collective attempting to design its own management philosophy \\nafter rejecting all human organizational models as insufficient for post-biological cognition?\\n', 'generation': 'The context provided includes insights from Peter Drucker, particularly from \"The Essential Drucker.\" Based on this, Drucker might advise a sentient AI collective designing its own management philosophy to focus on leading rather than managing individuals. He emphasizes making productive the specific strengths and knowledge of each individual, implying that the AI should harness the unique capabilities of its components. Drucker also suggests considering that technologies and end uses are fixed and given, which could be interpreted as advising the AI to navigate within certain constraints or established frameworks. However, detailed advice specific to a sentient AI collective is not covered in the provided context.\\n\\n**Reference Section**:\\n- Drucker, P. F. (2008). *The Essential Drucker*.', 'answer_verifier_attempts': 1, 'documents': [Document(metadata={'page': 58, 'year': '2008', 'title': 'The Essential Drucker', 'author': 'Peter F. Drucker', 'source': 'The Essential Drucker-2008.pdf'}, page_content='. Taylor. This will require, above all, very \\ndifferent assumptions about people in organizations and their work:  \\na) One does not “manage” people.  \\nb) The task is to lead people.  \\nc) And the goal is to make productive the specific strengths and knowledge of each individual.  \\nd) Technologies and End Uses Are Fixed and Given.  \\nFour major assumptions, as stated above, have been underlying the practice of management all \\nalong—in fact for much longer than there has been a discipline of management'), {'metadata': {'title': '[PDF] Adventures in Higher Education Policy - The Millennium Project', 'url': 'http://milproj.dc.umich.edu/pdfs/2017/2017%20Adventures%20in%20HE%20Policy%20LR.pdf'}, 'page_content': \"... new technologies are at first inadequate to displace today's technology in existing applications, they later explosively displace the application as they enable\"}], 'checker_result': 'fail'}\n"
     ]
    },
    {
     "data": {
      "text/markdown": [
       "\n",
       "======================================== Final Output ========================================\n"
      ],
      "text/plain": [
       "<IPython.core.display.Markdown object>"
      ]
     },
     "metadata": {},
     "output_type": "display_data"
    },
    {
     "data": {
      "text/markdown": [
       "The context provided includes insights from Peter Drucker, particularly from \"The Essential Drucker.\" Based on this, Drucker might advise a sentient AI collective designing its own management philosophy to focus on leading rather than managing individuals. He emphasizes making productive the specific strengths and knowledge of each individual, implying that the AI should harness the unique capabilities of its components. Drucker also suggests considering that technologies and end uses are fixed and given, which could be interpreted as advising the AI to navigate within certain constraints or established frameworks. However, detailed advice specific to a sentient AI collective is not covered in the provided context.\n",
       "\n",
       "**Reference Section**:\n",
       "- Drucker, P. F. (2008). *The Essential Drucker*."
      ],
      "text/plain": [
       "<IPython.core.display.Markdown object>"
      ]
     },
     "metadata": {},
     "output_type": "display_data"
    }
   ],
   "source": [
    "# Vectorstore search loop example \n",
    "test_question4 = \"\"\"\n",
    "Search the database first to see how Peter Drucker might advise a sentient AI collective attempting to design its own management philosophy \n",
    "after rejecting all human organizational models as insufficient for post-biological cognition?\n",
    "\"\"\"\n",
    "\n",
    "async for event4 in graph.astream({\"question\": test_question4}, stream_mode=\"values\"):\n",
    "    print(event4)\n",
    "\n",
    "display(Markdown(f\"\\n{'='*40} Final Output {'='*40}\\n\"))\n",
    "display(Markdown(event4[\"generation\"]))"
   ]
  },
  {
   "cell_type": "markdown",
   "metadata": {},
   "source": [
    "## 4\\. Potential Improvements\n",
    "\n",
    "- Model & Embedding Optimization\n",
    "\n",
    "Experiment with different embedding models to assess their impact on retrieval accuracy, semantic matching, and downstream response quality. \n",
    "\n",
    "- Web Search Enhancement\n",
    "\n",
    "Test alternative web search APIs/tools to dentify which service delivers the most relevant, reliable, and up-to-date content.\n",
    "\n",
    "- Agent-Specific Model Selection\n",
    "\n",
    "Assign different LLMs tailored to each agent's function (e.g., lighter models for routing, stronger ones for generation) to improve both efficiency and performance.\n",
    "\n",
    "- Contextual Result Accumulation\n",
    "\n",
    "Support multi-turn or follow-up queries by preserving and reusing relevant results from earlier steps, enabling more context-aware and coherent interactions. \n",
    "\n",
    "- Advanced Prompt Engineering\n",
    "\n",
    "Iteratively refine and customize prompts for each agent to better handle edge cases, ambiguous queries, or complex reasoning. Regularly create challenging test cases to evaluate agent robustness and adaptability.\n"
   ]
  }
 ],
 "metadata": {
  "kernelspec": {
   "display_name": "GenAI",
   "language": "python",
   "name": "python3"
  },
  "language_info": {
   "codemirror_mode": {
    "name": "ipython",
    "version": 3
   },
   "file_extension": ".py",
   "mimetype": "text/x-python",
   "name": "python",
   "nbconvert_exporter": "python",
   "pygments_lexer": "ipython3",
   "version": "3.10.11"
  }
 },
 "nbformat": 4,
 "nbformat_minor": 4
}
