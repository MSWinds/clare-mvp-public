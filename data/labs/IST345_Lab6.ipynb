{
 "cells": [
  {
   "cell_type": "markdown",
   "metadata": {},
   "source": [
    "# Lab 6: RAG-enhanced Retrieval"
   ]
  },
  {
   "cell_type": "markdown",
   "metadata": {},
   "source": [
    "## 6\\.1 Environment Setup"
   ]
  },
  {
   "cell_type": "code",
   "execution_count": 1,
   "metadata": {},
   "outputs": [],
   "source": [
    "import os\n",
    "from dotenv import load_dotenv\n",
    "\n",
    "from sqlalchemy.engine.url import make_url\n",
    "\n",
    "from IPython.display import Markdown\n",
    "import textwrap\n",
    "\n",
    "from langchain_core.prompts import PromptTemplate\n",
    "from langchain_postgres.vectorstores import PGVector\n",
    "from langchain_openai import OpenAIEmbeddings\n",
    "from langchain_openai import ChatOpenAI\n",
    "from langchain_core.output_parsers import StrOutputParser "
   ]
  },
  {
   "cell_type": "code",
   "execution_count": 2,
   "metadata": {},
   "outputs": [],
   "source": [
    "# Load environment variables from .env file\n",
    "load_dotenv()\n",
    "\n",
    "connection_string = os.getenv(\"DB_CONNECTION\")\n",
    "openai_api_key = os.getenv(\"OPENAI_API_KEY\")\n",
    "\n",
    "# For this lab, we will use a shared table for demostration purpose.\n",
    "shared_connection_string = make_url(connection_string).set(database=\"IST345_Drucker_data\").render_as_string(hide_password=False)\n",
    "\n",
    "# Initialize the embedding model\n",
    "embedding_model = OpenAIEmbeddings(model=\"text-embedding-3-large\")\n",
    "\n",
    "# Initialize the llm\n",
    "llm = ChatOpenAI(temperature=0, \n",
    "                 model=\"gpt-4o\", \n",
    "                 api_key=openai_api_key)"
   ]
  },
  {
   "cell_type": "code",
   "execution_count": 3,
   "metadata": {},
   "outputs": [
    {
     "name": "stdout",
     "output_type": "stream",
     "text": [
      "Connection Successful: 1\n"
     ]
    }
   ],
   "source": [
    "from sqlalchemy import create_engine, text\n",
    "\n",
    "# Create the database engine\n",
    "engine = create_engine(shared_connection_string)\n",
    "\n",
    "# Test the connection by executing a simple query\n",
    "try:\n",
    "    with engine.connect() as connection:\n",
    "        result = connection.execute(text(\"SELECT 1\"))\n",
    "        print(\"Connection Successful:\", result.scalar())\n",
    "except Exception as e:\n",
    "    print(\"Connection Failed:\", str(e))"
   ]
  },
  {
   "cell_type": "code",
   "execution_count": 4,
   "metadata": {},
   "outputs": [
    {
     "name": "stdout",
     "output_type": "stream",
     "text": [
      "Sample Data: [('93928710-06b0-4ae8-9069-7b29cd2531be', UUID('41bd579a-1fd8-403c-a1ac-216d6cc8d1f0'), '[0.016337192,-0.023811817,-0.01828898,-0.021455213,-0.0043553794,-0.029146707,-0.008848107,0.03163343,-0.012520361,0.052134436,0.005186697,0.01192036 ... (38675 characters truncated) ... 34574,-0.0008195704,-0.015166119,0.0007400531,0.008486665,-0.0026276854,-0.0037915297,0.014486607,0.01189868,-0.0065384908,0.0053204303,-0.023262426]', 'Preface\\n“W hich of Peter Drucker’s books should I read?” “Where in your work\\ndo I find the best discussion on how to place people?” Not a week goes ... (73 characters truncated) ... four books\\npublished over sixty-five years, even I find it difficult to answer these\\nquestions.\\nThe Daily Drucker is intended to provide an answer', {'page': 9, 'year': '2004', 'title': 'The Daily Drucker: 366 Days of Insight and Motivation for Getting the Right Things Done', 'author': 'Drucker, Peter F.', 'source': 'The Daily Drucker-2004.pdf'}), ('f5b95eba-f054-47cc-90f9-20538e08fc7f', UUID('41bd579a-1fd8-403c-a1ac-216d6cc8d1f0'), '[-0.010645229,-0.016064199,-0.025607135,-0.015455239,-0.0030794854,-0.02969256,-0.007188035,0.030417144,-0.02138296,0.024805466,0.025005884,0.0400217 ... (38702 characters truncated) ... 010676064,0.014753779,-0.021783793,-0.012071274,0.0013961747,0.0055191778,-0.01003627,0.034471735,0.0029021932,-0.005657928,0.029846726,-0.005588553]', '.\\nThe Daily Drucker is intended to provide an answer. It presents in\\norganized form—and directly from my own writings—a key statement of\\nmine, fol ... (171 characters truncated) ... onomy; a changing society;\\ninnovation and entrepreneurship; decision making; the changing workforce;\\nthe nonprofits and their management; and so on', {'page': 9, 'year': '2004', 'title': 'The Daily Drucker: 366 Days of Insight and Motivation for Getting the Right Things Done', 'author': 'Drucker, Peter F.', 'source': 'The Daily Drucker-2004.pdf'}), ('75d34fb5-25d9-4d93-85c2-2cc8771778bf', UUID('41bd579a-1fd8-403c-a1ac-216d6cc8d1f0'), '[0.001684689,-0.03727856,-0.01865509,-0.010671344,-0.024710089,-0.008766311,0.0037013753,0.003175713,-0.0052526724,0.03882788,-0.024188379,0.05922200 ... (38632 characters truncated) ... 4267982,-0.0017746049,-0.013619796,0.004177633,0.014165221,-0.0011787883,0.0006536198,0.026623026,0.011161435,-0.006446282,-0.006137999,-0.039080832]', '.\\nBut the most important part of this book is the blank spaces at the bottom\\nof its pages. They are what the readers will contribute, their actions ... (109 characters truncated) ...  longtime friend and colleague,\\nProfessor Joseph A. Maciariello. It was his idea to bring together in one\\nvolume the best excerpts from my writings', {'page': 9, 'year': '2004', 'title': 'The Daily Drucker: 366 Days of Insight and Motivation for Getting the Right Things Done', 'author': 'Drucker, Peter F.', 'source': 'The Daily Drucker-2004.pdf'}), ('8b55486b-1d71-4cd5-abb4-98fb90260228', UUID('41bd579a-1fd8-403c-a1ac-216d6cc8d1f0'), '[0.018605381,-0.006636588,-0.021357486,-0.0065792524,-0.007360449,-0.04821918,-0.002830942,0.030617174,-0.027951073,0.03440132,0.00468718,0.042055614 ... (38562 characters truncated) ... .018691383,0.0041998276,-0.005106446,0.01553793,0.013258842,0.0047982675,0.0038486477,0.024754616,0.013739027,-0.018806055,0.0025442643,-0.045782425]', '. He then selected both the\\nappropriate quotes and the commentaries on them from my books, scripts,\\nand articles. The result is a truly comprehensi ... (24 characters truncated) ... ffectiveness. My readers and I owe a very great debt of gratitude to\\nProfessor Maciariello.\\n \\nPETER F. DRUCKER\\nClaremont, California\\nSummer 2004', {'page': 9, 'year': '2004', 'title': 'The Daily Drucker: 366 Days of Insight and Motivation for Getting the Right Things Done', 'author': 'Drucker, Peter F.', 'source': 'The Daily Drucker-2004.pdf'}), ('a70e4474-2a6f-486a-8e1e-4f2a2da043fd', UUID('41bd579a-1fd8-403c-a1ac-216d6cc8d1f0'), '[0.018273208,-0.016773168,-0.020803576,-0.014712508,0.006966092,-0.027758306,-0.006814573,0.025349151,-0.027515875,0.039394975,0.030288674,0.04424358 ... (38690 characters truncated) ... 22106642,0.0007571222,-0.016576193,0.0023580166,0.0089396285,0.00828052,-0.0020777062,0.039152544,0.005269078,-0.014189767,0.0063410755,-0.009644193]', 'Introduction\\nI n putting together The Daily Drucker, I have tried to distill and synthesize\\nthe “tapestry” that Peter Drucker has woven and continu ... (219 characters truncated) ...  capturing the essence of the\\ntopic. These proverbs, wise sayings, and quotes are mnemonic constructs that\\nremind one of the teaching on each topic', {'page': 11, 'year': '2004', 'title': 'The Daily Drucker: 366 Days of Insight and Motivation for Getting the Right Things Done', 'author': 'Drucker, Peter F.', 'source': 'The Daily Drucker-2004.pdf'})]\n"
     ]
    }
   ],
   "source": [
    "# View the sample data from the langchain_pg_embedding table \n",
    "try:\n",
    "    with engine.connect() as connection:\n",
    "        result = connection.execute(text(\"SELECT * FROM langchain_pg_embedding LIMIT 5\"))\n",
    "        rows = result.fetchall()\n",
    "        print(\"Sample Data:\", rows)\n",
    "except Exception as e:\n",
    "    print(\"Error accessing shared table:\", str(e))\n"
   ]
  },
  {
   "cell_type": "code",
   "execution_count": 5,
   "metadata": {},
   "outputs": [],
   "source": [
    "# Establish a connection to the PostgreSQL vector store containing book data.\n",
    "book_data_vector_store = PGVector(\n",
    "    embeddings = embedding_model,   # The embedding model used to generate vector representations of text.\n",
    "    collection_name = \"Book_data\",  # The name of the collection storing vector embeddings.\n",
    "    connection=shared_connection_string, # Database connection string defined earlier for accessing the PGVector store\n",
    "    use_jsonb=True, # Enables JSONB storage format, optimizing metadata storage and retrieval. \n",
    ")"
   ]
  },
  {
   "cell_type": "markdown",
   "metadata": {},
   "source": [
    "## 6\\.2 Query translation\n",
    "\n",
    "In RAG, Query translation (also known as query transformation or query expansion) is a step where the user’s input query is reformatted, translated, or expanded to improve document retrieval from a vector database or search index. This step aims to  enhance retrieval accuracy, especially in similarity-based searches, where slight variations in wording might lead to missed results.\n",
    "\n",
    "The RAG summary image from this module's reading includes several query translation techniques: \n",
    "1. Multi-Query Generation: Generate multiple variations of a query. \n",
    "    - Given a single user query, an LLM rephrases it into multiple alternative queries. \n",
    "    - The system then retrieves documents for each variation and merges the results.\n",
    "\n",
    "2. RAG-Fusion: Retrieve documents using multiple retrieval strategies and fuse the best results.\n",
    "    - Runs multiple retrieval strategies in parallel.\n",
    "    - Merges results using re-ranking to select the most relevant ones.\n",
    "\n",
    "3. Query Decomposition: Break down complex queries into simpler sub-queries.\n",
    "    - A long or multi-part query is decomposed into smaller, independent queries.\n",
    "    - The system retrieves documents for each sub-query and aggregates results.\n",
    "\n",
    "4. Step-Back Prompting: Reformulate a high-level abstract question into a more concrete query for better retrieval.\n",
    "    - If the user asks a vague or abstract question, the system \"steps back\" and rephrases it into a more answerable form.\n",
    "    - Uses an LLM to generate a specific version of the abstract question.\n",
    "\n",
    "5. Hypothetical Document Embeddings (HyDE): Instead of retrieving based on the query, the system generates a hypothetical answer and searches for similar documents.\n",
    "    - The LLM generates a \"hypothetical\" document as if it already had an answer.\n",
    "    - The hypothetical document is embedded into a vector representation.\n",
    "    - The system retrieves documents that are most similar to this generated text.\n",
    "\n",
    "This lab demonstrates **Multi-Query Retrieval** technique based on LangChain's ``MultiQueryRetriever``.  "
   ]
  },
  {
   "cell_type": "code",
   "execution_count": 6,
   "metadata": {},
   "outputs": [],
   "source": [
    "# Right click MultiQueryRetriever, select \"Go to Definition\", and then view DEFAULT_QUERY_PROMPT. \n",
    "# You don't need to run the code. \n",
    "from langchain.retrievers.multi_query import MultiQueryRetriever"
   ]
  },
  {
   "cell_type": "markdown",
   "metadata": {},
   "source": [
    "The LangChain `MultiQueryRetriever` implements the following prompt template to generate multiple variations of a query:\n",
    "\n",
    "```python\n",
    "# Default prompt\n",
    "DEFAULT_QUERY_PROMPT = PromptTemplate(\n",
    "    input_variables=[\"question\"],\n",
    "    template=\"\"\"You are an AI language model assistant. Your task is \n",
    "    to generate 3 different versions of the given user \n",
    "    question to retrieve relevant documents from a vector database. \n",
    "    By generating multiple perspectives on the user question, \n",
    "    your goal is to help the user overcome some of the limitations \n",
    "    of distance-based similarity search. Provide these alternative \n",
    "    questions separated by newlines. \n",
    "\n",
    "    Original question: {question}\"\"\"\n",
    ")\n",
    "```\n",
    "\n",
    "However, the `MultiQueryRetriever` has some limitations that impact its effectiveness in the RAG process. \n",
    "1. No Built-in Reciprocal Rank Fusion (RRF), meaning it does not intelligently merge and rerank results from multiple query variations. Instead, results are retrieved for each query separately and concatenated only by removing duplicates. This can lead to redundancy and suboptimal ranking.\n",
    "2. Does not support other types of retrieval such as Hybrid Retrieval, Metadata filtering, etc. \n",
    "\n",
    "Thus, we will define our own multi-query prompt function for the  RAG process instead of using `MultiQueryRetriever`. \n"
   ]
  },
  {
   "cell_type": "code",
   "execution_count": 7,
   "metadata": {},
   "outputs": [],
   "source": [
    "# Create a prompt template for generating multiple variations of a user query.\n",
    "# This template rewords the original query into three different versions. \n",
    "multi_query_prompt = PromptTemplate.from_template(\n",
    "    \"\"\"\n",
    "    You are an AI language model assistant. \n",
    "    Your task is to generate 3 different versions of the given user \n",
    "    question to retrieve relevant documents from a vector database. \n",
    "    By generating multiple perspectives on the user question, \n",
    "    your goal is to help the user overcome some of the limitations \n",
    "    of distance-based similarity search. Provide these alternative \n",
    "    questions separated by newlines. \n",
    "\n",
    "    Original user question: {question}\"\"\")\n",
    "\n",
    "# Create a pipeline for generating multiple query variations.\n",
    "# Step 1: The prompt template takes in the original user question.\n",
    "# Step 2: The LLM generates alternative versions of the query.\n",
    "# Step 3: The StrOutputParser ensures the output is treated as a string.\n",
    "# Step 4: The lambda function splits the output into a list of queries, using newline separators.\n",
    "multi_query_generator = multi_query_prompt | llm | StrOutputParser() | (lambda x: x.split(\"\\n\"))"
   ]
  },
  {
   "cell_type": "code",
   "execution_count": 8,
   "metadata": {},
   "outputs": [
    {
     "name": "stdout",
     "output_type": "stream",
     "text": [
      "\n",
      "======================================== List of generated queries for database search ========================================\n",
      "\n",
      "Original question: What did Drucker say about knowledge workers in the book?\n",
      "Generated query 1: What insights did Drucker provide on knowledge workers in his book?  \n",
      "Generated query 2: How does Drucker describe the role of knowledge workers in his writings?  \n",
      "Generated query 3: What are Drucker's views on knowledge workers as discussed in his book?\n"
     ]
    }
   ],
   "source": [
    "# Define an example user question.\n",
    "question = \"What did Drucker say about knowledge workers in the book?\"\n",
    "\n",
    "# Generate multiple queries using the multi_query_generator.\n",
    "generated_queries = multi_query_generator.invoke({\"question\":question})\n",
    "\n",
    "# Print a formatted output to display the generated queries.\n",
    "# This helps visualize how the original question has been reworded.\n",
    "print(f\"\\n{'='*40} List of generated queries for database search {'='*40}\\n\")\n",
    "print(f\"Original question: {question}\")  \n",
    "\n",
    "# Iterate over the list of generated queries and print each variation.\n",
    "for i, query in enumerate(generated_queries): \n",
    "    print(f\"Generated query {i+1}: {query}\")"
   ]
  },
  {
   "cell_type": "markdown",
   "metadata": {},
   "source": [
    "## 6\\.3 Retrieval \n",
    "In RAG, the Retrieval step is responsible for fetching relevant documents from an external knowledge source (e.g., a vector database, SQL database, or API) before generating an answer.\n",
    "\n",
    "In addition to the basic similarity search based on raw similarity score, the RAG summary image from this module's reading shows several retrieval strategies to improve the quality of retrieved documents before passing them to the LLM. These include: \n",
    "1. Re-Ranking: Sort documents based on relevance instead of similarity scores.\n",
    "\n",
    "    - A query retrieves N most relevant documents from a vector store.\n",
    "    - A re-ranking model assigns a new relevance score to each document.\n",
    "    - The most relevant documents (top-k) are re-ranked and returned to the LLM.\n",
    "\n",
    "2. RankGPT: Use an LLM-powered ranking model to evaluate and order retrieved documents based on their relevance to a given query.\n",
    "    - A set of retrieved documents is passed to an LLM.\n",
    "    - The LLM evaluates each document and assigns relevance scores.\n",
    "    - The most relevant documents are selected for final output\n",
    "\n",
    "3. RAG-Fusion: Use RFF to combine the rankings of documents retrieved from multiple variations of a user query. \n",
    "    - Retrieve documents separately for each query. \n",
    "    - RRF assigns scores to documents based on their rank in each individual retrieval.\n",
    "    - RRF then fuses these scores to create a unified ranking. \n",
    "    - Note: RFF can also be used to fuse mulitiple retrieval methods (e.g., BM25, FAISS)\n",
    "\n",
    "4. Metadata Filtering: Filter documents based on metadata attributes (e.g., date, category, document type) before or after similarity search.  \n",
    "    - Pre-filtering approach uses metadata to arrow down the set of documents to be searched before performing the similarity search.\n",
    "    - Post-filtering approach first retrieves documents based on similarity and then applies metadata filters to refine the results. \n",
    "\n",
    "5. CRAG (Corrective RAG): Add a mechanism for error detection and correction within the RAG pipeline. \n",
    "    - A retrieval evaluator assigns confidence scores to each document (e.g., correct, incorrect, or Ambiguous). \n",
    "    - Define corrective actions for retrieval errors such as query expansion or refinement with relevancy of results.  "
   ]
  },
  {
   "cell_type": "markdown",
   "metadata": {},
   "source": [
    "### 6\\.3\\.1 RAG-Fusion\n",
    "\n",
    "In this section, we will explore RAG-fusion using ** Reciprocal Rank Fusion (RRF)**, a simple yet effective method for combining ranked retrieval results. RRF is widely used in information retrieval to enhance ranking quality by aggregating multiple ranking lists.\n",
    "\n",
    "RRF Formula\n",
    "\n",
    "$$\n",
    "\\text{score} = \\sum \\frac{1}{\\text{rank} + k}\n",
    "$$\n",
    "\n",
    "where:\n",
    "- **rank** represents the position of a document within an individual ranking list (starting from 1).\n",
    "- **k** is a tuning parameter (typically set between 60-100) to prevent top-ranked documents from dominating the final ranking.\n",
    "\n",
    "RRF ensures that lower-ranked results still contribute to the final ranking, making it particularly useful for balancing multiple retrieval strategies.  "
   ]
  },
  {
   "cell_type": "code",
   "execution_count": 9,
   "metadata": {},
   "outputs": [],
   "source": [
    "from langchain.load import dumps, loads\n",
    "\n",
    "# Define a function to apply RFF to a list of ranked retrieval results. \n",
    "def reciprocal_rank_fusion(results: list[list], k=60):\n",
    "    \"\"\"\n",
    "    Parameters:\n",
    "    - results (list[list]): A list of ranked lists, where each sublist contains documents retrieved from different queries.\n",
    "    - k (int): A tuning parameter that prevents top-ranked documents from dominating the final ranking (default: 60).\n",
    "\n",
    "    Returns:\n",
    "    - List[Tuple[dict, float]]: A list of tuples, where each tuple contains:\n",
    "        - The document (as a dictionary)\n",
    "        - The fused score based on RRF\n",
    "      The list is sorted in descending order of the fused scores.\n",
    "    \"\"\"\n",
    "\n",
    "    fused_scores = {} # Dictionary to store the cumulative RRF scores for each document. \n",
    "\n",
    "    # Iterate through each ranked list of documents. \n",
    "    for docs in results:\n",
    "        for i, doc in enumerate(docs):\n",
    "            # Convert the document to a string format (JSON) to use as a dictionary key. \n",
    "            doc_str = dumps(doc)\n",
    "\n",
    "            # Initialize the document's fused score if not already present\n",
    "            if doc_str not in fused_scores:\n",
    "                fused_scores[doc_str] = 0\n",
    "\n",
    "            # Compute the RRF score: 1 / (rank + k) with rank starting at 1. \n",
    "            rank = i + 1  # Adjust rank to start from 1 instead of 0\n",
    "            fused_scores[doc_str] += 1 / (rank + k)\n",
    "\n",
    "    # Sort the documents based on their fused scores in descending order (higher score = higher relevance))\n",
    "    reranked_results = [\n",
    "        (loads(doc), score) # Convert JSON string back to its original document format\n",
    "        for doc, score in sorted(fused_scores.items(), key=lambda x: x[1], reverse=True)\n",
    "    ]\n",
    "\n",
    "    # Return the reranked list of documents with their fused scores\n",
    "    return reranked_results"
   ]
  },
  {
   "cell_type": "code",
   "execution_count": 10,
   "metadata": {},
   "outputs": [],
   "source": [
    "# Define a retrieval chain for RAG fusion\n",
    "retrieval_chain_rag_fusion = (\n",
    "    multi_query_generator # Generate multiple queries\n",
    "    | book_data_vector_store.as_retriever(\n",
    "        search_type=\"similarity\",   # Use vector similarity search to find relevant documents\n",
    "        search_kwargs={'k': 5}      # Retrieve the top 5 most relevant documents for each query\n",
    "        ).map() \n",
    "    | reciprocal_rank_fusion    # Apply (RR) to merge and re-rank retrieved documents\n",
    ")"
   ]
  },
  {
   "cell_type": "code",
   "execution_count": 11,
   "metadata": {},
   "outputs": [
    {
     "name": "stdout",
     "output_type": "stream",
     "text": [
      "\n",
      "======================================== List of reranked retrieved results ========================================\n",
      "\n",
      "Total number of results: 9\n"
     ]
    },
    {
     "name": "stderr",
     "output_type": "stream",
     "text": [
      "C:\\Users\\yuyum\\AppData\\Local\\Temp\\ipykernel_47680\\3315101807.py:35: LangChainBetaWarning: The function `loads` is in beta. It is actively being worked on, so the API may change.\n",
      "  (loads(doc), score) # Convert JSON string back to its original document format\n"
     ]
    },
    {
     "data": {
      "text/markdown": [
       "\n",
       " **From `The Effective Executive-2002.pdf`, page 17**"
      ],
      "text/plain": [
       "<IPython.core.display.Markdown object>"
      ]
     },
     "metadata": {},
     "output_type": "display_data"
    },
    {
     "name": "stdout",
     "output_type": "stream",
     "text": [
      ".  It takes his knowledge and uses it as the resource, the motivation, and the vision of  other\n",
      "knowledge workers. Knowledge workers are rarely in phase with each other,  precisely because they\n",
      "are knowledge workers. Each has his own skill and his own  concerns. One man may be interested in\n",
      "tax accounting or in bacteriology, or in training  and developing tomorrow’s key administrators in\n",
      "the city government\n",
      "————————————————————————————————————————————————————————————————————————————————\n"
     ]
    },
    {
     "data": {
      "text/markdown": [
       "\n",
       " **From `The Essential Drucker-2008.pdf`, page 196**"
      ],
      "text/plain": [
       "<IPython.core.display.Markdown object>"
      ]
     },
     "metadata": {},
     "output_type": "display_data"
    },
    {
     "name": "stdout",
     "output_type": "stream",
     "text": [
      ". Knowledge  workers, after all, first came into being in any substantial numbers a generation ago.\n",
      "(I coined the  term “knowledge worker” years ago.)   But also the shift from manual workers who do\n",
      "as they are being told—either by the task or by the  boss—to knowledge workers who have to manage\n",
      "themselves profoundly challenges social  structure\n",
      "————————————————————————————————————————————————————————————————————————————————\n"
     ]
    },
    {
     "data": {
      "text/markdown": [
       "\n",
       " **From `The Daily Drucker-2004.pdf`, page 806**"
      ],
      "text/plain": [
       "<IPython.core.display.Markdown object>"
      ]
     },
     "metadata": {},
     "output_type": "display_data"
    },
    {
     "name": "stdout",
     "output_type": "stream",
     "text": [
      ". Drucker analyzes the new realities of strategy, shows how to be a leader in periods of change, and\n",
      "explains the “New Information Revolution,” discussing the information an executive needs and the\n",
      "information an executive owes. He also examines knowledge-worker productivity, and shows that\n",
      "changes in the basic attitude of individuals and organizations, as well as structural changes in\n",
      "work itself, are needed for increased productivity. Finally, Drucker addresses the ultimate\n",
      "challenge of\n",
      "————————————————————————————————————————————————————————————————————————————————\n"
     ]
    },
    {
     "data": {
      "text/markdown": [
       "\n",
       " **From `The Daily Drucker-2004.pdf`, page 132**"
      ],
      "text/plain": [
       "<IPython.core.display.Markdown object>"
      ]
     },
     "metadata": {},
     "output_type": "display_data"
    },
    {
     "name": "stdout",
     "output_type": "stream",
     "text": [
      ". They do not come with a merger or an acquisition. It is certain that the emergence of the\n",
      "knowledge worker will bring about fundamental changes in the very structure and nature of the\n",
      "economic system.   ACTION POINT: What percentage of your workforce consists of people whose work\n",
      "requires advanced schooling? Tell these people you value their contributions and ask them to\n",
      "participate in decisions where their expertise is important. Make them feel like owners. Management\n",
      "Challenges for the 21st Century\n",
      "————————————————————————————————————————————————————————————————————————————————\n"
     ]
    },
    {
     "data": {
      "text/markdown": [
       "\n",
       " **From `The Effective Executive-2002.pdf`, page 68**"
      ],
      "text/plain": [
       "<IPython.core.display.Markdown object>"
      ]
     },
     "metadata": {},
     "output_type": "display_data"
    },
    {
     "name": "stdout",
     "output_type": "stream",
     "text": [
      ".\" They produce ideas, information,  concepts. The knowledge worker, moreover, is usually a\n",
      "specialist. In fact, he can, as a  rule, be effective only if he has learned to do one thing very\n",
      "well; that is, if he has  specialized. By itself, however, a specialty is a fragment and sterile.\n",
      "Its\n",
      "————————————————————————————————————————————————————————————————————————————————\n"
     ]
    },
    {
     "data": {
      "text/markdown": [
       "\n",
       " **From `The Daily Drucker-2004.pdf`, page 32**"
      ],
      "text/plain": [
       "<IPython.core.display.Markdown object>"
      ]
     },
     "metadata": {},
     "output_type": "display_data"
    },
    {
     "name": "stdout",
     "output_type": "stream",
     "text": [
      ". Indeed, knowledge workers must know more about their areas than anyone else; they are paid to be\n",
      "knowledgeable in their fields. What this means is that once each knowledge worker has defined his or\n",
      "her own task and once the work has been appropriately restructured, each worker should be expected\n",
      "to work out his or her own course and to take responsibility for it. Knowledge workers should be\n",
      "asked to think through their own work plans and then to submit them\n",
      "————————————————————————————————————————————————————————————————————————————————\n"
     ]
    },
    {
     "data": {
      "text/markdown": [
       "\n",
       " **From `The Daily Drucker-2004.pdf`, page 321**"
      ],
      "text/plain": [
       "<IPython.core.display.Markdown object>"
      ]
     },
     "metadata": {},
     "output_type": "display_data"
    },
    {
     "name": "stdout",
     "output_type": "stream",
     "text": [
      "23 May Knowledge-Worker Productivity Knowledge-worker productivity requires that the knowledge\n",
      "worker be both seen and treated as an asset rather than a cost. W ork on the productivity of the\n",
      "knowledge worker has barely begun. But we already know a good many of the answers. We also know the\n",
      "challenges to which we do not yet know the answers. Six major factors determine knowledge-worker\n",
      "productivity. 1. Knowledge-worker productivity demands that we ask the question: “What is the task?”\n",
      "2\n",
      "————————————————————————————————————————————————————————————————————————————————\n"
     ]
    },
    {
     "data": {
      "text/markdown": [
       "\n",
       " **From `The Daily Drucker-2004.pdf`, page 323**"
      ],
      "text/plain": [
       "<IPython.core.display.Markdown object>"
      ]
     },
     "metadata": {},
     "output_type": "display_data"
    },
    {
     "name": "stdout",
     "output_type": "stream",
     "text": [
      ". For knowledge workers are not programmed by the machine. They largely are in control of their own\n",
      "tasks and must be in control of their own tasks. For they, and only they, own and control the most\n",
      "expensive of the means of production—their education—and their most important tool—their knowledge.\n",
      "They do use other tools, of course, whether the nurse’s IV or the engineer’s computer. But their\n",
      "knowledge decides how these tools are being used and for what\n",
      "————————————————————————————————————————————————————————————————————————————————\n"
     ]
    },
    {
     "data": {
      "text/markdown": [
       "\n",
       " **From `The Daily Drucker-2004.pdf`, page 321**"
      ],
      "text/plain": [
       "<IPython.core.display.Markdown object>"
      ]
     },
     "metadata": {},
     "output_type": "display_data"
    },
    {
     "name": "stdout",
     "output_type": "stream",
     "text": [
      ". 5. Productivity of the knowledge worker is not—at least not primarily—a matter of the quantity of\n",
      "output. Quality is at least as important. 6. Finally, knowledge-worker productivity requires that\n",
      "the knowledge worker be both seen and treated as an “asset” rather than a “cost.” It requires that\n",
      "knowledge workers want to work for the organization in preference to all other opportunities. ACTION\n",
      "POINT: Apply steps one through five to your knowledge work. Management Challenges for the 21st\n",
      "Century\n",
      "————————————————————————————————————————————————————————————————————————————————\n"
     ]
    }
   ],
   "source": [
    "# Execute the retrieval chain for RAG-Fusion and get the final reranked results\n",
    "rag_fusion_results = retrieval_chain_rag_fusion.invoke({\"question\": question})\n",
    "\n",
    "# Print a formatted header for displaying the retrieved results\n",
    "print(f\"\\n{'='*40} List of reranked retrieved results {'='*40}\\n\")\n",
    "\n",
    "# Display the total number of retrieved and reranked documents\n",
    "print(f\"Total number of results: {len(rag_fusion_results)}\")\n",
    "\n",
    "# Iterate through the retrieved documents and display them in a structured format\n",
    "for i, (doc, score) in enumerate(rag_fusion_results, start=1):\n",
    "    # Display metadata: Source and page number\n",
    "    display(Markdown(f\"\\n **From `{doc.metadata['source']}`, page {doc.metadata['page']}**\"))\n",
    "\n",
    "    # Print the document content with proper text wrapping for better readability\n",
    "    print(textwrap.fill(doc.page_content, width=100)) \n",
    "\n",
    "    # Add a separator for each document\n",
    "    print(\"—\" * 80) "
   ]
  },
  {
   "cell_type": "markdown",
   "metadata": {},
   "source": [
    "### 6\\.3\\.2 RAG-fusion with Maximal Marginal Relevance (MMR)\n",
    "\n",
    "Beyond basic retrieval, advanced search strategies such as **Maximal Marginal Relevance (MMR)** and **similarity score thresholding** can significantly impact the quality of retrieved results.\n",
    "\n",
    "- MMR: Balances relevance and diversity. Instead of selecting only the most similar documents (which might be redundant), MMR diversifies the results by incorporating documents that provide new information while still being relevant. The λ parameter controls this balance: higher values (e.g. λ = 1.0) favor relevance, lower values (λ = 0.0) prioritize diversity, and λ = 0.5 represents a balanced approach. \n",
    "\n",
    "- Similarity Score Thresholding: Filters out low-quality results that below a minimum relevance score.\n",
    "\n",
    "In this section, we explore RAG-fusion with MMR. "
   ]
  },
  {
   "cell_type": "code",
   "execution_count": 12,
   "metadata": {},
   "outputs": [],
   "source": [
    "# Define a retrieval chain for MMR with RAG-fusion\n",
    "retrieval_chain_rag_fusion_mmr = (\n",
    "    multi_query_generator \n",
    "    | book_data_vector_store.as_retriever(\n",
    "        search_type=\"mmr\", # Use MMR retrieval to enhance diversity in retrieved documents\n",
    "        search_kwargs={\n",
    "            'k': 5,         # Return the top 5 most relevant and diverse documents\n",
    "            # Set `fetch_k` to be 2-5 times larger than `k` to give the MMR algorithm enough options to find diverse yet relevant documents.\n",
    "            'fetch_k': 25,  # Initially retrieve 25 candidate documents before filtering them down\n",
    "            \"lambda_mult\": 0.5 # A balanced approach. \n",
    "            }\n",
    "            ).map() # fetch 25 documents for mmr with lambda_mult=0.5, but only return 5 documents    \n",
    "    | reciprocal_rank_fusion # rerank the documents using the reciprocal rank fusion algorithm\n",
    ")"
   ]
  },
  {
   "cell_type": "code",
   "execution_count": 13,
   "metadata": {},
   "outputs": [
    {
     "name": "stdout",
     "output_type": "stream",
     "text": [
      "\n",
      "======================================== List of reranked retrieved results using MMR ========================================\n",
      "\n",
      "Total number of results: 11\n"
     ]
    },
    {
     "data": {
      "text/markdown": [
       "\n",
       " **From `The Effective Executive-2002.pdf`, page 17**"
      ],
      "text/plain": [
       "<IPython.core.display.Markdown object>"
      ]
     },
     "metadata": {},
     "output_type": "display_data"
    },
    {
     "name": "stdout",
     "output_type": "stream",
     "text": [
      ".  It takes his knowledge and uses it as the resource, the motivation, and the vision of  other\n",
      "knowledge workers. Knowledge workers are rarely in phase with each other,  precisely because they\n",
      "are knowledge workers. Each has his own skill and his own  concerns. One man may be interested in\n",
      "tax accounting or in bacteriology, or in training  and developing tomorrow’s key administrators in\n",
      "the city government\n",
      "————————————————————————————————————————————————————————————————————————————————\n"
     ]
    },
    {
     "data": {
      "text/markdown": [
       "\n",
       " **From `The Daily Drucker-2004.pdf`, page 806**"
      ],
      "text/plain": [
       "<IPython.core.display.Markdown object>"
      ]
     },
     "metadata": {},
     "output_type": "display_data"
    },
    {
     "name": "stdout",
     "output_type": "stream",
     "text": [
      ". Drucker analyzes the new realities of strategy, shows how to be a leader in periods of change, and\n",
      "explains the “New Information Revolution,” discussing the information an executive needs and the\n",
      "information an executive owes. He also examines knowledge-worker productivity, and shows that\n",
      "changes in the basic attitude of individuals and organizations, as well as structural changes in\n",
      "work itself, are needed for increased productivity. Finally, Drucker addresses the ultimate\n",
      "challenge of\n",
      "————————————————————————————————————————————————————————————————————————————————\n"
     ]
    },
    {
     "data": {
      "text/markdown": [
       "\n",
       " **From `The Daily Drucker-2004.pdf`, page 323**"
      ],
      "text/plain": [
       "<IPython.core.display.Markdown object>"
      ]
     },
     "metadata": {},
     "output_type": "display_data"
    },
    {
     "name": "stdout",
     "output_type": "stream",
     "text": [
      "24 May Defining the Task in Knowledge Work In knowledge work, the how only comes after the what has\n",
      "been answered. I n manual work the task is always given. Wherever there still are domestic servants,\n",
      "the owner of the house tells them what to do. The machine or the assembly line programs the factory\n",
      "worker. But, in knowledge work, what to do becomes the first and decisive question. For knowledge\n",
      "workers are not programmed by the machine\n",
      "————————————————————————————————————————————————————————————————————————————————\n"
     ]
    },
    {
     "data": {
      "text/markdown": [
       "\n",
       " **From `The Daily Drucker-2004.pdf`, page 323**"
      ],
      "text/plain": [
       "<IPython.core.display.Markdown object>"
      ]
     },
     "metadata": {},
     "output_type": "display_data"
    },
    {
     "name": "stdout",
     "output_type": "stream",
     "text": [
      ". They know what steps are most important and what methods need to be used to complete the tasks;\n",
      "and it is their knowledge that tells them what chores are unnecessary and should be eliminated. Work\n",
      "on knowledge-worker productivity therefore begins with asking the knowledge workers themselves: What\n",
      "is your task? What should it be? What should you be expected to contribute? and What hampers you in\n",
      "doing your task and should be eliminated? The how only comes after the what has been answered\n",
      "————————————————————————————————————————————————————————————————————————————————\n"
     ]
    },
    {
     "data": {
      "text/markdown": [
       "\n",
       " **From `The Daily Drucker-2004.pdf`, page 321**"
      ],
      "text/plain": [
       "<IPython.core.display.Markdown object>"
      ]
     },
     "metadata": {},
     "output_type": "display_data"
    },
    {
     "name": "stdout",
     "output_type": "stream",
     "text": [
      ". 5. Productivity of the knowledge worker is not—at least not primarily—a matter of the quantity of\n",
      "output. Quality is at least as important. 6. Finally, knowledge-worker productivity requires that\n",
      "the knowledge worker be both seen and treated as an “asset” rather than a “cost.” It requires that\n",
      "knowledge workers want to work for the organization in preference to all other opportunities. ACTION\n",
      "POINT: Apply steps one through five to your knowledge work. Management Challenges for the 21st\n",
      "Century\n",
      "————————————————————————————————————————————————————————————————————————————————\n"
     ]
    },
    {
     "data": {
      "text/markdown": [
       "\n",
       " **From `The Daily Drucker-2004.pdf`, page 656**"
      ],
      "text/plain": [
       "<IPython.core.display.Markdown object>"
      ]
     },
     "metadata": {},
     "output_type": "display_data"
    },
    {
     "name": "stdout",
     "output_type": "stream",
     "text": [
      "27 October Political Integration of Knowledge Workers Knowledge workers are, to coin a term,\n",
      "“uniclass.” T he new majority, the “knowledge worker,” does not fit any interest- group definition.\n",
      "Knowledge workers are neither farmers nor labor nor business; they are employees of organizations.\n",
      "Yet they are not “proletarians” and do not feel “exploited” as a class. Collectively, they are\n",
      "“capitalists” through their pension funds. Many of them are themselves bosses and have “subordinates\n",
      "————————————————————————————————————————————————————————————————————————————————\n"
     ]
    },
    {
     "data": {
      "text/markdown": [
       "\n",
       " **From `The Effective Executive-2002.pdf`, page 8**"
      ],
      "text/plain": [
       "<IPython.core.display.Markdown object>"
      ]
     },
     "metadata": {},
     "output_type": "display_data"
    },
    {
     "name": "stdout",
     "output_type": "stream",
     "text": [
      ". The  physician was the knowledge worker, with the nurse as his aide.  In other words, up to recent\n",
      "times, the major problem of organization was efficiency in  the performance of the manual worker who\n",
      "did what he had been told to do. Knowledge  workers were not predominant in organization.  In fact,\n",
      "only a small fraction of the knowledge workers of earlier days were part of an  organization. Most\n",
      "of them worked by themselves as professionals, at best with a clerk\n",
      "————————————————————————————————————————————————————————————————————————————————\n"
     ]
    },
    {
     "data": {
      "text/markdown": [
       "\n",
       " **From `The Daily Drucker-2004.pdf`, page 367**"
      ],
      "text/plain": [
       "<IPython.core.display.Markdown object>"
      ]
     },
     "metadata": {},
     "output_type": "display_data"
    },
    {
     "name": "stdout",
     "output_type": "stream",
     "text": [
      ". They have both mobility and self-confidence. This means they have to be treated and managed as\n",
      "volunteers, in the same way as volunteers who work for not-for-profit organizations. The first thing\n",
      "such people want to know is what the company is trying to do and where it is going. Next, they are\n",
      "interested in personal achievement and personal responsibility—which means they have to be put in\n",
      "the right job. Knowledge workers expect continuous learning and continuous training\n",
      "————————————————————————————————————————————————————————————————————————————————\n"
     ]
    },
    {
     "data": {
      "text/markdown": [
       "\n",
       " **From `The Daily Drucker-2004.pdf`, page 290**"
      ],
      "text/plain": [
       "<IPython.core.display.Markdown object>"
      ]
     },
     "metadata": {},
     "output_type": "display_data"
    },
    {
     "name": "stdout",
     "output_type": "stream",
     "text": [
      ". Given this competitive struggle, a growing number of highly successful knowledge workers—business\n",
      "managers, university teachers, museum directors, doctors —“plateau” in their forties. If their work\n",
      "is all they have, they are in trouble. Knowledge workers therefore need to develop some serious\n",
      "outside interest.   ACTION POINT: Develop a serious satisfying outside interest. Managing in the\n",
      "Next Society\n",
      "————————————————————————————————————————————————————————————————————————————————\n"
     ]
    },
    {
     "data": {
      "text/markdown": [
       "\n",
       " **From `The Essential Drucker-2008.pdf`, page 207**"
      ],
      "text/plain": [
       "<IPython.core.display.Markdown object>"
      ]
     },
     "metadata": {},
     "output_type": "display_data"
    },
    {
     "name": "stdout",
     "output_type": "stream",
     "text": [
      ". The newly emerging dominant group are “knowledge workers.” Knowledge workers  amount to a third or\n",
      "more of the workforce in the United States, that is, to as large a proportion as  industrial blue-\n",
      "collar workers ever were, except in wartime. The majority of knowledge workers are  paid at least as\n",
      "well as blue-collar workers ever were, or better. And the new jobs offer much greater  opportunities\n",
      "to the individual\n",
      "————————————————————————————————————————————————————————————————————————————————\n"
     ]
    },
    {
     "data": {
      "text/markdown": [
       "\n",
       " **From `The Daily Drucker-2004.pdf`, page 796**"
      ],
      "text/plain": [
       "<IPython.core.display.Markdown object>"
      ]
     },
     "metadata": {},
     "output_type": "display_data"
    },
    {
     "name": "stdout",
     "output_type": "stream",
     "text": [
      ".’ He is thoroughly at home in economics, political science, industrial psychology, and industrial\n",
      "sociology, and has succeeded admirably in harmonizing the findings of all four disciplines and\n",
      "applying them meaningfully to the practical problems of the ‘enterprise.’ ” Drucker believes that\n",
      "the interests of the worker, management, and corporation are reconcilable with society. He advances\n",
      "the idea of “the plant community” in which workers are encouraged to take on more responsibility and\n",
      "act like “managers\n",
      "————————————————————————————————————————————————————————————————————————————————\n"
     ]
    }
   ],
   "source": [
    "# Execute the retrieval chain for RAG-Fusion with MMR and get the final re-ranked results\n",
    "rag_fusion_mmr_results = retrieval_chain_rag_fusion_mmr.invoke({\"question\": question})\n",
    "\n",
    "print(f\"\\n{'='*40} List of reranked retrieved results using MMR {'='*40}\\n\")\n",
    "\n",
    "print(f\"Total number of results: {len(rag_fusion_mmr_results)}\")\n",
    "\n",
    "for i, (doc, score) in enumerate(rag_fusion_mmr_results, start=1):\n",
    "    display(Markdown(f\"\\n **From `{doc.metadata['source']}`, page {doc.metadata['page']}**\"))\n",
    "\n",
    "    print(textwrap.fill(doc.page_content, width=100)) \n",
    "    \n",
    "    print(\"—\" * 80) "
   ]
  },
  {
   "cell_type": "markdown",
   "metadata": {},
   "source": [
    "### 6\\.3\\.3 Metadata Filtering\n",
    "The section demonstrates metadata filtering, where a metadata filter is applied to the retrieval results before performing similarity search.\n",
    "\n",
    "Metadata filters use comparison operators to refine search results based on structured attributes. \n",
    "Below are some commonly used operators:\n",
    "- `$eq`: equal to\n",
    "- `$ne`: not equal to\n",
    "- `$gt`: greater than\n",
    "- `$gte`: greater than or equal to\n",
    "- `$lt`: less than\n",
    "- `$lte`: less than or equal to"
   ]
  },
  {
   "cell_type": "code",
   "execution_count": 14,
   "metadata": {},
   "outputs": [],
   "source": [
    "# Define a retrieval chain that applies a metadata filter before similarity search\n",
    "retrieval_chain_metadata_filter = (\n",
    "    multi_query_generator \n",
    "    | book_data_vector_store.as_retriever(\n",
    "        search_type=\"similarity\", \n",
    "        search_kwargs={'k': 5,  # Retrieve only the top 5 most relevant documents\n",
    "                       'filter': {\n",
    "                           'page': {'$lte': 300},   # Include only documents with page numbers ≤ 300\n",
    "                           'source': {'$eq' : 'The Daily Drucker-2004.pdf'} # Restrict search to a specific source file\n",
    "                           }\n",
    "                        }\n",
    "                    ).map() \n",
    "    | reciprocal_rank_fusion    # Apply RRF to merge and re-rank the filtered documents\n",
    ")"
   ]
  },
  {
   "cell_type": "code",
   "execution_count": 15,
   "metadata": {},
   "outputs": [
    {
     "name": "stdout",
     "output_type": "stream",
     "text": [
      "\n",
      "======================================== List of reranked retrieved results using metadata filter ========================================\n",
      "\n",
      "Total number of results: 7\n"
     ]
    },
    {
     "data": {
      "text/markdown": [
       "\n",
       " **From `The Daily Drucker-2004.pdf`, page 132**"
      ],
      "text/plain": [
       "<IPython.core.display.Markdown object>"
      ]
     },
     "metadata": {},
     "output_type": "display_data"
    },
    {
     "name": "stdout",
     "output_type": "stream",
     "text": [
      ". They do not come with a merger or an acquisition. It is certain that the emergence of the\n",
      "knowledge worker will bring about fundamental changes in the very structure and nature of the\n",
      "economic system.   ACTION POINT: What percentage of your workforce consists of people whose work\n",
      "requires advanced schooling? Tell these people you value their contributions and ask them to\n",
      "participate in decisions where their expertise is important. Make them feel like owners. Management\n",
      "Challenges for the 21st Century\n",
      "————————————————————————————————————————————————————————————————————————————————\n"
     ]
    },
    {
     "data": {
      "text/markdown": [
       "\n",
       " **From `The Daily Drucker-2004.pdf`, page 276**"
      ],
      "text/plain": [
       "<IPython.core.display.Markdown object>"
      ]
     },
     "metadata": {},
     "output_type": "display_data"
    },
    {
     "name": "stdout",
     "output_type": "stream",
     "text": [
      ". The management of knowledge workers is a “marketing job.” And in marketing one does not begin with\n",
      "the question: “What do we want?” One begins with the questions: “What does the other party want?\n",
      "What are its values? What are its goals? What does it consider results?” What motivates knowledge\n",
      "workers is what motivates volunteers. Volunteers have to get more satisfaction from their work than\n",
      "paid employees, precisely because they don’t get a paycheck. They need, above all, challenges\n",
      "————————————————————————————————————————————————————————————————————————————————\n"
     ]
    },
    {
     "data": {
      "text/markdown": [
       "\n",
       " **From `The Daily Drucker-2004.pdf`, page 132**"
      ],
      "text/plain": [
       "<IPython.core.display.Markdown object>"
      ]
     },
     "metadata": {},
     "output_type": "display_data"
    },
    {
     "name": "stdout",
     "output_type": "stream",
     "text": [
      ". For increasingly the ability of organizations to survive will come to depend on their “comparative\n",
      "advantage” in making the knowledge worker productive. And the ability to attract and hold the best\n",
      "of the knowledge workers is the first and most fundamental precondition. What does capitalism mean\n",
      "when knowledge governs rather than money? And what do “free markets” mean when knowledge workers are\n",
      "the true assets? Knowledge workers can be neither bought nor sold\n",
      "————————————————————————————————————————————————————————————————————————————————\n"
     ]
    },
    {
     "data": {
      "text/markdown": [
       "\n",
       " **From `The Daily Drucker-2004.pdf`, page 32**"
      ],
      "text/plain": [
       "<IPython.core.display.Markdown object>"
      ]
     },
     "metadata": {},
     "output_type": "display_data"
    },
    {
     "name": "stdout",
     "output_type": "stream",
     "text": [
      ". Indeed, knowledge workers must know more about their areas than anyone else; they are paid to be\n",
      "knowledgeable in their fields. What this means is that once each knowledge worker has defined his or\n",
      "her own task and once the work has been appropriately restructured, each worker should be expected\n",
      "to work out his or her own course and to take responsibility for it. Knowledge workers should be\n",
      "asked to think through their own work plans and then to submit them\n",
      "————————————————————————————————————————————————————————————————————————————————\n"
     ]
    },
    {
     "data": {
      "text/markdown": [
       "\n",
       " **From `The Daily Drucker-2004.pdf`, page 30**"
      ],
      "text/plain": [
       "<IPython.core.display.Markdown object>"
      ]
     },
     "metadata": {},
     "output_type": "display_data"
    },
    {
     "name": "stdout",
     "output_type": "stream",
     "text": [
      ". What does this mean when the knowledge of the individual knowledge worker becomes an asset and, in\n",
      "more and more cases, the main asset of an institution? What does this mean for personnel policy?\n",
      "What is needed to attract and to hold the highest-producing knowledge workers? What is needed to\n",
      "increase their productivity and to convert their increased productivity into performance capacity\n",
      "for the organization?   ACTION POINT: Attract and hold the highest-producing knowledge workers by\n",
      "————————————————————————————————————————————————————————————————————————————————\n"
     ]
    },
    {
     "data": {
      "text/markdown": [
       "\n",
       " **From `The Daily Drucker-2004.pdf`, page 290**"
      ],
      "text/plain": [
       "<IPython.core.display.Markdown object>"
      ]
     },
     "metadata": {},
     "output_type": "display_data"
    },
    {
     "name": "stdout",
     "output_type": "stream",
     "text": [
      ". Given this competitive struggle, a growing number of highly successful knowledge workers—business\n",
      "managers, university teachers, museum directors, doctors —“plateau” in their forties. If their work\n",
      "is all they have, they are in trouble. Knowledge workers therefore need to develop some serious\n",
      "outside interest.   ACTION POINT: Develop a serious satisfying outside interest. Managing in the\n",
      "Next Society\n",
      "————————————————————————————————————————————————————————————————————————————————\n"
     ]
    },
    {
     "data": {
      "text/markdown": [
       "\n",
       " **From `The Daily Drucker-2004.pdf`, page 286**"
      ],
      "text/plain": [
       "<IPython.core.display.Markdown object>"
      ]
     },
     "metadata": {},
     "output_type": "display_data"
    },
    {
     "name": "stdout",
     "output_type": "stream",
     "text": [
      ". These people are as much manual workers as they are knowledge workers; in fact, they usually spend\n",
      "far more time working with their hands than with their brains. So, knowledge does not eliminate\n",
      "skill. On the contrary, knowledge is fast becoming the foundation for skill. We are using knowledge\n",
      "more and more to enable people to acquire skills of a very advanced kind fast and successfully. Only\n",
      "when knowledge is used as a foundation for skill does it become productive\n",
      "————————————————————————————————————————————————————————————————————————————————\n"
     ]
    }
   ],
   "source": [
    "# Display the intermediate retrieval process\n",
    "rag_fusion_metadata_filter_results = retrieval_chain_metadata_filter.invoke({\"question\": question})\n",
    "\n",
    "print(f\"\\n{'='*40} List of reranked retrieved results using metadata filter {'='*40}\\n\")\n",
    "\n",
    "print(f\"Total number of results: {len(rag_fusion_metadata_filter_results)}\")\n",
    "\n",
    "for i, (doc, score) in enumerate(rag_fusion_metadata_filter_results, start=1):\n",
    "    display(Markdown(f\"\\n **From `{doc.metadata['source']}`, page {doc.metadata['page']}**\"))\n",
    "\n",
    "    print(textwrap.fill(doc.page_content, width=100)) \n",
    "    \n",
    "    print(\"—\" * 80) "
   ]
  },
  {
   "cell_type": "markdown",
   "metadata": {},
   "source": [
    "## 6\\.4 Generation\n",
    "In RAG, the generation step is where the retrieved documents are used as context for an LLM to generate responses.\n",
    "\n",
    "A basic generation simply uses retrieved documents from the previous step as context. \n",
    "\n",
    "Limitations of basic generation include: \n",
    "- The model may still hallucinate (generate incorrect information).\n",
    "- If retrieval is incomplete or low quality, the generation may be misleading.\n",
    "- The model does not verify facts—it simply generates based on provided documents.\n",
    "\n",
    "Advanced generation techniques include: \n",
    "- Self-RAG: Make the LLM self-aware by having it reflect on its own response, detect missing information, and refine the answer.\n",
    "- RRR (Rephrase, Retrieve, Read): Iteratively rephrasing the query, optimizing retrieval, and structuring the response."
   ]
  },
  {
   "cell_type": "code",
   "execution_count": 16,
   "metadata": {},
   "outputs": [],
   "source": [
    "from operator import itemgetter\n",
    "\n",
    "# Define a flexible Q&A prompt where the AI can use retrieved context as a reference \n",
    "# but is also allowed to incorporate its broader knowledge if necessary.\n",
    "# This is useful when the retrieved documents may be incomplete or missing key details.\n",
    "flexible_QA_prompt = PromptTemplate.from_template(\n",
    "    \"\"\"You are a knowledgeable AI assistant answering the following question. \n",
    "    If the provided context is relevant, incorporate it into your response. If not, \n",
    "    rely on your broader knowledge to provide the most accurate and informative answer.\n",
    "    \n",
    "    **Question:** {question}\n",
    "    \n",
    "    **Reference Context (if applicable):**  \n",
    "    {context}\n",
    "    \n",
    "    **Answer:**\"\"\"\n",
    ")\n",
    "\n",
    "# Define a strict Q&A prompt where the AI must strictly adhere to the retrieved context \n",
    "# and avoid adding any external knowledge. If the context does not contain the required \n",
    "# information, the AI should explicitly state that. \n",
    "# This is ideal for high-accuracy applications such as legal, financial, or academic domains.\n",
    "strict_QA_prompt = PromptTemplate.from_template(\n",
    "    \"\"\"You are an AI assistant tasked with answering the following question **as accurately as possible** \n",
    "    based solely on the provided context. If the context does not contain sufficient information, explicitly state that. \n",
    "    \n",
    "    **Question:** {question}\n",
    "    \n",
    "    **Context:**  \n",
    "    {context}\n",
    "    \n",
    "    **Answer:**\"\"\"\n",
    ")\n",
    "\n",
    "\n",
    "# Define the final RAG generation pipeline\n",
    "final_rag_chain = (\n",
    "    {\"context\": retrieval_chain_rag_fusion_mmr,  # Retrieve relevant documents using RAG-Fusion with MMR\n",
    "     \"question\": itemgetter(\"question\")} # Extract the \"question\" field from the input dictionary\n",
    "    | flexible_QA_prompt # Apply the flexible prompt as a demo\n",
    "    | llm\n",
    "    | StrOutputParser() # Convert the output into a simple string format for easier processing\n",
    ")\n",
    "\n",
    "# Execute the final RAG pipeline\n",
    "final_answer = final_rag_chain.invoke({\"question\": question})"
   ]
  },
  {
   "cell_type": "code",
   "execution_count": 17,
   "metadata": {},
   "outputs": [
    {
     "name": "stdout",
     "output_type": "stream",
     "text": [
      "\n",
      "============================================================ Final Answer ============================================================\n",
      "\n"
     ]
    },
    {
     "data": {
      "text/markdown": [
       ">\n",
       "> Peter Drucker, in his writings, particularly in \"The Effective Executive\" and \"The Daily Drucker,\"\n",
       "emphasized the unique nature and importance of knowledge workers. He described knowledge workers as\n",
       "individuals who use their knowledge as a resource, motivation, and vision, often working\n",
       "independently with their own skills and concerns. Unlike manual workers, knowledge workers are not\n",
       "programmed by machines or assembly lines; instead, they must determine what tasks to undertake,\n",
       "making the \"what\" of their work a critical question before the \"how.\"  Drucker also highlighted that\n",
       "knowledge workers are rarely in sync with each other due to their specialized skills and interests.\n",
       "He noted that their productivity is not primarily about the quantity of output but the quality, and\n",
       "they should be seen and treated as assets rather than costs. Furthermore, Drucker pointed out that\n",
       "knowledge workers need to be managed as volunteers, emphasizing personal achievement,\n",
       "responsibility, continuous learning, and training.  Overall, Drucker believed that the productivity\n",
       "of knowledge workers requires changes in attitudes and organizational structures, and that they\n",
       "should be integrated politically as a \"uniclass,\" not fitting traditional interest-group\n",
       "definitions."
      ],
      "text/plain": [
       "<IPython.core.display.Markdown object>"
      ]
     },
     "metadata": {},
     "output_type": "display_data"
    },
    {
     "name": "stdout",
     "output_type": "stream",
     "text": [
      "\n",
      "======================================== List of Queries for Database Search ========================================\n",
      "\n",
      "**Original Question:** What did Drucker say about knowledge workers in the book?\n",
      "**Generated Query 1:** What insights did Drucker provide on knowledge workers in his book?  \n",
      "**Generated Query 2:** How does Drucker describe the role of knowledge workers in his writings?  \n",
      "**Generated Query 3:** What are Drucker's views on knowledge workers as discussed in his book?\n",
      "\n",
      "======================================== List of Reranked Retrieved Results Using Metadata Filter ========================================\n",
      "\n",
      "Total Number of Retrieved Results: 11\n",
      "\n"
     ]
    },
    {
     "data": {
      "text/markdown": [
       "**Result 1:**\n",
       "**From `The Effective Executive-2002.pdf`, Page 17**"
      ],
      "text/plain": [
       "<IPython.core.display.Markdown object>"
      ]
     },
     "metadata": {},
     "output_type": "display_data"
    },
    {
     "name": "stdout",
     "output_type": "stream",
     "text": [
      ".  It takes his knowledge and uses it as the resource, the motivation, and the vision of  other\n",
      "knowledge workers. Knowledge workers are rarely in phase with each other,  precisely because they\n",
      "are knowledge workers. Each has his own skill and his own  concerns. One man may be interested in\n",
      "tax accounting or in bacteriology, or in training  and developing tomorrow’s key administrators in\n",
      "the city government\n",
      "————————————————————————————————————————————————————————————————————————————————\n"
     ]
    },
    {
     "data": {
      "text/markdown": [
       "**Result 2:**\n",
       "**From `The Daily Drucker-2004.pdf`, Page 806**"
      ],
      "text/plain": [
       "<IPython.core.display.Markdown object>"
      ]
     },
     "metadata": {},
     "output_type": "display_data"
    },
    {
     "name": "stdout",
     "output_type": "stream",
     "text": [
      ". Drucker analyzes the new realities of strategy, shows how to be a leader in periods of change, and\n",
      "explains the “New Information Revolution,” discussing the information an executive needs and the\n",
      "information an executive owes. He also examines knowledge-worker productivity, and shows that\n",
      "changes in the basic attitude of individuals and organizations, as well as structural changes in\n",
      "work itself, are needed for increased productivity. Finally, Drucker addresses the ultimate\n",
      "challenge of\n",
      "————————————————————————————————————————————————————————————————————————————————\n"
     ]
    },
    {
     "data": {
      "text/markdown": [
       "**Result 3:**\n",
       "**From `The Daily Drucker-2004.pdf`, Page 323**"
      ],
      "text/plain": [
       "<IPython.core.display.Markdown object>"
      ]
     },
     "metadata": {},
     "output_type": "display_data"
    },
    {
     "name": "stdout",
     "output_type": "stream",
     "text": [
      "24 May Defining the Task in Knowledge Work In knowledge work, the how only comes after the what has\n",
      "been answered. I n manual work the task is always given. Wherever there still are domestic servants,\n",
      "the owner of the house tells them what to do. The machine or the assembly line programs the factory\n",
      "worker. But, in knowledge work, what to do becomes the first and decisive question. For knowledge\n",
      "workers are not programmed by the machine\n",
      "————————————————————————————————————————————————————————————————————————————————\n"
     ]
    },
    {
     "data": {
      "text/markdown": [
       "**Result 4:**\n",
       "**From `The Daily Drucker-2004.pdf`, Page 323**"
      ],
      "text/plain": [
       "<IPython.core.display.Markdown object>"
      ]
     },
     "metadata": {},
     "output_type": "display_data"
    },
    {
     "name": "stdout",
     "output_type": "stream",
     "text": [
      ". They know what steps are most important and what methods need to be used to complete the tasks;\n",
      "and it is their knowledge that tells them what chores are unnecessary and should be eliminated. Work\n",
      "on knowledge-worker productivity therefore begins with asking the knowledge workers themselves: What\n",
      "is your task? What should it be? What should you be expected to contribute? and What hampers you in\n",
      "doing your task and should be eliminated? The how only comes after the what has been answered\n",
      "————————————————————————————————————————————————————————————————————————————————\n"
     ]
    },
    {
     "data": {
      "text/markdown": [
       "**Result 5:**\n",
       "**From `The Daily Drucker-2004.pdf`, Page 321**"
      ],
      "text/plain": [
       "<IPython.core.display.Markdown object>"
      ]
     },
     "metadata": {},
     "output_type": "display_data"
    },
    {
     "name": "stdout",
     "output_type": "stream",
     "text": [
      ". 5. Productivity of the knowledge worker is not—at least not primarily—a matter of the quantity of\n",
      "output. Quality is at least as important. 6. Finally, knowledge-worker productivity requires that\n",
      "the knowledge worker be both seen and treated as an “asset” rather than a “cost.” It requires that\n",
      "knowledge workers want to work for the organization in preference to all other opportunities. ACTION\n",
      "POINT: Apply steps one through five to your knowledge work. Management Challenges for the 21st\n",
      "Century\n",
      "————————————————————————————————————————————————————————————————————————————————\n"
     ]
    },
    {
     "data": {
      "text/markdown": [
       "**Result 6:**\n",
       "**From `The Daily Drucker-2004.pdf`, Page 656**"
      ],
      "text/plain": [
       "<IPython.core.display.Markdown object>"
      ]
     },
     "metadata": {},
     "output_type": "display_data"
    },
    {
     "name": "stdout",
     "output_type": "stream",
     "text": [
      "27 October Political Integration of Knowledge Workers Knowledge workers are, to coin a term,\n",
      "“uniclass.” T he new majority, the “knowledge worker,” does not fit any interest- group definition.\n",
      "Knowledge workers are neither farmers nor labor nor business; they are employees of organizations.\n",
      "Yet they are not “proletarians” and do not feel “exploited” as a class. Collectively, they are\n",
      "“capitalists” through their pension funds. Many of them are themselves bosses and have “subordinates\n",
      "————————————————————————————————————————————————————————————————————————————————\n"
     ]
    },
    {
     "data": {
      "text/markdown": [
       "**Result 7:**\n",
       "**From `The Effective Executive-2002.pdf`, Page 8**"
      ],
      "text/plain": [
       "<IPython.core.display.Markdown object>"
      ]
     },
     "metadata": {},
     "output_type": "display_data"
    },
    {
     "name": "stdout",
     "output_type": "stream",
     "text": [
      ". The  physician was the knowledge worker, with the nurse as his aide.  In other words, up to recent\n",
      "times, the major problem of organization was efficiency in  the performance of the manual worker who\n",
      "did what he had been told to do. Knowledge  workers were not predominant in organization.  In fact,\n",
      "only a small fraction of the knowledge workers of earlier days were part of an  organization. Most\n",
      "of them worked by themselves as professionals, at best with a clerk\n",
      "————————————————————————————————————————————————————————————————————————————————\n"
     ]
    },
    {
     "data": {
      "text/markdown": [
       "**Result 8:**\n",
       "**From `The Daily Drucker-2004.pdf`, Page 367**"
      ],
      "text/plain": [
       "<IPython.core.display.Markdown object>"
      ]
     },
     "metadata": {},
     "output_type": "display_data"
    },
    {
     "name": "stdout",
     "output_type": "stream",
     "text": [
      ". They have both mobility and self-confidence. This means they have to be treated and managed as\n",
      "volunteers, in the same way as volunteers who work for not-for-profit organizations. The first thing\n",
      "such people want to know is what the company is trying to do and where it is going. Next, they are\n",
      "interested in personal achievement and personal responsibility—which means they have to be put in\n",
      "the right job. Knowledge workers expect continuous learning and continuous training\n",
      "————————————————————————————————————————————————————————————————————————————————\n"
     ]
    },
    {
     "data": {
      "text/markdown": [
       "**Result 9:**\n",
       "**From `The Daily Drucker-2004.pdf`, Page 290**"
      ],
      "text/plain": [
       "<IPython.core.display.Markdown object>"
      ]
     },
     "metadata": {},
     "output_type": "display_data"
    },
    {
     "name": "stdout",
     "output_type": "stream",
     "text": [
      ". Given this competitive struggle, a growing number of highly successful knowledge workers—business\n",
      "managers, university teachers, museum directors, doctors —“plateau” in their forties. If their work\n",
      "is all they have, they are in trouble. Knowledge workers therefore need to develop some serious\n",
      "outside interest.   ACTION POINT: Develop a serious satisfying outside interest. Managing in the\n",
      "Next Society\n",
      "————————————————————————————————————————————————————————————————————————————————\n"
     ]
    },
    {
     "data": {
      "text/markdown": [
       "**Result 10:**\n",
       "**From `The Essential Drucker-2008.pdf`, Page 207**"
      ],
      "text/plain": [
       "<IPython.core.display.Markdown object>"
      ]
     },
     "metadata": {},
     "output_type": "display_data"
    },
    {
     "name": "stdout",
     "output_type": "stream",
     "text": [
      ". The newly emerging dominant group are “knowledge workers.” Knowledge workers  amount to a third or\n",
      "more of the workforce in the United States, that is, to as large a proportion as  industrial blue-\n",
      "collar workers ever were, except in wartime. The majority of knowledge workers are  paid at least as\n",
      "well as blue-collar workers ever were, or better. And the new jobs offer much greater  opportunities\n",
      "to the individual\n",
      "————————————————————————————————————————————————————————————————————————————————\n"
     ]
    },
    {
     "data": {
      "text/markdown": [
       "**Result 11:**\n",
       "**From `The Daily Drucker-2004.pdf`, Page 796**"
      ],
      "text/plain": [
       "<IPython.core.display.Markdown object>"
      ]
     },
     "metadata": {},
     "output_type": "display_data"
    },
    {
     "name": "stdout",
     "output_type": "stream",
     "text": [
      ".’ He is thoroughly at home in economics, political science, industrial psychology, and industrial\n",
      "sociology, and has succeeded admirably in harmonizing the findings of all four disciplines and\n",
      "applying them meaningfully to the practical problems of the ‘enterprise.’ ” Drucker believes that\n",
      "the interests of the worker, management, and corporation are reconcilable with society. He advances\n",
      "the idea of “the plant community” in which workers are encouraged to take on more responsibility and\n",
      "act like “managers\n",
      "————————————————————————————————————————————————————————————————————————————————\n"
     ]
    }
   ],
   "source": [
    "# Display the final AI-generated answer based on retrieved context\n",
    "print(\"\\n\" + \"=\"*60 + \" Final Answer \" + \"=\"*60 + \"\\n\")\n",
    "display(Markdown(f\">\\n> {textwrap.fill(final_answer, width=100)}\"))\n",
    "\n",
    "# Display the list of generated query variations for database search\n",
    "print(f\"\\n{'='*40} List of Queries for Database Search {'='*40}\\n\")\n",
    "\n",
    "# Show the original user question before query transformations\n",
    "print(f\"**Original Question:** {question}\")  \n",
    "\n",
    "# Iterate over the generated queries and display them sequentially\n",
    "for i, query in enumerate(generated_queries, start=1): \n",
    "    print(f\"**Generated Query {i}:** {query}\")\n",
    "\n",
    "# Display the list of retrieved documents\n",
    "print(f\"\\n{'='*40} List of Reranked Retrieved Results Using Metadata Filter {'='*40}\\n\")\n",
    "\n",
    "# Print the total number of retrieved and re-ranked results\n",
    "print(f\"Total Number of Retrieved Results: {len(rag_fusion_mmr_results)}\\n\")\n",
    "\n",
    "# Iterate through the retrieved documents and display their metadata and content\n",
    "for i, (doc, score) in enumerate(rag_fusion_mmr_results, start=1):\n",
    "    display(Markdown(f\"**Result {i}:**\\n**From `{doc.metadata['source']}`, Page {doc.metadata['page']}**\"))\n",
    "\n",
    "    print(textwrap.fill(doc.page_content, width=100)) \n",
    "\n",
    "    print(\"—\" * 80)\n"
   ]
  },
  {
   "cell_type": "markdown",
   "metadata": {},
   "source": [
    "## 6\\.5 Comparing Embedding Models in Retrieval (optional)\n",
    "\n",
    "Different embedding models can be used to encode text for retrieval, each offering unique trade-offs in terms of semantic richness, dimensionality, and computational efficiency. In this case, we compare:\n",
    "\n",
    "- ``text-embedding-3-large`` for the Book_data collection\n",
    "- ``sentence-transformers/all-MiniLM-L6-v2`` for the Book_data_HF_MiniLM collection\n",
    "\n",
    "Two models vary in architecture, embedding size, and performance characteristics, impacting both retrieval accuracy and system efficiency.\n",
    "- ``text-embedding-3-large``embedding size is 3072, capturing more nuanced semantic details but with higher storage and computational cost.   \n",
    "- `all-MiniLM-L6-v2` embedding size is 384, offering a lightweight alternative with faster processing but may lose some semantic depth in representation.  "
   ]
  },
  {
   "cell_type": "code",
   "execution_count": 18,
   "metadata": {},
   "outputs": [],
   "source": [
    "# Run the following command to install langchain-huggingface\n",
    "# !pip install langchain-huggingface"
   ]
  },
  {
   "cell_type": "code",
   "execution_count": 19,
   "metadata": {},
   "outputs": [
    {
     "name": "stdout",
     "output_type": "stream",
     "text": [
      "PGVector store initialized successfully with Hugging Face embeddings!\n"
     ]
    }
   ],
   "source": [
    "from langchain_huggingface import HuggingFaceEmbeddings\n",
    "\n",
    "# This setup uses the Hugging Face `sentence-transformers` model for text embedding.\n",
    "book_data_vector_store_HF = PGVector(\n",
    "    embeddings = HuggingFaceEmbeddings(model_name=\"sentence-transformers/all-MiniLM-L6-v2\"),\n",
    "    # Embedding model: \"all-MiniLM-L6-v2\" is a lightweight transformer-based model optimized for semantic search.\n",
    "        \n",
    "    collection_name = \"Book_data_HF_MiniLM\",\n",
    "    # Name of the collection (table) where embeddings will be stored in the PGVector database.\n",
    "\n",
    "    connection=shared_connection_string,\n",
    "    use_jsonb=True,\n",
    ")\n",
    "\n",
    "print(\"PGVector store initialized successfully with Hugging Face embeddings!\")"
   ]
  },
  {
   "cell_type": "code",
   "execution_count": 26,
   "metadata": {},
   "outputs": [
    {
     "data": {
      "text/markdown": [
       "## Result 1"
      ],
      "text/plain": [
       "<IPython.core.display.Markdown object>"
      ]
     },
     "metadata": {},
     "output_type": "display_data"
    },
    {
     "data": {
      "text/markdown": [
       "**From `The Essential Drucker-2008.pdf`, Page 196**"
      ],
      "text/plain": [
       "<IPython.core.display.Markdown object>"
      ]
     },
     "metadata": {},
     "output_type": "display_data"
    },
    {
     "data": {
      "text/markdown": [
       "**(`text-embedding-3-large`** , Similarity Distance: 0.3955)"
      ],
      "text/plain": [
       "<IPython.core.display.Markdown object>"
      ]
     },
     "metadata": {},
     "output_type": "display_data"
    },
    {
     "name": "stdout",
     "output_type": "stream",
     "text": [
      ". Knowledge  workers, after all, first came into being in any substantial numbers a generation ago.\n",
      "(I coined the  term “knowledge worker” years ago.)   But also the shift from manual workers who do\n",
      "as they are being told—either by the task or by the  boss—to knowledge workers who have to manage\n",
      "themselves profoundly challenges social  structure\n",
      "--------------------------------------------------------------------------------\n"
     ]
    },
    {
     "data": {
      "text/markdown": [
       "**From `The Daily Drucker-2004.pdf`, Page 797**"
      ],
      "text/plain": [
       "<IPython.core.display.Markdown object>"
      ]
     },
     "metadata": {},
     "output_type": "display_data"
    },
    {
     "data": {
      "text/markdown": [
       "**(`all-MiniLM-L6-v2`** , Similarity Distance: 0.3674)"
      ],
      "text/plain": [
       "<IPython.core.display.Markdown object>"
      ]
     },
     "metadata": {},
     "output_type": "display_data"
    },
    {
     "name": "stdout",
     "output_type": "stream",
     "text": [
      ". The first part of the book treats the philosophical shift from a Cartesian universe of mechanical\n",
      "cause to a new universe of pattern, purpose, and configuration. Drucker discusses the need to\n",
      "organize men of knowledge and of high skill for joint effort, and performance as a key component of\n",
      "this change\n",
      "====================================================================================================\n"
     ]
    },
    {
     "data": {
      "text/markdown": [
       "## Result 2"
      ],
      "text/plain": [
       "<IPython.core.display.Markdown object>"
      ]
     },
     "metadata": {},
     "output_type": "display_data"
    },
    {
     "data": {
      "text/markdown": [
       "**From `The Daily Drucker-2004.pdf`, Page 132**"
      ],
      "text/plain": [
       "<IPython.core.display.Markdown object>"
      ]
     },
     "metadata": {},
     "output_type": "display_data"
    },
    {
     "data": {
      "text/markdown": [
       "**(`text-embedding-3-large`** , Similarity Distance: 0.3987)"
      ],
      "text/plain": [
       "<IPython.core.display.Markdown object>"
      ]
     },
     "metadata": {},
     "output_type": "display_data"
    },
    {
     "name": "stdout",
     "output_type": "stream",
     "text": [
      ". They do not come with a merger or an acquisition. It is certain that the emergence of the\n",
      "knowledge worker will bring about fundamental changes in the very structure and nature of the\n",
      "economic system.   ACTION POINT: What percentage of your workforce consists of people whose work\n",
      "requires advanced schooling? Tell these people you value their contributions and ask them to\n",
      "participate in decisions where their expertise is important. Make them feel like owners. Management\n",
      "Challenges for the 21st Century\n",
      "--------------------------------------------------------------------------------\n"
     ]
    },
    {
     "data": {
      "text/markdown": [
       "**From `The Daily Drucker-2004.pdf`, Page 800**"
      ],
      "text/plain": [
       "<IPython.core.display.Markdown object>"
      ]
     },
     "metadata": {},
     "output_type": "display_data"
    },
    {
     "data": {
      "text/markdown": [
       "**(`all-MiniLM-L6-v2`** , Similarity Distance: 0.3946)"
      ],
      "text/plain": [
       "<IPython.core.display.Markdown object>"
      ]
     },
     "metadata": {},
     "output_type": "display_data"
    },
    {
     "name": "stdout",
     "output_type": "stream",
     "text": [
      ". Drucker conveys his life story—from\n",
      "====================================================================================================\n"
     ]
    },
    {
     "data": {
      "text/markdown": [
       "## Result 3"
      ],
      "text/plain": [
       "<IPython.core.display.Markdown object>"
      ]
     },
     "metadata": {},
     "output_type": "display_data"
    },
    {
     "data": {
      "text/markdown": [
       "**From `The Effective Executive-2002.pdf`, Page 17**"
      ],
      "text/plain": [
       "<IPython.core.display.Markdown object>"
      ]
     },
     "metadata": {},
     "output_type": "display_data"
    },
    {
     "data": {
      "text/markdown": [
       "**(`text-embedding-3-large`** , Similarity Distance: 0.4134)"
      ],
      "text/plain": [
       "<IPython.core.display.Markdown object>"
      ]
     },
     "metadata": {},
     "output_type": "display_data"
    },
    {
     "name": "stdout",
     "output_type": "stream",
     "text": [
      ".  It takes his knowledge and uses it as the resource, the motivation, and the vision of  other\n",
      "knowledge workers. Knowledge workers are rarely in phase with each other,  precisely because they\n",
      "are knowledge workers. Each has his own skill and his own  concerns. One man may be interested in\n",
      "tax accounting or in bacteriology, or in training  and developing tomorrow’s key administrators in\n",
      "the city government\n",
      "--------------------------------------------------------------------------------\n"
     ]
    },
    {
     "data": {
      "text/markdown": [
       "**From `The Daily Drucker-2004.pdf`, Page 12**"
      ],
      "text/plain": [
       "<IPython.core.display.Markdown object>"
      ]
     },
     "metadata": {},
     "output_type": "display_data"
    },
    {
     "data": {
      "text/markdown": [
       "**(`all-MiniLM-L6-v2`** , Similarity Distance: 0.4040)"
      ],
      "text/plain": [
       "<IPython.core.display.Markdown object>"
      ]
     },
     "metadata": {},
     "output_type": "display_data"
    },
    {
     "name": "stdout",
     "output_type": "stream",
     "text": [
      ". Steve had the idea for The Daily Drucker. Leah Spiro provided detailed advice and support in\n",
      "writing the book. I am especially grateful for the help Leah provided in reviewing each reading and\n",
      "helping to draft the Action Points. Ceci Hunt copyedited the manuscript. I am grateful both for her\n",
      "skill and hard work. I also owe a debt of gratitude to Diane Aronson, copy chief, and to Knox Huston\n",
      "of HarperCollins for their help in preparing this book\n",
      "====================================================================================================\n"
     ]
    }
   ],
   "source": [
    "# Perform similarity search using two different embedding models\n",
    "# Compare retrieval results from both vector stores\n",
    "\n",
    "# Retrieve the top 3 most relevant documents using `text-embedding-3-large`\n",
    "book_data_results1 = book_data_vector_store.similarity_search_with_score(query=question, k=3)\n",
    "\n",
    "# Retrieve the top 3 most relevant documents using Hugging Face's `all-MiniLM-L6-v2`\n",
    "book_data_results2 = book_data_vector_store_HF.similarity_search_with_score(query=question, k=3)\n",
    "\n",
    "# Iterate through both result sets simultaneously\n",
    "for i, ((doc1, score1), (doc2, score2)) in enumerate(zip(book_data_results1, book_data_results2), start=1):\n",
    "    display(Markdown(f\"## Result {i}\"))\n",
    "\n",
    "    for model_name, doc, score in [\n",
    "        (\"text-embedding-3-large\", doc1, score1), \n",
    "        (\"all-MiniLM-L6-v2\", doc2, score2)\n",
    "    ]:\n",
    "        display(Markdown(f\"**From `{doc.metadata['source']}`, Page {doc.metadata['page']}**\"))\n",
    "        display(Markdown(f\"**(`{model_name}`** , Similarity Distance: {score:.4f})\"))\n",
    "        print(textwrap.fill(doc.page_content, width=100))\n",
    "        print(\"-\" * 80 if model_name == \"text-embedding-3-large\" else \"=\" * 100)  # Separator between models\n"
   ]
  }
 ],
 "metadata": {
  "kernelspec": {
   "display_name": "genai_class_venv",
   "language": "python",
   "name": "python3"
  },
  "language_info": {
   "codemirror_mode": {
    "name": "ipython",
    "version": 3
   },
   "file_extension": ".py",
   "mimetype": "text/x-python",
   "name": "python",
   "nbconvert_exporter": "python",
   "pygments_lexer": "ipython3",
   "version": "3.11.4"
  }
 },
 "nbformat": 4,
 "nbformat_minor": 2
}
